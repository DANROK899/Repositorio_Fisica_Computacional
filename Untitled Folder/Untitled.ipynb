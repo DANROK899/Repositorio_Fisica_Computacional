{
 "cells": [
  {
   "cell_type": "code",
   "execution_count": 3,
   "id": "95733a74",
   "metadata": {},
   "outputs": [
    {
     "name": "stdout",
     "output_type": "stream",
     "text": [
      "Numerical result: 0.04571428571428572\n",
      "Exact fraction: (3294061441733849, 72057594037927936)\n"
     ]
    }
   ],
   "source": [
    "import numpy as np\n",
    "import math as mt\n",
    "\n",
    "from scipy.integrate import quad\n",
    "\n",
    "def integrand(x):\n",
    "    return (x**3 - (3/5)*x)**2\n",
    "\n",
    "result, error = quad(integrand, -1, 1)\n",
    "print(f\"Numerical result: {result}\")\n",
    "print(f\"Exact fraction: {result.as_integer_ratio()}\")"
   ]
  },
  {
   "cell_type": "code",
   "execution_count": null,
   "id": "6237c6b9",
   "metadata": {},
   "outputs": [],
   "source": []
  }
 ],
 "metadata": {
  "kernelspec": {
   "display_name": "Python 3 (ipykernel)",
   "language": "python",
   "name": "python3"
  },
  "language_info": {
   "codemirror_mode": {
    "name": "ipython",
    "version": 3
   },
   "file_extension": ".py",
   "mimetype": "text/x-python",
   "name": "python",
   "nbconvert_exporter": "python",
   "pygments_lexer": "ipython3",
   "version": "3.10.12"
  }
 },
 "nbformat": 4,
 "nbformat_minor": 5
}
