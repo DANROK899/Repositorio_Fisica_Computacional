{
 "cells": [
  {
   "cell_type": "markdown",
   "id": "24cc3977-68d0-4bcc-991b-94477bc35700",
   "metadata": {},
   "source": [
    "# EJERCICIO 4"
   ]
  },
  {
   "cell_type": "code",
   "execution_count": 3,
   "id": "cb911a33-2a8e-44c2-ad19-82d5742ac88d",
   "metadata": {},
   "outputs": [
    {
     "name": "stdout",
     "output_type": "stream",
     "text": [
      "z\t\terf(z)\n",
      "--------------------\n",
      "1.8\t\t0.989091\n",
      "1.81\t\t0.989525\n",
      "1.82\t\t0.989943\n",
      "1.83\t\t0.990347\n",
      "1.84\t\t0.990736\n",
      "1.85\t\t0.991111\n"
     ]
    }
   ],
   "source": [
    "import math\n",
    "\n",
    "# Calcular función error\n",
    "def calcular_erf(z):\n",
    "    return math.erf(z)\n",
    "\n",
    "# Ejemplos de uso\n",
    "valores = [1.8, 1.81, 1.82, 1.83, 1.84, 1.85]\n",
    "print(\"z\\t\\terf(z)\")\n",
    "print(\"-\" * 20)\n",
    "for x in valores:\n",
    "    print(f\"{x}\\t\\t{calcular_erf(x):.6f}\")"
   ]
  },
  {
   "cell_type": "code",
   "execution_count": 22,
   "id": "563d7bbd-81fb-4ae0-bebb-3ea642caff79",
   "metadata": {},
   "outputs": [
    {
     "name": "stdout",
     "output_type": "stream",
     "text": [
      "z\t\terf(z)\n",
      "--------------------\n",
      "1.8214\t\t0.990001\n",
      "1.82139\t\t0.990000\n",
      "1.82138\t\t0.990000\n",
      "1.82137\t\t0.989999\n",
      "1.82136\t\t0.989999\n",
      "1.82135\t\t0.989999\n"
     ]
    }
   ],
   "source": [
    "import math\n",
    "\n",
    "# Calcular función error\n",
    "def calcular_erf(z):\n",
    "    return math.erf(z)\n",
    "\n",
    "# Ejemplos de uso\n",
    "valores = [1.82140, 1.82139, 1.82138, 1.82137, 1.82136, 1.82135]\n",
    "print(\"z\\t\\terf(z)\")\n",
    "print(\"-\" * 20)\n",
    "for x in valores:\n",
    "    print(f\"{x}\\t\\t{calcular_erf(x):.6f}\")"
   ]
  },
  {
   "cell_type": "markdown",
   "id": "90acd316-e27a-4f24-9d9a-87543b014341",
   "metadata": {},
   "source": [
    "# EJERCICIO 5"
   ]
  },
  {
   "cell_type": "code",
   "execution_count": 14,
   "id": "23f720f9-c28c-4aa0-a404-452be47ced4c",
   "metadata": {},
   "outputs": [
    {
     "name": "stdout",
     "output_type": "stream",
     "text": [
      "z\t\terf(z)\n",
      "--------------------\n",
      "0.7\t\t0.677801\n",
      "0.71\t\t0.684666\n",
      "0.72\t\t0.691433\n",
      "0.73\t\t0.698104\n",
      "0.74\t\t0.704678\n",
      "0.75\t\t0.711156\n"
     ]
    }
   ],
   "source": [
    "import math\n",
    "\n",
    "# Calcular función error\n",
    "def calcular_erf(z):\n",
    "    return math.erf(z)\n",
    "\n",
    "# Ejemplos de uso\n",
    "valores = [0.7, 0.71, 0.72, 0.73, 0.74, 0.75]\n",
    "print(\"z\\t\\terf(z)\")\n",
    "print(\"-\" * 20)\n",
    "for x in valores:\n",
    "    print(f\"{x}\\t\\t{calcular_erf(x):.6f}\")"
   ]
  },
  {
   "cell_type": "code",
   "execution_count": 16,
   "id": "85af455e-952e-435f-b596-e551c44ed7b7",
   "metadata": {},
   "outputs": [
    {
     "name": "stdout",
     "output_type": "stream",
     "text": [
      "z\t\terf(z)\n",
      "--------------------\n",
      "0.7141\t\t0.687452\n",
      "0.7142\t\t0.687520\n",
      "0.7143\t\t0.687587\n",
      "0.7144\t\t0.687655\n",
      "0.7145\t\t0.687723\n",
      "0.7146\t\t0.687791\n"
     ]
    }
   ],
   "source": [
    "import math\n",
    "\n",
    "# Calcular función error\n",
    "def calcular_erf(z):\n",
    "    return math.erf(z)\n",
    "\n",
    "# Ejemplos de uso\n",
    "valores = [0.7141, 0.7142, 0.7143, 0.7144, 0.7145, 0.7146]\n",
    "print(\"z\\t\\terf(z)\")\n",
    "print(\"-\" * 20)\n",
    "for x in valores:\n",
    "    print(f\"{x}\\t\\t{calcular_erf(x):.6f}\")"
   ]
  },
  {
   "cell_type": "code",
   "execution_count": null,
   "id": "47a20b18-5763-4bd8-b146-424a3206385a",
   "metadata": {},
   "outputs": [],
   "source": []
  }
 ],
 "metadata": {
  "kernelspec": {
   "display_name": "Python [conda env:base] *",
   "language": "python",
   "name": "conda-base-py"
  },
  "language_info": {
   "codemirror_mode": {
    "name": "ipython",
    "version": 3
   },
   "file_extension": ".py",
   "mimetype": "text/x-python",
   "name": "python",
   "nbconvert_exporter": "python",
   "pygments_lexer": "ipython3",
   "version": "3.13.5"
  }
 },
 "nbformat": 4,
 "nbformat_minor": 5
}
