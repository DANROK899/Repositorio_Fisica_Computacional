{
 "cells": [
  {
   "cell_type": "markdown",
   "id": "8207e050-ef37-4e7d-ae0d-4982b30b2a5d",
   "metadata": {},
   "source": [
    "# Fundamentos Teóricos del Circuito\n",
    "\n",
    "El puente H es un convertidor electrónico de potencia que permite el control bidireccional de motores de corriente continua mediante la conmutación estratégica de cuatro elementos de potencia. Su operación se basa en la aplicación secuencial de voltaje de polaridad invertida a los terminales del motor, logrando así el control de dirección y frenado.a."
   ]
  },
  {
   "cell_type": "markdown",
   "id": "84f34de2-7343-462e-b12a-87e578c4200f",
   "metadata": {},
   "source": [
    "## ⚙️ **Nomenclatura y descripción de parámetros**\n",
    "\n",
    "| Símbolo               | Nombre completo                      | Cómo se pronuncia / se dice                   | Significado o descripción                                                         |\n",
    "| --------------------- | ------------------------------------ | --------------------------------------------- | --------------------------------------------------------------------------------- |\n",
    "| **($I_B$)**             | Corriente de base                    | “i sub be” o “corriente de base”              | Corriente que entra a la base del transistor.                                     |\n",
    "| **($I_C$)**             | Corriente de colector                | “i sub ce” o “corriente de colector”          | Corriente que circula por el colector del transistor.                             |\n",
    "| **($I_{C_{sat}}$)**       | Corriente de colector en saturación  | “i ce sat” o “corriente de colector saturada” | Corriente máxima que el transistor conduce cuando está saturado.                  |\n",
    "| **($h_{FE}$)**          | Ganancia de corriente en continua    | “h efe e” o “beta DC”                         | Relación entre (I_C) y (I_B) en la región activa: (h_{FE} = \\frac{I_C}{I_B}).     |\n",
    "| **($h_{FE(sat)}$)**     | Ganancia en saturación               | “h efe e sat”                                 | Ganancia efectiva cuando el transistor está saturado ((I_C / I_B) en saturación). |\n",
    "| **($R_B$)**             | Resistencia de base                  | “erre be” o “resistencia de base”             | Resistencia limitadora de la corriente de base.                                   |\n",
    "| **($V_{CC}$)**          | Tensión de alimentación              | “uve ce ce” o “voltaje de alimentación”       | Voltaje positivo principal del circuito (fuente).                                 |\n",
    "| **($V_{BE}$)**          | Tensión base–emisor                  | “uve be e” o “voltaje base-emisor”            | Diferencia de potencial entre base y emisor.                                      |\n",
    "| **($V_{CE}$)**          | Tensión colector–emisor              | “uve ce e” o “voltaje colector-emisor”        | Caída de tensión entre colector y emisor.                                         |\n",
    "| **($Q_1), (Q_2$)**      | Transistores (etapa 1, etapa 2)      | “cu uno”, “cu dos”                            | Identifican los transistores en un Darlington o en un circuito con varias etapas. |\n",
    "| **($P_{transistor}$)**  | Potencia disipada en el transistor   | “pe transistor”                               | Potencia convertida en calor: (P = V_{CE} \\times I_C).                            |\n",
    "| **($P_{diodo}$)**       | Potencia disipada en el diodo        | “pe diodo”                                    | Potencia disipada en el diodo: (P = V_f \\times I_d).                              |\n",
    "| **($V_f$)**             | Caída directa del diodo              | “uve efe” o “voltaje directo del diodo”       | Tensión entre ánodo y cátodo cuando conduce (≈0.7 V Si, 0.3 V Ge, 2 V LED).       |\n",
    "| **($I_{pico}$)**        | Corriente de pico                    | “i pico”                                      | Corriente máxima instantánea durante un ciclo o pulso.                            |\n",
    "| **Duty Cycle (D)**    | Ciclo de trabajo                     | “duti saicl” o “ciclo de trabajo”             | Proporción de tiempo que la señal está activa: (D = t_{on}/T).                    |\n",
    "| **($P_{Resistencia}$)** | Potencia disipada en una resistencia | “pe resistencia”                              | (P = I^2 R = V^2 / R).                                                            |\n",
    "| **($I^2$)**             | Corriente al cuadrado                | “i al cuadrado”                               | Se usa en expresiones de potencia ((P = I^2 R)).                                  |\n",
    "| **($\\eta$)**            | Eficiencia del sistema               | “eta” o “eficiencia”                          | Relación entre potencia útil y total: (\\eta = \\frac{P_{util}}{P_{total}}).        |\n",
    "| **($P_{util}$)**        | Potencia útil o de salida            | “pe útil”                                     | Potencia realmente entregada a la carga.                                          |\n",
    "| **($P_{total}$)**       | Potencia total consumida             | “pe total”                                    | Potencia total entregada por la fuente.                                           |\n",
    "\n",
    "  * $\\eta$ = eficiencia,\n",
    "  * $\\alpha$ = ganancia de corriente en configuración base común,\n",
    "  * $\\beta$ = hFE (ganancia base común–emisor)."
   ]
  },
  {
   "cell_type": "markdown",
   "id": "6cecded4-ea8f-487e-8b84-27c3b7245fb4",
   "metadata": {},
   "source": [
    "## Cálculo de un Motor de 1A\n",
    "En este caso se podria considerar para fines practicos un motor de 1A motores comunes en el uso de impresoras 3D, donde los posibles picos inversos que genere, no dañen el circuito con esos diodos.\n",
    "\n",
    "El transistor TIP120 es un configuración NPN que requiere análisis específico. \n",
    "Donde necesitamos asegurar la saturacion por lo que para $I_B$(corriente de la base) tenemos el valor de $I_C$(corriente del colector) del motor, y la hFE (ganancia de corriente continua) segun la datasheet del componente es 1000 minimo y un tipico de 2500\n",
    "Ahora bien, para ganancias en saturacion, podemos calcular con los datos de prueba del mismo datasheet, donde $\\frac{I_C}{I_B} = \\frac{3A}{12mA} = 250$\n",
    "$$I_B = \\frac{I_C}{hFE_{sat}} = \\frac{1A}{250} = 4mA$$\n",
    "\n",
    "Y la resistencia en la base se calcula con \n",
    "$R_B = \\frac{V_{CC}-V_{BE}}{I_B}$\n",
    "\n",
    "El valor de $V_{BE} = 2.5$ como valor tipico a $I_C = 3A$, $V_{CE} = 3V$ en la datasheet, pero igual se puede calcular con la suma de la caida de ambos transistores NPN en cascada que tiene el TIP120, que tipicamente suelen ser como Q1 = 0.6-0.7, y Q2 = 1.6-1.8 V, tomando los mas altos\n",
    "$$V_{BE} = V_{BE_1} + V_{BE_2} = 0.7V + 1.8V = 2.5V$$\n",
    "\n",
    "$$\\Rightarrow R_B = \\frac{12V - 2.5V}{4mA} = 2325Ω$$\n",
    "\n",
    "Cuyo valor comercial comun suele ser de 2.2kΩ valor que podemos usar para $R_1, R_2, R_3$ y $R_4$\n",
    "\n",
    "La corriente de base real con estas resistencias tambien se puede calcular:\n",
    "\n",
    "$$I_B = \\frac{V_{CC} - V_{BE}}{R_B} = \\frac{12V - 2.5V}{2.2kΩ} = 4.32mA$$"
   ]
  },
  {
   "cell_type": "markdown",
   "id": "e4bd6ea3-cea0-4a14-b158-7ad1ddb501cf",
   "metadata": {},
   "source": [
    "Este tipo de circuitos lo que hace es permitir pasar corriente en 2 direcciones al presionar un pulsador activando pares de transistores que funcionan como compuertas\n",
    "Por ejemplo Direccion 1: Entran los 12V, pasan por la R1, llegan al TIP120 superior izquierdo, llega al motor, pasa al TIP120 inferior derecho, pasa al R4 y a Tierra\n",
    "Y en la Direccion 2: 12V hacia R3, TIP120 superior derecho, motor, TIP120 inferior izquiedo, R2 y a tierra"
   ]
  },
  {
   "cell_type": "markdown",
   "id": "d7772f6f-f52d-47fd-9d60-69f3c54da93a",
   "metadata": {},
   "source": [
    "Entonces para verificar la sturacion con el valor ya real de $I_B$, podemos verificar la corriente del colector en saturacion\n",
    "$$I_{Csat} = hFE_{sat} \\times I_B = 250 \\times 4.32mA = 1.08 A > 1 A$$ \n",
    "\n",
    "y  el margen de seguridad = $\\frac{1.08A - 1A}{1A \\times 100\\%} = 8% $"
   ]
  },
  {
   "cell_type": "markdown",
   "id": "2c5f07c5-3b5d-415e-b8dc-59ac528f85ab",
   "metadata": {},
   "source": [
    "Tambien existen valores importantes a la hora de considerar un puente H real y no simulado como lo son las perdidas\n",
    "Perdida en transistores\n",
    "$$V_{CE(sat)} ≈ 1.8V$$\n",
    "\n",
    "$$P_{transistor} = V_{CE(sat)} × I_C = 1.8V × 1A = 1.8W $$\n",
    "por transistor"
   ]
  },
  {
   "cell_type": "markdown",
   "id": "2d125ff4-692e-40a5-8a4e-5b1e50c5fabb",
   "metadata": {},
   "source": [
    "$$P_{diodo} = Vf × I_{pico} × Duty_{cycle} ≈ 1.0V × 1A × 0.1 = 0.1W$$"
   ]
  },
  {
   "cell_type": "markdown",
   "id": "dce6d4f7-b373-4964-8da5-7a0155f81b5e",
   "metadata": {},
   "source": [
    "$$P_{resistencia} = I² × R = (0.00423)² × 2200 = 0.039W$$"
   ]
  },
  {
   "cell_type": "markdown",
   "id": "3686c221-fff2-42c6-ba95-6ce4dddeecda",
   "metadata": {},
   "source": [
    "O la eficiencia de nuestro sistema calculado como $η = \\frac{V_{moto}}{P_{total}} × 100\\%$\n",
    "Y calculamos \n",
    "$$V_{motor} = 12V - 2 × V_{CE(sat)} = 12V - 2 × 1.8V = 8.4V$$\n",
    "La potencia util\n",
    "$$P_{util} = V_{motor} × I_C = 8.4V × 1A = 8.4W$$\n",
    "Potencia total\n",
    "$$P_{total} = V_{fuente} × I_C = 12V × 1A = 12W$$\n",
    "\n",
    "Por lo que la eficiencia sera\n",
    "$$η = \\frac{8.4W}{12W} × 100\\% = 70\\%$$"
   ]
  },
  {
   "cell_type": "code",
   "execution_count": null,
   "id": "c4077731-8efc-4026-8a08-149713f0081c",
   "metadata": {},
   "outputs": [],
   "source": []
  }
 ],
 "metadata": {
  "kernelspec": {
   "display_name": "Python [conda env:base] *",
   "language": "python",
   "name": "conda-base-py"
  },
  "language_info": {
   "codemirror_mode": {
    "name": "ipython",
    "version": 3
   },
   "file_extension": ".py",
   "mimetype": "text/x-python",
   "name": "python",
   "nbconvert_exporter": "python",
   "pygments_lexer": "ipython3",
   "version": "3.13.5"
  }
 },
 "nbformat": 4,
 "nbformat_minor": 5
}
