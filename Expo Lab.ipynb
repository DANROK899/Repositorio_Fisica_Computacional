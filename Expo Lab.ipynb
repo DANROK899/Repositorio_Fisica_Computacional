{
 "cells": [
  {
   "cell_type": "markdown",
   "id": "10ccb988-b178-40d2-8431-ad8dd3156ced",
   "metadata": {},
   "source": [
    "# Exposición: El Puente H\n",
    "## Laboratorio de Electronica"
   ]
  },
  {
   "cell_type": "markdown",
   "id": "fcb0227d-7726-475e-91b0-875a2ac69826",
   "metadata": {},
   "source": [
    "### Funcionamiento del Circuito Puente H\n",
    "\n",
    "El puente H es un circuito electrónico diseñado para controlar la dirección de giro de motores de corriente continua. Su nombre deriva de la configuración característica que forman sus cuatro elementos de conmutación, dispuestos en una topología que asemeja la letra H, con el motor ubicado en la barra central.\n",
    "\n",
    "La operación básica se fundamenta en cuatro estados principales. En el primer estado, para el giro en sentido horario, se activan los transistores superior izquierdo e inferior derecho. Esto establece una ruta de corriente desde la fuente de alimentación, a través del transistor superior, el motor de izquierda a derecha, el transistor inferior y finalmente a tierra. El resultado es un movimiento rotacional en un sentido específico.\n",
    "\n",
    "El segundo estado, para giro antihorario, se logra activando los transistores superior derecho e inferior izquierdo. La corriente ahora fluye en dirección opuesta a través del motor, invirtiendo su sentido de rotación. Esta capacidad de invertir la polaridad aplicada al motor es la característica fundamental del puente H.\n",
    "\n",
    "Existen dos modos de frenado. El frenado dinámico ocurre cuando se activan simultáneamente ambos transistores superiores o ambos inferiores, cortocircuitando los terminales del motor y disipando rápidamente su energía cinética. El modo de alta impedancia se establece cuando todos los transistores permanecen en estado de corte, permitiendo que el motor se detenga gradualmente por fricción natural.\n",
    "\n",
    "Un estado crítico que debe evitarse mediante diseño de circuito es el cortocircuito de fuente, que ocurre cuando se activan simultáneamente dos transistores en la misma columna vertical, creando un camino de baja resistencia directamente entre la fuente y tierra."
   ]
  },
  {
   "cell_type": "markdown",
   "id": "8b0d8926-2075-460b-807e-c9de73d3ecb3",
   "metadata": {},
   "source": [
    "### Aplicaciones Prácticas\n",
    "\n",
    "Las aplicaciones del puente H son extensas en sistemas de control electromecánico. En robótica móvil permite el control direccional de plataformas con ruedas, facilitando movimientos forward, reverse y giros sobre el eje. Los sistemas de posicionamiento utilizan puentes H para controlar actuadores lineales y servomecanismos. En electrónica de potencia, constituyen la base de inversores DC-AC y convertidores de conmutación. La combinación con modulación por ancho de pulso permite control de velocidad variable además de dirección.\n",
    "\n",
    "### Desarrollo Matemático Detallado\n",
    "\n",
    "Análisis de Corriente de Base para Transistores TIP120\n",
    "\n",
    "La saturación adecuada de los transistores Darlington TIP120 requiere el cálculo preciso de la corriente de base. Partiendo del modelo del transistor Darlington:\n",
    "\n",
    "$$V_{BE} = V_{BE1} + V_{BE2} ≈ 1.4V + 1.4V = 2.8V$$\n",
    "\n",
    "La corriente de base necesaria para saturación se determina por:\n",
    "$$I_B = \\frac{V_{CC} - V_{BE}}{R_B} = \\frac{12V - 2.8V}{1000Ω} = 9.2mA$$\n",
    "\n",
    "Verificación de condición de saturación:\n",
    "$$I_{C(sat)} = \\frac{V_{CC} - V_{CE(sat)}}{R_{carga}}$$\n",
    "Considerando $V_{CE(sat)}$ ≈ 1.5V para el TIP120:\n",
    "$$I_C(sat) = \\frac{12V - 1.5V}{R_{motor}}$$\n",
    "\n",
    "Para un motor típico de 12V con resistencia de armadura de 4Ω:\n",
    "$$I_{C(sat)} = \\frac{10.5V}{4Ω} = 2.625A$$\n",
    "\n",
    "La ganancia mínima requerida es:\n",
    "$$h_{FE(min)} = I_C(sat) / I_B = 2.625A / 0.0092A ≈ 285$$\n",
    "\n",
    "El TIP120 tiene h_FE típico de 1000, por lo tanto el transistor satura correctamente.\n",
    "\n",
    "Análisis de Disipación de Potencia\n",
    "\n",
    "La potencia disipada en los transistores durante conducción es:\n",
    "$$P_{CONDUCCIÓN} = I_C² × R_CE(sat) + I_B × V_BE$$\n",
    "$$P_{CONDUCCIÓN} = (2.625A)² × 0.15Ω + 0.0092A × 2.8V ≈ 1.03W + 0.026W = 1.056W$$\n",
    "\n",
    "Durante conmutación, la potencia instantánea puede alcanzar:\n",
    "$$P_{PICO} = V_CE × I_C = 12V × 2.625A = 31.5W$$\n",
    "\n",
    "Cálculo de Resistencias Pull-Down\n",
    "\n",
    "Para las resistencias R5 y R6 en configuración pull-down:\n",
    "$$I_{LEAKAGE} = 1mA (\\text{corriente de fuga máxima TIP120})$$\n",
    "$$R_{PULLDOWN} = V_BE / I_{LEAKAGE} = 2.8V / 0.001A = 2.8kΩ$$\n",
    "\n",
    "Se selecciona 10kΩ para mayor seguridad, proporcionando:\n",
    "$$I_PULLDOWN = 2.8V / 10000Ω = 0.28mA$$\n",
    "\n",
    "Análisis Térmico\n",
    "\n",
    "La resistencia térmica junction-to-ambiente para el TIP120 sin disipador es 62.5°C/W.\n",
    "El aumento de temperatura en operación continua:\n",
    "$$ΔT = P_TOTAL × R_th_JA = 1.056W × 62.5°C/W ≈ 66°C$$\n",
    "\n",
    "Con temperatura ambiente de 25°C:\n",
    "$$T_JUNCTION = 25°C + 66°C = 91°C (\\text{dentro de especificaciones})$$\n",
    "\n",
    "Para operación con disipador, se requiere:\n",
    "$$R_th_SA = (T_J_MAX - T_AMBIENTE) / P_TOTAL - R_th_JC - R_th_CS$$\n",
    "$$R_th_SA = (150°C - 25°C) / 1.056W - 1.92°C/W - 0.5°C/W ≈ 116°C/W$$\n",
    "\n",
    "Cálculo de Diodos de Protección\n",
    "\n",
    "Los diodos 1N4004 deben soportar la corriente inversa durante el pico de fem:\n",
    "$$I_FSM(1N4004) = 30A (\\text{corriente surge máxima})$$\n",
    "$$V_RRM = 400V (\\text{voltaje inverso repetitivo})$$\n",
    "\n",
    "La energía disipada durante la conmutación:\n",
    "$$E = ½ × L_MOTOR × I²$$\n",
    "Para L_MOTOR = 10mH, I = 2.625A:\n",
    "$$E = 0.5 × 0.01H × (2.625A)² ≈ 0.0344 \\text{joules}$$\n",
    "\n",
    "Este análisis matemático completo garantiza que el diseño del puente H con componentes especificados operará dentro de parámetros seguros y eficientes para el control de motores DC de mediana potencia."
   ]
  },
  {
   "cell_type": "code",
   "execution_count": null,
   "id": "80291d51-ad91-4f35-9e5d-686bb75ad4a7",
   "metadata": {},
   "outputs": [],
   "source": []
  }
 ],
 "metadata": {
  "kernelspec": {
   "display_name": "Python 3 (ipykernel)",
   "language": "python",
   "name": "python3"
  },
  "language_info": {
   "codemirror_mode": {
    "name": "ipython",
    "version": 3
   },
   "file_extension": ".py",
   "mimetype": "text/x-python",
   "name": "python",
   "nbconvert_exporter": "python",
   "pygments_lexer": "ipython3",
   "version": "3.13.7"
  }
 },
 "nbformat": 4,
 "nbformat_minor": 5
}
