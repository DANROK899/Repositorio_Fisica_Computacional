{
 "cells": [
  {
   "cell_type": "markdown",
   "id": "dc2b42e1-e2ed-4f78-aee7-725614f9957a",
   "metadata": {},
   "source": [
    "Ejercicio 1"
   ]
  },
  {
   "cell_type": "markdown",
   "id": "d549a5d8-4c3e-46d5-bdb3-5f8fc8726325",
   "metadata": {},
   "source": [
    "Caida de una pelota desde una torre:"
   ]
  },
  {
   "cell_type": "markdown",
   "id": "832c8a60-a062-48fe-910a-b367585b8e5b",
   "metadata": {},
   "source": [
    "Se deja caer una pelota desde una torre de altura $h$. Tiene velocidad inicial cero y acelera hacia abajo por la accion de la gravedad.\n",
    "\n",
    "Escrube un programa que le pida al usuario que ingrese la altura en metros de la torre y luego calcule e imprima el tiempo en segundos hasta que la pelota toque el suelo (recuerda que el aire no existe).\n",
    "\n",
    "Despues, usa tu programa para calcular el tiempo de una pelota lanzada desde una torre de $100m$ de altura"
   ]
  },
  {
   "cell_type": "markdown",
   "id": "464a252d-e458-41b3-9993-6bd7d7c98c88",
   "metadata": {},
   "source": [
    "$$\n",
    "t = \\sqrt{\\frac{2h}{8}}\n",
    "$$"
   ]
  },
  {
   "cell_type": "code",
   "execution_count": 12,
   "id": "58442d12-5534-4ffb-a839-8c8b5ca51fc5",
   "metadata": {},
   "outputs": [],
   "source": [
    "import math as mt"
   ]
  },
  {
   "cell_type": "code",
   "execution_count": 13,
   "id": "2a23c884-69e3-4a64-b50e-5a2bd4cfb73e",
   "metadata": {},
   "outputs": [],
   "source": [
    "#Definimos constantes\n",
    "g = 9.806 #m/s²"
   ]
  },
  {
   "cell_type": "code",
   "execution_count": 48,
   "id": "2bc42f58-31f3-4f11-bb9f-ca340c997dae",
   "metadata": {},
   "outputs": [
    {
     "name": "stdout",
     "output_type": "stream",
     "text": [
      "100.0\n"
     ]
    }
   ],
   "source": [
    "def Tiempo(h):\n",
    "    t = mt.sqrt(2*h/g)\n",
    "    return t\n",
    "print(t)"
   ]
  },
  {
   "cell_type": "code",
   "execution_count": 36,
   "id": "3ef97c2b-87e8-430e-8a63-6330cf8604e7",
   "metadata": {},
   "outputs": [
    {
     "name": "stdin",
     "output_type": "stream",
     "text": [
      "Ingresa el Tiempo:  100\n"
     ]
    },
    {
     "ename": "NameError",
     "evalue": "name 'h' is not defined",
     "output_type": "error",
     "traceback": [
      "\u001b[0;31m---------------------------------------------------------------------------\u001b[0m",
      "\u001b[0;31mNameError\u001b[0m                                 Traceback (most recent call last)",
      "Cell \u001b[0;32mIn[36], line 11\u001b[0m\n\u001b[1;32m      9\u001b[0m     t \u001b[38;5;241m=\u001b[39m \u001b[38;5;241m0\u001b[39m \n\u001b[1;32m     10\u001b[0m \u001b[38;5;28;01melse\u001b[39;00m:\n\u001b[0;32m---> 11\u001b[0m     t \u001b[38;5;241m=\u001b[39m mt\u001b[38;5;241m.\u001b[39msqrt(\u001b[38;5;241m2\u001b[39m\u001b[38;5;241m*\u001b[39m\u001b[43mh\u001b[49m\u001b[38;5;241m/\u001b[39mg)\n\u001b[1;32m     13\u001b[0m \u001b[38;5;28mprint\u001b[39m(\u001b[38;5;124mf\u001b[39m\u001b[38;5;124m\"\u001b[39m\u001b[38;5;130;01m\\n\u001b[39;00m\u001b[38;5;124mEl tiempo que tarda es: \u001b[39m\u001b[38;5;132;01m{\u001b[39;00mt\u001b[38;5;132;01m}\u001b[39;00m\u001b[38;5;124m\"\u001b[39m)\n",
      "\u001b[0;31mNameError\u001b[0m: name 'h' is not defined"
     ]
    }
   ],
   "source": [
    "#Funciones\n",
    "\n",
    "#Pregunta\n",
    "t = float(input(\"Ingresa el Tiempo: \"))\n",
    "\n",
    "def Tiempo(h):\n",
    "    t = mt.sqrt(2*h/g)\n",
    "    \n",
    "if t == 0:\n",
    "    t = 0 \n",
    "else:\n",
    "    t = mt.sqrt(2*h/g)\n",
    "\n",
    "print(f\"\\nEl tiempo que tarda es: {t}\")"
   ]
  },
  {
   "cell_type": "code",
   "execution_count": null,
   "id": "7f2e49dc-c67c-4a2a-96a9-d892632b0f87",
   "metadata": {},
   "outputs": [],
   "source": []
  },
  {
   "cell_type": "code",
   "execution_count": null,
   "id": "3a64a084-b510-409a-9273-59c47ea5852a",
   "metadata": {},
   "outputs": [],
   "source": []
  }
 ],
 "metadata": {
  "kernelspec": {
   "display_name": "Python 3 (ipykernel)",
   "language": "python",
   "name": "python3"
  },
  "language_info": {
   "codemirror_mode": {
    "name": "ipython",
    "version": 3
   },
   "file_extension": ".py",
   "mimetype": "text/x-python",
   "name": "python",
   "nbconvert_exporter": "python",
   "pygments_lexer": "ipython3",
   "version": "3.13.7"
  }
 },
 "nbformat": 4,
 "nbformat_minor": 5
}
