{
 "cells": [
  {
   "cell_type": "markdown",
   "id": "12f1327d-c5ea-442f-b3de-e00ff29decc7",
   "metadata": {},
   "source": [
    "# Regla del trapecio"
   ]
  },
  {
   "cell_type": "code",
   "execution_count": 91,
   "id": "350ce40c-204b-4c1d-9464-a5c7d288eec4",
   "metadata": {},
   "outputs": [
    {
     "name": "stdout",
     "output_type": "stream",
     "text": [
      "N = 100: I = 3.329913580314888\n"
     ]
    }
   ],
   "source": [
    "import numpy as np\n",
    "\n",
    "def f(x):\n",
    "    return np.exp(x**5 + 1)\n",
    "\n",
    "def trapecio(f, a, b, N):\n",
    "    h = (b - a) / N\n",
    "    \n",
    "    # Primer término: (f(a) + f(b))/2\n",
    "    base = (f(a) + f(b)) / 2\n",
    "    \n",
    "    suma = 0 #Σf(a+kh) para  k=1 hasta N\n",
    "    for k in range(1, N):\n",
    "        x_k = a + k * h\n",
    "        suma += f(x_k)\n",
    "    \n",
    "    integral = h * (base + suma)\n",
    "    \n",
    "    return integral\n",
    "\n",
    "# Parámetros del problema [0,1]\n",
    "a = 0\n",
    "b = 1\n",
    "\n",
    "# Probar con diferentes valores de N\n",
    "valor_N = [100]\n",
    "\n",
    "for N in valor_N:\n",
    "    resultado = trapecio(f, a, b, N)\n",
    "    print(f\"N = {N}: I = {resultado:}\")"
   ]
  },
  {
   "cell_type": "code",
   "execution_count": 92,
   "id": "e602c34d-7e42-4ff3-8db2-9405fabe45fe",
   "metadata": {},
   "outputs": [
    {
     "name": "stdout",
     "output_type": "stream",
     "text": [
      "N = 1000: I = 333.33350000000013\n"
     ]
    }
   ],
   "source": [
    "#Integrar x**2\n",
    "\n",
    "def f(x):\n",
    "    return (x**2)\n",
    "\n",
    "def trapecio(f, a, b, N):\n",
    "    h = (b - a) / N\n",
    "    \n",
    "    # Primer término: (f(a) + f(b))/2\n",
    "    base = (f(a) + f(b)) / 2\n",
    "    \n",
    "    suma = 0 #Σf(a+kh) para  k=1 hasta N\n",
    "    for k in range(1, N):\n",
    "        x_k = a + k * h\n",
    "        suma += f(x_k)\n",
    "    \n",
    "    integral = h * (base + suma)\n",
    "    \n",
    "    return integral\n",
    "\n",
    "a = 0\n",
    "b = 10\n",
    "\n",
    "# Probar con diferentes valores de N\n",
    "valor_N = [1000]\n",
    "\n",
    "for N in valor_N:\n",
    "    resultado = trapecio(f, a, b, N)\n",
    "    print(f\"N = {N}: I = {resultado:}\")"
   ]
  },
  {
   "cell_type": "markdown",
   "id": "8e0afce2-c768-4773-b0b8-2d7d064ec182",
   "metadata": {},
   "source": [
    "# Regla de Simpson"
   ]
  },
  {
   "cell_type": "code",
   "execution_count": 93,
   "id": "29ce835f-1ab3-4f27-81b6-58d11d71894d",
   "metadata": {},
   "outputs": [
    {
     "name": "stdout",
     "output_type": "stream",
     "text": [
      "N = 100: I = 3.3296059513936243\n"
     ]
    }
   ],
   "source": [
    "import numpy as np\n",
    "\n",
    "def f(x):\n",
    "    return np.exp(x**5 + 1)\n",
    "\n",
    "def simpson(f, a, b, N):\n",
    "    if N % 2 != 0:\n",
    "        N += 1  # Asegurar que N sea par\n",
    "    \n",
    "    h = (b - a) / N\n",
    "    x = np.linspace(a, b, N + 1)\n",
    "    fx = f(x)\n",
    "    \n",
    "    # Aplicar la fórmula de Simpson\n",
    "    suma_impares = np.sum(fx[1:-1:2])  # índices impares: 1, 3, 5, ...\n",
    "    suma_pares = np.sum(fx[2:-1:2])    # índices pares: 2, 4, 6, ...\n",
    "    \n",
    "    integral = (h / 3) * (fx[0] + fx[-1] + 4 * suma_impares + 2 * suma_pares)\n",
    "    return integral\n",
    "\n",
    "# Parámetros del problema [0,1]\n",
    "a = 0\n",
    "b = 1\n",
    "\n",
    "valors_N_simpson = [100]\n",
    "\n",
    "for N in valors_N_simpson:\n",
    "    resultado = simpson(f, a, b, N)\n",
    "    print(f\"N = {N}: I = {resultado:}\")"
   ]
  },
  {
   "cell_type": "code",
   "execution_count": 78,
   "id": "f3333d8e-bd53-459d-9d89-db5a972a7511",
   "metadata": {},
   "outputs": [
    {
     "name": "stdout",
     "output_type": "stream",
     "text": [
      "N = 1000: I = 333.33333333333337\n"
     ]
    }
   ],
   "source": [
    "import numpy as np\n",
    "\n",
    "def f(x):\n",
    "    return x**2\n",
    "\n",
    "def simpson(f, a, b, N):\n",
    "    if N % 2 != 0:\n",
    "        N += 1  # Asegurar que N sea par\n",
    "    \n",
    "    h = (b - a) / N\n",
    "    x = np.linspace(a, b, N + 1)\n",
    "    fx = f(x)\n",
    "    \n",
    "    # Aplicar la fórmula de Simpson\n",
    "    suma_impares = np.sum(fx[1:-1:2])  # índices impares: 1, 3, 5, ...\n",
    "    suma_pares = np.sum(fx[2:-1:2])    # índices pares: 2, 4, 6, ...\n",
    "    \n",
    "    integral = (h / 3) * (fx[0] + fx[-1] + 4 * suma_impares + 2 * suma_pares)\n",
    "    return integral\n",
    "\n",
    "# Parámetros del problema [0,1]\n",
    "a = 0\n",
    "b = 10\n",
    "\n",
    "valors_N_simpson = [1000]\n",
    "\n",
    "for N in valors_N_simpson:\n",
    "    resultado = simpson(f, a, b, N)\n",
    "    print(f\"N = {N}: I = {resultado:}\")"
   ]
  },
  {
   "cell_type": "code",
   "execution_count": 94,
   "id": "a805741c-7016-4d73-b301-83c2afe550db",
   "metadata": {},
   "outputs": [
    {
     "name": "stdout",
     "output_type": "stream",
     "text": [
      "N = 1000: I = 333.33333333333337\n"
     ]
    }
   ],
   "source": [
    "#Integrando x**2\n",
    "\n",
    "def f(x):\n",
    "    return (x**2)\n",
    "\n",
    "def simpson(f, a, b, N):\n",
    "    if N % 2 != 0:\n",
    "        N += 1  # Asegurar que N sea par\n",
    "    \n",
    "    h = (b - a) / N\n",
    "    x = np.linspace(a, b, N + 1)\n",
    "\n",
    "    suma_par = 0\n",
    "    suma_impar = 0\n",
    "\n",
    "    #Suma de terminos pares\n",
    "    for i in range(1, N//2 + 1):\n",
    "        x_par = x[2*i]\n",
    "        suma_par += 2 * f(x_par)\n",
    "\n",
    "    #Suma de terminos impares\n",
    "    for i in range(1, N//2 + 1):\n",
    "        x_impar = x[2*i - 1]\n",
    "        suma_impar += 4 * f(x_impar)\n",
    "\n",
    "    integral = (h/3) * (suma_par + suma_impar + f(x[0]) - f(x[N]))\n",
    "    \n",
    "    return integral\n",
    "\n",
    "a = 0\n",
    "b = 10\n",
    "\n",
    "valors_N_simpson = [1000]\n",
    "\n",
    "for N in valors_N_simpson:\n",
    "    resultado = simpson(f, a, b, N)\n",
    "    print(f\"N = {N}: I = {resultado:}\")"
   ]
  },
  {
   "cell_type": "markdown",
   "id": "358643f2-c31b-4c85-8d8d-8b6b6e8afd29",
   "metadata": {},
   "source": [
    "# Metodo de cuadratura"
   ]
  },
  {
   "cell_type": "code",
   "execution_count": 107,
   "id": "af9dd56e-221c-4508-bdd8-559ec926a13b",
   "metadata": {},
   "outputs": [
    {
     "name": "stdout",
     "output_type": "stream",
     "text": [
      "N = 1 puntos: I = 0.3998933418663416\n",
      "N = 2 puntos: I = 1.190663429614785\n",
      "N = 3 puntos: I = 2.1809260731309132\n",
      "N = 4 puntos: I = 1.915086432491833\n",
      "N = 5 puntos: I = -0.553952087761249\n",
      "N = 6 puntos: I = 1.394424574697368\n",
      "N = 7 puntos: I = 1.3204734672859029\n",
      "N = 8 puntos: I = 1.5164986913200542\n",
      "N = 9 puntos: I = 1.917190905284298\n",
      "N = 10 puntos: I = 1.638141047418208\n"
     ]
    }
   ],
   "source": [
    "import numpy as np\n",
    "from scipy.special import roots_legendre\n",
    "\n",
    "def f(x):\n",
    "    return np.sin(1 / x**2)\n",
    "\n",
    "def cuadratura(f, a, b, N):\n",
    "    \n",
    "    nodos, pesos = roots_legendre(N)\n",
    "    \n",
    "    factor = (b - a) / 2\n",
    "    punto_medio = (a + b) / 2\n",
    "    \n",
    "    suma = 0.0\n",
    "    for i in range(N):\n",
    "        # Transformar nodo u_i al intervalo [a, b]\n",
    "        x_transformado = factor * nodos[i] + punto_medio\n",
    "        # Sumar w_i * f(x_transformado)\n",
    "        suma += pesos[i] * f(x_transformado)\n",
    "    \n",
    "    # Aplicar el factor final\n",
    "    integral = factor * suma\n",
    "    return integral\n",
    "\n",
    "a = 0\n",
    "b = 10\n",
    "puntos = [1, 2, 3, 4, 5, 6, 7, 8, 9, 10]\n",
    "\n",
    "for N in puntos:\n",
    "    resultado = cuadratura(f, a, b, N)\n",
    "    print(f\"N = {N:} puntos: I = {resultado:}\")"
   ]
  },
  {
   "cell_type": "code",
   "execution_count": 98,
   "id": "6375fd40-485d-405e-b969-d24bf8effa92",
   "metadata": {},
   "outputs": [
    {
     "name": "stdout",
     "output_type": "stream",
     "text": [
      "N = 1 puntos: I = 250.0\n",
      "N = 2 puntos: I = 333.33333333333337\n",
      "N = 3 puntos: I = 333.33333333333326\n",
      "N = 4 puntos: I = 333.33333333333337\n",
      "N = 5 puntos: I = 333.33333333333326\n",
      "N = 6 puntos: I = 333.33333333333337\n",
      "N = 7 puntos: I = 333.33333333333337\n",
      "N = 8 puntos: I = 333.3333333333332\n",
      "N = 9 puntos: I = 333.33333333333326\n",
      "N = 10 puntos: I = 333.33333333333314\n"
     ]
    }
   ],
   "source": [
    "#Integrar x**2\n",
    "\n",
    "def f(x):\n",
    "    return (x**2)\n",
    "\n",
    "def cuadratura(f, a, b, N):\n",
    "    \n",
    "    # Obtener nodos (u_i) y pesos (w_i) para N puntos\n",
    "    nodos, pesos = roots_legendre(N)\n",
    "    \n",
    "    # Factor (b-a)/2\n",
    "    factor = (b - a) / 2\n",
    "    # Punto medio (a+b)/2\n",
    "    punto_medio = (a + b) / 2\n",
    "    \n",
    "    suma = 0.0\n",
    "    for i in range(N):\n",
    "        # Transformar nodo u_i al intervalo [a, b]\n",
    "        x_transformado = factor * nodos[i] + punto_medio\n",
    "        # Sumar w_i * f(x_transformado)\n",
    "        suma += pesos[i] * f(x_transformado)\n",
    "    \n",
    "    # Aplicar el factor final\n",
    "    integral = factor * suma\n",
    "    return integral\n",
    "\n",
    "a = 0\n",
    "b = 10\n",
    "puntos = [1, 2, 3, 4, 5, 6, 7, 8, 9, 10]\n",
    "\n",
    "for N in puntos:\n",
    "    resultado = cuadratura(f, a, b, N)\n",
    "    print(f\"N = {N:} puntos: I = {resultado:}\")"
   ]
  },
  {
   "cell_type": "code",
   "execution_count": 103,
   "id": "ca74ae75-a54f-4034-b3f8-03b54c865c44",
   "metadata": {},
   "outputs": [
    {
     "name": "stdout",
     "output_type": "stream",
     "text": [
      "Cuadratura: 333.33333333333337\n"
     ]
    }
   ],
   "source": [
    "import numpy as np\n",
    "\n",
    "def f(x):\n",
    "    return x**2\n",
    "\n",
    "def cuadratura(f, a, b):\n",
    "\n",
    "    # Nodos y pesos para [-1, 1]\n",
    "    nodos = [-1/np.sqrt(3), 1/np.sqrt(3)]\n",
    "    pesos = [1.0, 1.0]\n",
    "    \n",
    "    # Transformar a [a, b]\n",
    "    integral = 0\n",
    "    for i in range(2):\n",
    "        x_transformado = (b - a)/2 * nodos[i] + (a + b)/2\n",
    "        integral += pesos[i] * f(x_transformado)\n",
    "    \n",
    "    return integral * (b - a)/2\n",
    "\n",
    "# Parámetros del problema [0,1]\n",
    "a = 0\n",
    "b = 10\n",
    "\n",
    "# Probar\n",
    "resultado = cuadratura(f, a, b)\n",
    "print(f\"Cuadratura: {resultado}\")"
   ]
  },
  {
   "cell_type": "code",
   "execution_count": 108,
   "id": "223e7075-a078-4b64-bd7b-cbd331765b2b",
   "metadata": {},
   "outputs": [
    {
     "name": "stdout",
     "output_type": "stream",
     "text": [
      "Cuadratura: 0.3044181191395642\n"
     ]
    }
   ],
   "source": [
    "def f(x):\n",
    "    return np.sin(1 / x**2)\n",
    "\n",
    "def cuadratura(f, a, b):\n",
    "\n",
    "    # Nodos y pesos para [-1, 1]\n",
    "    nodos = [-1/np.sqrt(3), 1/np.sqrt(3)]\n",
    "    pesos = [1.0, 1.0]\n",
    "    \n",
    "    # Transformar a [a, b]\n",
    "    integral = 0\n",
    "    for i in range(2):\n",
    "        x_transformado = (b - a)/2 * nodos[i] + (a + b)/2\n",
    "        integral += pesos[i] * f(x_transformado)\n",
    "    \n",
    "    return integral * (b - a)/2\n",
    "\n",
    "# Parámetros del problema [0,1]\n",
    "a = 0\n",
    "b = 1\n",
    "\n",
    "# Probar\n",
    "resultado = cuadratura(f, a, b)\n",
    "print(f\"Cuadratura: {resultado}\")"
   ]
  },
  {
   "cell_type": "markdown",
   "id": "a0f68c42-9abf-49ac-a38b-f16d89198467",
   "metadata": {},
   "source": [
    "## Diferencias centrales"
   ]
  },
  {
   "cell_type": "code",
   "execution_count": null,
   "id": "2661fadb-d660-47e0-aad8-fc6b5cbce2bd",
   "metadata": {},
   "outputs": [],
   "source": [
    "from scipy.special import roots_legendre\n",
    "\n",
    "def Legendre():\n",
    "    p = sp.special.eval_legendre(N)"
   ]
  },
  {
   "cell_type": "markdown",
   "id": "14eb04fb-42d1-47b7-b0ea-25c3c29fbbba",
   "metadata": {},
   "source": [
    "Derivada\n",
    "$$m = \\frac{\\Delta y}{\\Delta x} = \\frac{f(x+h)-f(x)}{h}$$"
   ]
  },
  {
   "cell_type": "markdown",
   "id": "235d2ef0-9828-4d82-a9c2-f67fa5762b38",
   "metadata": {},
   "source": [
    "### Por delante"
   ]
  },
  {
   "cell_type": "code",
   "execution_count": null,
   "id": "ba7c6b68-cc70-4598-b5aa-8590eab4e34f",
   "metadata": {},
   "outputs": [],
   "source": [
    "import numpy as np\n",
    "\n",
    "def fd(x):\n",
    "    f=x**2\n",
    "    return f"
   ]
  },
  {
   "cell_type": "code",
   "execution_count": null,
   "id": "49b19f2e-b7c1-4b59-917d-ce01b1cbede9",
   "metadata": {},
   "outputs": [],
   "source": [
    "h = 1/10\n",
    "x = 10"
   ]
  },
  {
   "cell_type": "code",
   "execution_count": null,
   "id": "2cabd835-19e1-4a4c-a73b-0f33427cf14f",
   "metadata": {},
   "outputs": [],
   "source": [
    "def fd_prima(x):\n",
    "    fd_prima = (f(x + h) - f(x)) / h\n",
    "    return fd_prima"
   ]
  },
  {
   "cell_type": "code",
   "execution_count": null,
   "id": "fcbbd9b8-aa33-45f0-8a79-c0da3ea66291",
   "metadata": {},
   "outputs": [],
   "source": [
    "fd_prima(10)"
   ]
  },
  {
   "cell_type": "markdown",
   "id": "aa053de2-7a3d-4a7f-994b-a56cbc148cbe",
   "metadata": {},
   "source": [
    "### Por detras"
   ]
  },
  {
   "cell_type": "code",
   "execution_count": null,
   "id": "5b10d66d-65da-4b46-94b4-d40099471ff4",
   "metadata": {},
   "outputs": [],
   "source": [
    "def fa(x,h,f):\n",
    "    fa_prima = (f(x) - f(x-h)) / h\n",
    "    return fa"
   ]
  },
  {
   "cell_type": "code",
   "execution_count": null,
   "id": "22d67e78-33ef-4fa4-b013-f8050a51588d",
   "metadata": {},
   "outputs": [],
   "source": [
    "fa_prima(10, 0.1, f)"
   ]
  },
  {
   "cell_type": "markdown",
   "id": "6817870e-5a4b-43fb-9f4d-1de87e9e6e58",
   "metadata": {},
   "source": [
    "### Por el centro"
   ]
  },
  {
   "cell_type": "code",
   "execution_count": null,
   "id": "c88674a3-d669-4b36-bfe6-9cade45476a3",
   "metadata": {},
   "outputs": [],
   "source": [
    "def fc(f,x,h):\n",
    "    fac_prima = (f(x + h/2) - f(x - h/2))"
   ]
  }
 ],
 "metadata": {
  "kernelspec": {
   "display_name": "Python 3 (ipykernel)",
   "language": "python",
   "name": "python3"
  },
  "language_info": {
   "codemirror_mode": {
    "name": "ipython",
    "version": 3
   },
   "file_extension": ".py",
   "mimetype": "text/x-python",
   "name": "python",
   "nbconvert_exporter": "python",
   "pygments_lexer": "ipython3",
   "version": "3.13.7"
  }
 },
 "nbformat": 4,
 "nbformat_minor": 5
}
