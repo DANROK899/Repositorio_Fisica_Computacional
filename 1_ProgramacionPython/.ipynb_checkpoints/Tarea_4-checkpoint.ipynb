{
  "cells": [
    {
      "cell_type": "markdown",
      "metadata": {
        "id": "-xragIOPYOMv"
      },
      "source": [
        "# **Ejercicio 2**\n",
        "Escribe un programa en la que definas dos funciones que realicen lo siguiente:\n",
        "\n",
        "\n",
        "\n",
        "1.   Toma como argumentos un valor flotante y el numero 32 o 64. Entonces devuelve su representación de punto flotante (numeros de máquina) de 32 o 64 bits.\n",
        "\n",
        "\n",
        "\n",
        "\n",
        "\n",
        "\n",
        "\n",
        "\n",
        "\n",
        "\n",
        "\n"
      ]
    },
    {
      "cell_type": "code",
      "execution_count": 26,
      "metadata": {
        "id": "4yv148Scdt2A"
      },
      "outputs": [],
      "source": [
        "import math\n",
        "\n",
        "\n",
        "def convertir_a_maquina(valor_flotante: float, bits: int):\n",
        "    # Verificamos la cantidad de bits y ajustamos los parámetros de exponente y mantisa\n",
        "    if bits == 32:\n",
        "        e = 127\n",
        "        p = 23\n",
        "        exponente_bits = 8\n",
        "    elif bits == 64:\n",
        "        e = 1023\n",
        "        p = 52\n",
        "        exponente_bits = 11\n",
        "    else:\n",
        "        print(\"El número de bits debe ser 32 o 64\")\n",
        "        return None\n",
        "\n",
        "    # Determinamos el signo\n",
        "    if valor_flotante < 0:\n",
        "        signo = 1\n",
        "        valor_flotante = -valor_flotante\n",
        "    else:\n",
        "        signo = 0\n",
        "\n",
        "    # exponente en base 2\n",
        "    if valor_flotante == 0:\n",
        "        exponente = 0  # Exponente para 0 es 0\n",
        "    else:\n",
        "        exponente = math.floor(math.log2(valor_flotante))\n",
        "\n",
        "    exponente_binario = exponente + e\n",
        "\n",
        "    # Normalizamos la mantisa\n",
        "    mantisa = valor_flotante / (2 ** exponente) - 1\n",
        "\n",
        "    exponente_bin_str = f'{exponente_binario:0{exponente_bits}b}'\n",
        "\n",
        "    mantisa_bin_str = \"\"\n",
        "    for _ in range(p):\n",
        "        mantisa *= 2\n",
        "        if mantisa >= 1:\n",
        "            mantisa_bin_str += '1'\n",
        "            mantisa -= 1\n",
        "        else:\n",
        "            mantisa_bin_str += '0'\n",
        "\n",
        "    return f\"{signo} {exponente_bin_str} {mantisa_bin_str}\"\n",
        "\n",
        "def convertir_flotante_a_maquina(valor_flotante: float, bits: int):\n",
        "    numero_maquina = convertir_a_maquina(valor_flotante, bits)\n",
        "    return numero_maquina\n",
        "\n"
      ]
    },
    {
      "cell_type": "code",
      "source": [
        "convertir_flotante_a_maquina(2.7182817459106445,32)\n"
      ],
      "metadata": {
        "colab": {
          "base_uri": "https://localhost:8080/",
          "height": 35
        },
        "id": "Ru6PIHewLxNs",
        "outputId": "cb5fa2eb-1dba-49d7-e97e-465d61327f11"
      },
      "execution_count": 62,
      "outputs": [
        {
          "output_type": "execute_result",
          "data": {
            "text/plain": [
              "'0 10000000 01011011111100001010100'"
            ],
            "application/vnd.google.colaboratory.intrinsic+json": {
              "type": "string"
            }
          },
          "metadata": {},
          "execution_count": 62
        }
      ]
    },
    {
      "cell_type": "code",
      "source": [
        "#cte de Cavendish\n",
        "convertir_flotante_a_maquina(6.6743e-11,32)"
      ],
      "metadata": {
        "colab": {
          "base_uri": "https://localhost:8080/",
          "height": 35
        },
        "id": "4mJUvDSuZjm3",
        "outputId": "d370a432-8fb5-429d-8e80-7f2a3371f6bd"
      },
      "execution_count": 64,
      "outputs": [
        {
          "output_type": "execute_result",
          "data": {
            "text/plain": [
              "'0 01011101 00100101100010011110111'"
            ],
            "application/vnd.google.colaboratory.intrinsic+json": {
              "type": "string"
            }
          },
          "metadata": {},
          "execution_count": 64
        }
      ]
    },
    {
      "cell_type": "markdown",
      "metadata": {
        "id": "9hXgJ4cD7uXf"
      },
      "source": [
        "\n",
        "\n",
        "2.   Toma como argumentos un número de máquina y el número 32 o 64 que representa si es un numero en estándar simple (32 bits) o doble (64 bits). Entonces devuelve su representacion decimal.  "
      ]
    },
    {
      "cell_type": "code",
      "source": [
        "\n",
        "def conversion_maquina_a_flotante(numero_maquina: str, bits: int):\n",
        "\n",
        "    if bits == 32:\n",
        "        e = 127\n",
        "        p = 23\n",
        "    elif bits == 64:\n",
        "        e = 1023\n",
        "        p = 52\n",
        "    else:\n",
        "        print(\"El número de bits no es válido\")\n",
        "        return None\n",
        "\n",
        "\n",
        "    # Separamos el número de máquina en partes\n",
        "\n",
        "    partes = numero_maquina.split()\n",
        "    signo = int(partes[0])\n",
        "    exponente = int(partes[1], 2) - e\n",
        "    mantisa = partes[2]\n",
        "\n",
        "    mantisa_decimal = 1.0\n",
        "    for i in range(len(mantisa)):\n",
        "        mantisa_decimal += int(mantisa[i]) * 2**(-(i + 1))\n",
        "\n",
        "\n",
        "    return (-1)**signo * 2**exponente * mantisa_decimal\n",
        "\n",
        "\n",
        "def convertir_a_decimal(numero_maquina_binario: str, bits: int):\n",
        "\n",
        "    if bits != 32 and bits != 64:\n",
        "        print(\"El número de bits debe ser 32 o 64\")\n",
        "        return None\n",
        "\n",
        "\n",
        "    numero_decimal = conversion_maquina_a_flotante(numero_maquina_binario, bits)\n",
        "    return numero_decimal\n",
        "\n",
        "# Ejemplo de uso:\n",
        "numero_maquina_32 = \"0 10000000 01011011111100001010100\"  # Ejemplo para 32 bits\n",
        "numero_maquina_64 = \"1 10000000011 1011100100010001000100000111000000000000101010011000\"  # Ejemplo para 64 bits\n",
        "\n",
        "resultado_32 = convertir_a_decimal(numero_maquina_32, 32)\n",
        "resultado_64 = convertir_a_decimal(numero_maquina_64, 64)\n",
        "\n",
        "print(f\"El número decimal correspondiente al número de máquina de 32 bits es: {resultado_32}\")\n",
        "print(f\"El número decimal correspondiente al número de máquina de 64 bits es: {resultado_64}\")\n"
      ],
      "metadata": {
        "colab": {
          "base_uri": "https://localhost:8080/"
        },
        "id": "LvNlBaSzJ3Wr",
        "outputId": "62066f9b-3e81-4e51-9665-f17194830db9"
      },
      "execution_count": 14,
      "outputs": [
        {
          "output_type": "stream",
          "name": "stdout",
          "text": [
            "El número decimal correspondiente al número de máquina de 32 bits es: 2.7182817459106445\n",
            "El número decimal correspondiente al número de máquina de 64 bits es: -27.56666606665621\n"
          ]
        }
      ]
    },
    {
      "cell_type": "code",
      "source": [
        "convertir_a_decimal(\"0 10000000 01011011111100001010100\",32)"
      ],
      "metadata": {
        "colab": {
          "base_uri": "https://localhost:8080/"
        },
        "id": "ULvaS8L8MkXC",
        "outputId": "73a20cdc-4f1c-460e-8b69-ed72d3134375"
      },
      "execution_count": 59,
      "outputs": [
        {
          "output_type": "execute_result",
          "data": {
            "text/plain": [
              "2.7182817459106445"
            ]
          },
          "metadata": {},
          "execution_count": 59
        }
      ]
    },
    {
      "cell_type": "code",
      "source": [
        "convertir_a_decimal(\"0 01011101 00100101100010011110111\",32)"
      ],
      "metadata": {
        "colab": {
          "base_uri": "https://localhost:8080/"
        },
        "id": "Z98Joi0oYbZl",
        "outputId": "d2512461-a8a7-481a-cbc7-701508cbff76"
      },
      "execution_count": 65,
      "outputs": [
        {
          "output_type": "execute_result",
          "data": {
            "text/plain": [
              "6.674299307674048e-11"
            ]
          },
          "metadata": {},
          "execution_count": 65
        }
      ]
    },
    {
      "cell_type": "code",
      "source": [
        "convertir_a_decimal(\"1 10000000011 1011100100010001000100000111000000000000101010011000\" ,64)"
      ],
      "metadata": {
        "colab": {
          "base_uri": "https://localhost:8080/"
        },
        "id": "HeAus9jNMx07",
        "outputId": "41f7b959-722f-4133-c210-350a882aa848"
      },
      "execution_count": 30,
      "outputs": [
        {
          "output_type": "execute_result",
          "data": {
            "text/plain": [
              "-27.56666606665621"
            ]
          },
          "metadata": {},
          "execution_count": 30
        }
      ]
    },
    {
      "cell_type": "markdown",
      "metadata": {
        "id": "n3oI3vPECsRT"
      },
      "source": [
        "# **Ejercicio 3 (valores flotantes)**\n",
        "Durante el curso, hemos escrito un par de programas para calcular e imprimir el\n",
        "factorial de un número ingresado por el usuario, usando valores enteros y no de punto\n",
        "flotante. Usa alguno de esos programas para calcular el factorial de 200 y modificalo\n",
        "para usar variables de punto flotante y calcula nuevamente el factorial de 200. ¿Qué\n",
        "es lo que encuentras?, explica."
      ]
    },
    {
      "cell_type": "code",
      "execution_count": 1,
      "metadata": {
        "id": "HlPuR78rC9JG",
        "colab": {
          "base_uri": "https://localhost:8080/"
        },
        "outputId": "1ee13269-8368-4a20-86c7-e5b68d12bd2d"
      },
      "outputs": [
        {
          "output_type": "stream",
          "name": "stdout",
          "text": [
            "Ingrese un número entero para calcular su factorial: 200\n",
            "El factorial de 200 es: 788657867364790503552363213932185062295135977687173263294742533244359449963403342920304284011984623904177212138919638830257642790242637105061926624952829931113462857270763317237396988943922445621451664240254033291864131227428294853277524242407573903240321257405579568660226031904170324062351700858796178922222789623703897374720000000000000000000000000000000000000000000000000\n"
          ]
        }
      ],
      "source": [
        "# Cálculo del factorial usando enteros\n",
        "def factorial_entero(n):\n",
        "    if n == 0 or n == 1:\n",
        "        return 1\n",
        "    else:\n",
        "        resultado = 1\n",
        "        for i in range(2, n + 1):\n",
        "            resultado *= i\n",
        "        return resultado"
      ]
    },
    {
      "cell_type": "code",
      "source": [
        "factorial_entero(200)"
      ],
      "metadata": {
        "colab": {
          "base_uri": "https://localhost:8080/"
        },
        "id": "deEixk7UM72F",
        "outputId": "8eb61532-ec9f-43f2-cd3d-d97ba8a0422a"
      },
      "execution_count": 31,
      "outputs": [
        {
          "output_type": "execute_result",
          "data": {
            "text/plain": [
              "788657867364790503552363213932185062295135977687173263294742533244359449963403342920304284011984623904177212138919638830257642790242637105061926624952829931113462857270763317237396988943922445621451664240254033291864131227428294853277524242407573903240321257405579568660226031904170324062351700858796178922222789623703897374720000000000000000000000000000000000000000000000000"
            ]
          },
          "metadata": {},
          "execution_count": 31
        }
      ]
    },
    {
      "cell_type": "code",
      "source": [
        "# Cálculo del factorial usando punto flotante\n",
        "def factorial_flotante(n):\n",
        "    if n == 0 or n == 1:\n",
        "        return 1.0\n",
        "    else:\n",
        "        resultado = 1.0\n",
        "        for i in range(2, n + 1):\n",
        "            resultado *= float(i)\n",
        "        return resultado\n",
        "\n"
      ],
      "metadata": {
        "id": "DxsofneRHjLI"
      },
      "execution_count": 32,
      "outputs": []
    },
    {
      "cell_type": "code",
      "source": [
        "factorial_flotante(200)"
      ],
      "metadata": {
        "colab": {
          "base_uri": "https://localhost:8080/"
        },
        "id": "A7X2g2NqNC2z",
        "outputId": "021974df-6565-474a-9e41-8e32d98872e8"
      },
      "execution_count": 33,
      "outputs": [
        {
          "output_type": "execute_result",
          "data": {
            "text/plain": [
              "inf"
            ]
          },
          "metadata": {},
          "execution_count": 33
        }
      ]
    },
    {
      "cell_type": "markdown",
      "source": [
        "**Respuesta a la pregunta**\n",
        "Esto pasa porque en Python los números enteros pueden crecer sin límite hasta agotar la memoria disponible. En cambio, los números de punto flotante tienen un rango limitado por cómo se guardan en la memoria usando una cantidad fija de bits. Cuando el factorial de 200 supera este rango, el programa devuelve \"inf\", indicando que el resultado es demasiado grande para manejarlo."
      ],
      "metadata": {
        "id": "ggKiM2eOh43k"
      }
    },
    {
      "cell_type": "markdown",
      "metadata": {
        "id": "mNKUPWCKC-03"
      },
      "source": [
        "# **Ejercicio 4**\n",
        "Considera una ecuacion cuadrática  ax2 + bx + c = 0 que tiene soluciones reales.\n"
      ]
    },
    {
      "cell_type": "markdown",
      "metadata": {
        "id": "DkmCJ8RGDL2b"
      },
      "source": [
        "1.   **Inciso a)**\n",
        "\n",
        "\n"
      ]
    },
    {
      "cell_type": "code",
      "execution_count": 42,
      "metadata": {
        "colab": {
          "base_uri": "https://localhost:8080/"
        },
        "id": "dsUWQU2nDXIw",
        "outputId": "81f2faf1-b4a3-40e0-97b8-80d9f13311ab"
      },
      "outputs": [
        {
          "output_type": "stream",
          "name": "stdout",
          "text": [
            "Ingrese el valor de a: 0.001\n",
            "Ingrese el valor de b: 1000\n",
            "Ingrese el valor de c: 0.001\n",
            "Las raíces son reales y desiguales\n",
            "Raíz 1 = -9.999894245993346e-07\n",
            "Raíz 2 = -999999.999999\n"
          ]
        }
      ],
      "source": [
        "from math import sqrt\n",
        "\n",
        "# Pedimos al usuario que ingrese los valores para cada uno de los coeficientes\n",
        "a = float(input(\"Ingrese el valor de a: \"))\n",
        "b = float(input(\"Ingrese el valor de b: \"))\n",
        "c = float(input(\"Ingrese el valor de c: \"))\n",
        "\n",
        "disc = b * b - 4 * a * c\n",
        "\n",
        "# Primer método para calcular las raíces\n",
        "if disc == 0:\n",
        "    print(\"Las raíces son reales e iguales\")\n",
        "    x1 = -b / (2 * a)\n",
        "    x2 = -b / (2 * a)\n",
        "    print(\"Raíz 1 =\", x1)\n",
        "    print(\"Raíz 2 =\", x2)\n",
        "elif disc > 0:\n",
        "    print(\"Las raíces son reales y desiguales\")\n",
        "    x1 = (-b + sqrt(disc)) / (2 * a)\n",
        "    x2 = (-b - sqrt(disc)) / (2 * a)\n",
        "    print(\"Raíz 1 =\", x1)\n",
        "    print(\"Raíz 2 =\", x2)\n",
        "else:\n",
        "    print(\"Las raíces son imaginarias\")\n",
        "\n",
        "\n"
      ]
    },
    {
      "cell_type": "markdown",
      "source": [
        "**incisio b)**"
      ],
      "metadata": {
        "id": "hbptpFPoNbt0"
      }
    },
    {
      "cell_type": "code",
      "execution_count": 43,
      "metadata": {
        "colab": {
          "base_uri": "https://localhost:8080/"
        },
        "id": "QOsyBozYEKHX",
        "outputId": "c42cbb26-af93-420c-de52-c5eda96903d5"
      },
      "outputs": [
        {
          "output_type": "stream",
          "name": "stdout",
          "text": [
            "Ingrese el valor de a: 0.001\n",
            "Ingrese el valor de b: 1000\n",
            "Ingrese el valor de c: 0.001\n",
            "Las raíces son reales y desiguales\n",
            "Raíz 1 = -1000010.5755125057\n",
            "Raíz 2 = -1.000000000001e-06\n"
          ]
        }
      ],
      "source": [
        "# Pedimos al usuario que ingrese los valores para cada uno de los coeficientes\n",
        "a = float(input(\"Ingrese el valor de a: \"))\n",
        "b = float(input(\"Ingrese el valor de b: \"))\n",
        "c = float(input(\"Ingrese el valor de c: \"))\n",
        "\n",
        "disc = b * b - 4 * a * c\n",
        "# Segundo método para calcular las raíces\n",
        "if disc == 0:\n",
        "    print(\"Las raíces son reales e iguales\")\n",
        "    x1 = (2 * c) / -b\n",
        "    x2 = (2 * c) / -b\n",
        "    print(\"Raíz 1 =\", x1)\n",
        "    print(\"Raíz 2 =\", x2)\n",
        "elif disc > 0:\n",
        "    print(\"Las raíces son reales y desiguales\")\n",
        "    x1 = (2 * c) / (-b + sqrt(disc))\n",
        "    x2 = (2 * c) / (-b - sqrt(disc))\n",
        "    print(\"Raíz 1 =\", x1)\n",
        "    print(\"Raíz 2 =\", x2)\n",
        "else:\n",
        "    print(\"Las raíces son imaginarias\")"
      ]
    },
    {
      "cell_type": "markdown",
      "source": [
        "**inciso c)**"
      ],
      "metadata": {
        "id": "-YVObCQ7OTEb"
      }
    },
    {
      "cell_type": "code",
      "source": [],
      "metadata": {
        "id": "_ng0RTzFOSyB"
      },
      "execution_count": null,
      "outputs": []
    },
    {
      "cell_type": "code",
      "execution_count": 48,
      "metadata": {
        "id": "9tcqXJtdEIuA"
      },
      "outputs": [],
      "source": [
        "def soluciones_ecuacion_cuadratica(a, b, c):\n",
        "    disc = b**2 - 4 * a * c\n",
        "\n",
        "    if disc < 0:\n",
        "        print(\"No hay soluciones reales.\")\n",
        "        return None\n",
        "\n",
        "    x1 = (-b + sqrt(disc)) / (2 * a)\n",
        "    x2 = (-b - sqrt(disc)) / (2 * a)\n",
        "\n",
        "    return x1, x2\n",
        "\n",
        "def soluciones_alternativas(a, b, c):\n",
        "    disc = b**2 - 4 * a * c\n",
        "\n",
        "    if disc < 0:\n",
        "        print(\"No hay soluciones reales.\")\n",
        "        return None\n",
        "\n",
        "    parte_numerador = 2 * c\n",
        "    parte_raiz = sqrt(disc)\n",
        "\n",
        "    x1_alt = (parte_numerador + parte_raiz * (-b + parte_raiz)) / (2 * a)\n",
        "    x2_alt = (parte_numerador - parte_raiz * (-b + parte_raiz)) / (2 * a)\n",
        "\n",
        "    return x1_alt, x2_alt"
      ]
    },
    {
      "cell_type": "code",
      "source": [
        " soluciones_ecuacion_cuadratica(0.001,1000,0.001)"
      ],
      "metadata": {
        "colab": {
          "base_uri": "https://localhost:8080/"
        },
        "id": "cSNQBN6SQoEh",
        "outputId": "57e17fe4-e961-4fbd-c3af-598918ea8acb"
      },
      "execution_count": 49,
      "outputs": [
        {
          "output_type": "execute_result",
          "data": {
            "text/plain": [
              "(-9.999894245993346e-07, -999999.999999)"
            ]
          },
          "metadata": {},
          "execution_count": 49
        }
      ]
    },
    {
      "cell_type": "markdown",
      "source": [
        "**Respuesta a la pregunta**\n",
        "El xomportamiento de la ecuacion esta dominado por un termino lineal dado que el termino cuadratico 0.001x2 es muy pequeño en comparación con el término lineal 1000x.\n",
        "\n",
        "Y por lo anterior, en terminos de la forma alternativa, el hecho de que c sea muy pequeña y este en el numerador, hace qye al dividir 2c por una cantodad muy grande, isea ebtre el valor de b se obtengan valores muy cercanos a cero.\n"
      ],
      "metadata": {
        "id": "xTB2nmzNhGnG"
      }
    },
    {
      "cell_type": "markdown",
      "metadata": {
        "id": "YAFKjhyxFOSz"
      },
      "source": [
        "# **Ejercicio 5. Cálculo de derivadas**"
      ]
    },
    {
      "cell_type": "markdown",
      "metadata": {
        "id": "YhkmXVkjFZCA"
      },
      "source": [
        "1.  Escribe un programa que defina una función ́f(x) y que devuelva el valor x(x − 1), luego calcula la derivada de la funcion en el punto x0 = 1 usando la formula anterior con  δx = 10−2 .Calcula anaĺıticamente el valor real de la misma\n",
        "derivada y comparalo con la respuesta que da tu programa. Ambos no estarán\n",
        "\n"
      ]
    },
    {
      "cell_type": "code",
      "execution_count": 52,
      "metadata": {
        "id": "lEsTxfmoFzEX",
        "colab": {
          "base_uri": "https://localhost:8080/"
        },
        "outputId": "8234f3ae-d893-4980-a64a-b96b356519bb"
      },
      "outputs": [
        {
          "output_type": "stream",
          "name": "stdout",
          "text": [
            "Para delta=1.00e-02  Derivada calculada=1.01000000000000 Error=1.000000e-02\n",
            "Para delta=1.00e-04  Derivada calculada=1.00009999999989 Error=1.000000e-04\n",
            "Para delta=1.00e-06  Derivada calculada=1.00000099991773 Error=9.999177e-07\n",
            "Para delta=1.00e-08  Derivada calculada=1.00000000392253 Error=3.922529e-09\n",
            "Para delta=1.00e-10  Derivada calculada=1.00000008284037 Error=8.284037e-08\n",
            "Para delta=1.00e-12  Derivada calculada=1.00008890058334 Error=8.890058e-05\n",
            "Para delta=1.00e-14  Derivada calculada=0.99920072216265 Error=7.992778e-04\n"
          ]
        }
      ],
      "source": [
        "from math import sqrt\n",
        "\n",
        "# Definimos la función f(x)\n",
        "def f(x):\n",
        "    return x * (x - 1)\n",
        "\n",
        "# Lista de valores para delta\n",
        "delta = [10 ** -2, 10 ** -4, 10 ** -6, 10 ** -8, 10 ** -10, 10 ** -12, 10 ** -14]\n",
        "trueValue = 1  # Derivada de f(x) = 2 * x - 1, en x = 1 es 1\n",
        "\n",
        "for i in delta:\n",
        "    term = (f(1 + i) - f(1)) / i  # Aproximación de diferencia finita de la derivada\n",
        "    error = abs(trueValue - term)  # Error absoluto en comparación con el valor verdadero de la derivada\n",
        "    print('Para delta={:.2e}'.format(i), ' Derivada calculada={:15.14f}'.format(term), 'Error={:e}'.format(error))\n"
      ]
    },
    {
      "cell_type": "markdown",
      "metadata": {
        "id": "pv__ZtQyGaSf"
      },
      "source": [
        "\n",
        "\n",
        "1.   (b) Repite el calculo para  ́δx = 10−4\n",
        ", 10−6\n",
        ", 10−8\n",
        ", 10−10, 10−12 y 10−14. Deberías ver\n",
        "que la precision del cálculo inicialmente mejora a medida que δx se hace más\n",
        "pequeña, pero luego vuelve a empeorar. ¿Por qué pasa esto?\n"
      ]
    },
    {
      "cell_type": "code",
      "execution_count": 51,
      "metadata": {
        "id": "-0ruOiccGXbS",
        "colab": {
          "base_uri": "https://localhost:8080/"
        },
        "outputId": "da4d0faf-2c63-464b-c1db-49bdca3ff97c"
      },
      "outputs": [
        {
          "output_type": "stream",
          "name": "stdout",
          "text": [
            "Para delta=1.00e-04  Derivada calculada=1.00009999999989  Error=1.000000e-04\n",
            "Para delta=1.00e-06  Derivada calculada=1.00000099991773  Error=9.999177e-07\n",
            "Para delta=1.00e-08  Derivada calculada=1.00000000392253  Error=3.922529e-09\n",
            "Para delta=1.00e-10  Derivada calculada=1.00000008284037  Error=8.284037e-08\n",
            "Para delta=1.00e-12  Derivada calculada=1.00008890058334  Error=8.890058e-05\n",
            "Para delta=1.00e-14  Derivada calculada=0.99920072216265  Error=7.992778e-04\n"
          ]
        }
      ],
      "source": [
        "from math import sqrt\n",
        "\n",
        "# Definimos la función f(x)\n",
        "def f(x):\n",
        "    return x * (x - 1)\n",
        "\n",
        "# Lista de valores para delta\n",
        "delta = [10 ** -4, 10 ** -6, 10 ** -8, 10 ** -10, 10 ** -12, 10 ** -14]\n",
        "trueValue = 1  # Derivada de f(x) = 2 * x - 1, en x = 1 es 1\n",
        "\n",
        "# Repetimos el cálculo para cada delta en la lista\n",
        "for i in delta:\n",
        "    term = (f(1 + i) - f(1)) / i  # Aproximación de diferencia finita de la derivada\n",
        "    error = abs(trueValue - term)  # Error absoluto en comparación con el valor verdadero de la derivada\n",
        "    print('Para delta={:.2e}'.format(i),\n",
        "          ' Derivada calculada={:15.14f}'.format(term),\n",
        "          ' Error={:e}'.format(error))\n"
      ]
    },
    {
      "cell_type": "markdown",
      "source": [
        "Al realizar cálculos numéricos la exactitud se incrementa al disminuir el tamaño del paso (δx) hasta un determinado límite, luego, con pasos mínimos, la exactitud disminuye debido a errores de redondeo en la computadora\n",
        "Esto sucede por que, a grandes pasos, la aproximación resulta imprecisa. Al disminuir el trayecto, la aproximación se potencia. No obstante, con pasos extremadamente reducidos, los errores de redondeo prevalecen debido a la precisión restringida de los ordenadores."
      ],
      "metadata": {
        "id": "6Oq_0ujUjLGf"
      }
    },
    {
      "cell_type": "code",
      "source": [],
      "metadata": {
        "id": "w8z5IzXcQ73J"
      },
      "execution_count": null,
      "outputs": []
    },
    {
      "cell_type": "code",
      "source": [],
      "metadata": {
        "id": "G_ZzEDHejKgQ"
      },
      "execution_count": null,
      "outputs": []
    }
  ],
  "metadata": {
    "colab": {
      "provenance": []
    },
    "kernelspec": {
      "display_name": "Python 3",
      "name": "python3"
    },
    "language_info": {
      "name": "python"
    }
  },
  "nbformat": 4,
  "nbformat_minor": 0
}