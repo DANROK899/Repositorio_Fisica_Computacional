{
 "cells": [
  {
   "cell_type": "code",
   "execution_count": 2,
   "id": "24c98c14-760b-4025-ae83-85eb5caeba18",
   "metadata": {},
   "outputs": [
    {
     "name": "stdin",
     "output_type": "stream",
     "text": [
      "Ingresa el radio r:  20\n",
      "Ingresa el ángulo θ (ej: 30, pi, pi/2, 2*pi/3):  pi/2\n"
     ]
    },
    {
     "name": "stdout",
     "output_type": "stream",
     "text": [
      "\n",
      "Entrada: θ = pi/2\n",
      "En radianes: 1.5708 rad\n",
      "En grados: 90.00°\n",
      "Coordenadas cartesianas: x = 0.0000, y = 20.0000\n"
     ]
    }
   ],
   "source": [
    "import math\n",
    "import re\n",
    "\n",
    "def parse_angulo(angulo_str):\n",
    "    if angulo_str.lower() in ['pi', 'π']:\n",
    "        return math.pi\n",
    "    elif angulo_str.lower() in ['pi/2', 'π/2']:\n",
    "        return math.pi / 2\n",
    "    elif angulo_str.lower() in ['pi/4', 'π/4']:\n",
    "        return math.pi / 4\n",
    "    elif angulo_str.lower() in ['3pi/2', '3π/2']:\n",
    "        return 3 * math.pi / 2\n",
    "    elif angulo_str.lower() in ['2pi', '2π']:\n",
    "        return 2 * math.pi\n",
    "    \n",
    "    # Expresiones con pi\n",
    "    if 'pi' in angulo_str or 'π' in angulo_str:\n",
    "        # Reemplazar π por pi para consistencia\n",
    "        angulo_str = angulo_str.replace('π', 'pi')\n",
    "        # Evaluar la expresión\n",
    "        try:\n",
    "            return eval(angulo_str.replace('pi', str(math.pi)))\n",
    "        except:\n",
    "            raise ValueError(\"Expresión no válida\")\n",
    "    else:\n",
    "        # Si es número normal, convertir a float y luego a radianes\n",
    "        return math.radians(float(angulo_str))\n",
    "\n",
    "# Pedir coordenadas\n",
    "r = float(input(\"Ingresa el radio r: \"))\n",
    "theta_input = input(\"Ingresa el ángulo θ (ej: 30, pi, pi/2, 2*pi/3): \")\n",
    "\n",
    "# Convertir ángulo\n",
    "theta_radianes = parse_angulo(theta_input)\n",
    "theta_grados = math.degrees(theta_radianes)\n",
    "\n",
    "# Calcular coordenadas\n",
    "x = r * math.cos(theta_radianes)\n",
    "y = r * math.sin(theta_radianes)\n",
    "\n",
    "# Mostrar resultado\n",
    "print(f\"\\nEntrada: θ = {theta_input}\")\n",
    "print(f\"En radianes: {theta_radianes:.4f} rad\")\n",
    "print(f\"En grados: {theta_grados:.2f}°\")\n",
    "print(f\"Coordenadas cartesianas: x = {x:.4f}, y = {y:.4f}\")"
   ]
  },
  {
   "cell_type": "code",
   "execution_count": null,
   "id": "d75e907f-5582-4ad4-b874-7e00e0dd2432",
   "metadata": {},
   "outputs": [],
   "source": []
  }
 ],
 "metadata": {
  "kernelspec": {
   "display_name": "Python 3 (ipykernel)",
   "language": "python",
   "name": "python3"
  },
  "language_info": {
   "codemirror_mode": {
    "name": "ipython",
    "version": 3
   },
   "file_extension": ".py",
   "mimetype": "text/x-python",
   "name": "python",
   "nbconvert_exporter": "python",
   "pygments_lexer": "ipython3",
   "version": "3.13.5"
  }
 },
 "nbformat": 4,
 "nbformat_minor": 5
}
