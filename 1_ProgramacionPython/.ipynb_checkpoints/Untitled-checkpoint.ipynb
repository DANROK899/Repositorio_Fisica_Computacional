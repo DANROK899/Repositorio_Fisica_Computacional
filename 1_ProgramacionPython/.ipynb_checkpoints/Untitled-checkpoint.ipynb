{
 "cells": [
  {
   "cell_type": "code",
   "execution_count": 38,
   "id": "350ce40c-204b-4c1d-9464-a5c7d288eec4",
   "metadata": {},
   "outputs": [
    {
     "name": "stdout",
     "output_type": "stream",
     "text": [
      "N =     10: I = 3.3599159402\n"
     ]
    }
   ],
   "source": [
    "import numpy as np\n",
    "\n",
    "def f(x):\n",
    "    return np.exp(x**5 + 1)\n",
    "\n",
    "def trapecio(a, b, N):\n",
    "    h = (b - a) / N\n",
    "    \n",
    "    # Primer término: (f(a) + f(b))/2\n",
    "    base = (f(a) + f(b)) / 2\n",
    "    \n",
    "    suma = 0 #Σf(a+kh) para  k=1 hasta N\n",
    "    for k in range(1, N):\n",
    "        x_k = a + k * h\n",
    "        suma += f(x_k)\n",
    "    \n",
    "    integral = h * (base + suma)\n",
    "    \n",
    "    return integral\n",
    "\n",
    "# Parámetros del problema [0,1]\n",
    "a = 0\n",
    "b = 1\n",
    "\n",
    "# Probar con diferentes valores de N\n",
    "valor_N = [10]\n",
    "\n",
    "for N in valor_N:\n",
    "    resultado = trapecio(a, b, N)\n",
    "    print(f\"N = {N:6d}: I = {resultado:.10f}\")"
   ]
  },
  {
   "cell_type": "code",
   "execution_count": 39,
   "id": "8946aa39-4153-4ae3-901f-7d26bdbb547e",
   "metadata": {},
   "outputs": [
    {
     "name": "stdout",
     "output_type": "stream",
     "text": [
      "N =  10: I = 3.331257706604\n"
     ]
    }
   ],
   "source": [
    "def simpson(a, b, N):\n",
    "    if N % 2 != 0:\n",
    "        N += 1  # Asegurar que N sea par\n",
    "    \n",
    "    h = (b - a) / N\n",
    "    x = np.linspace(a, b, N + 1)\n",
    "    fx = f(x)\n",
    "    \n",
    "    # Aplicar la fórmula de Simpson\n",
    "    suma_impares = np.sum(fx[1:-1:2])  # índices impares: 1, 3, 5, ...\n",
    "    suma_pares = np.sum(fx[2:-1:2])    # índices pares: 2, 4, 6, ...\n",
    "    \n",
    "    integral = (h / 3) * (fx[0] + fx[-1] + 4 * suma_impares + 2 * suma_pares)\n",
    "    return integral\n",
    "\n",
    "# Probar la regla de Simpson\n",
    "\n",
    "valors_N_simpson = [10]\n",
    "\n",
    "for N in valors_N_simpson:\n",
    "    resultado = simpson(0, 1, N)\n",
    "    print(f\"N = {N:3d}: I = {resultado:.12f}\")"
   ]
  },
  {
   "cell_type": "code",
   "execution_count": 43,
   "id": "78b477b3-5130-41b3-90a0-9cd41cca7115",
   "metadata": {},
   "outputs": [],
   "source": [
    "def Legendre():\n",
    "    p = sp.special.eval_legendre(N)"
   ]
  },
  {
   "cell_type": "code",
   "execution_count": 44,
   "id": "78cebfc9-5666-4b69-86b3-1ca529219c84",
   "metadata": {},
   "outputs": [
    {
     "name": "stdout",
     "output_type": "stream",
     "text": [
      "<function Legendre at 0x7f5f083651c0>\n"
     ]
    }
   ],
   "source": []
  },
  {
   "cell_type": "code",
   "execution_count": null,
   "id": "7f8f8a7b-bf05-4a49-aa89-12a40f4be6f4",
   "metadata": {},
   "outputs": [],
   "source": []
  }
 ],
 "metadata": {
  "kernelspec": {
   "display_name": "Python 3 (ipykernel)",
   "language": "python",
   "name": "python3"
  },
  "language_info": {
   "codemirror_mode": {
    "name": "ipython",
    "version": 3
   },
   "file_extension": ".py",
   "mimetype": "text/x-python",
   "name": "python",
   "nbconvert_exporter": "python",
   "pygments_lexer": "ipython3",
   "version": "3.13.7"
  }
 },
 "nbformat": 4,
 "nbformat_minor": 5
}
