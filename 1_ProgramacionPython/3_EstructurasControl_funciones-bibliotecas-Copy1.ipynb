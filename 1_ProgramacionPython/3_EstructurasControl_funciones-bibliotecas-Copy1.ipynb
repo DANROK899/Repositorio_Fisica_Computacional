{
 "cells": [
  {
   "cell_type": "markdown",
   "metadata": {},
   "source": [
    "<h1 align=\"center\">Física Computacional.</h1>\n",
    "<h1 align=\"center\">Semestre 2026-1</h1>\n",
    "\n",
    "<h2>Sergio A. Alcalá Corona </h2> \n",
    "\n",
    "---\n",
    "### Joel Gómez Uribe\n",
    "### Rodrigo Vega Vilchis\n",
    "---"
   ]
  },
  {
   "cell_type": "markdown",
   "metadata": {},
   "source": [
    "## 1.1.3. Estructuras de control, funciones y bibliotecas\n",
    "\n",
    "En este *Notebook* presentaremos de manera muy breve el uso general de las estrcuturas de control en *Python*, así también, cómo definir y usar funciones dentro de *Python*. Asimismo, mostraremos muy brevemente, cómo leer y escribir archivos (de texto o de datos) y finalmente expondremos cómo crear _**scripts** de Python_."
   ]
  },
  {
   "cell_type": "markdown",
   "metadata": {},
   "source": [
    "### Estructuras de control\n",
    "\n",
    "---\n",
    "\n",
    "En *Python* existen las estructuras de control comunes usadas en los lenguajes programación, que son las condicionales (`if`) y las iteretivas (`for` y `while`).\n",
    "\n",
    "Estás se usan junto con, los operadores lógicos y de comparación ya mencionados y que tienen un formato en común en casi todos los lenguajes de programación.\n",
    "\n",
    "#### Operadores de comparación:\n",
    "\n",
    "- *Igual que*:  `==`\n",
    "- *Diferente que*:  `!=`\n",
    "- *Menor que*:  `<`\n",
    "- *Mayor que*:  `>`\n",
    "- *Menor o igual que*:  `<=`\n",
    "- *Mayor o igual que*:  `>=`\n",
    "\n",
    "#### Operadores de lógicos:\n",
    "\n",
    "- *AND*:  `and`\n",
    "- *OR*:  `or`\n",
    "- *NOT*:  `!`"
   ]
  },
  {
   "cell_type": "markdown",
   "metadata": {},
   "source": [
    "A diferencia de otros lenguajes de programación en *Python*, no existen instrucciones que indiquen donde empieza y termina un bloque del programa.\n",
    "\n",
    "Un bloque empieza por **`:`**, y su extensión se indica por el uso de una cantidad definida de espacio en blanco al principio de cada línea. \n",
    "\n",
    "Es muy importante dejar **una identación (un tabulador)** después de que se inicia un bloque de instrucciones definido por `:`.\n",
    "\n",
    "Algunos editores de texto (como Kate) o IDEs permiten hacer eso de forma automática."
   ]
  },
  {
   "cell_type": "markdown",
   "metadata": {},
   "source": [
    "### Estructuras Condicionales\n",
    "\n",
    "Para checar una condición y ejecutar código dependiente del resultado, se ocupa  **`if`**:"
   ]
  },
  {
   "cell_type": "code",
   "execution_count": 1,
   "metadata": {},
   "outputs": [
    {
     "name": "stdin",
     "output_type": "stream",
     "text": [
      "Ingresa el valor de a  1\n"
     ]
    },
    {
     "name": "stdout",
     "output_type": "stream",
     "text": [
      "a es positiva\n"
     ]
    }
   ],
   "source": [
    "a = int(input('Ingresa el valor de a '))\n",
    "\n",
    "if (a > 0):\n",
    "        print(\"a es positiva\")\n",
    "        a = a + 1\n",
    "elif a == 0:  # Notese: dos veces =\n",
    "        print(\"a es 0\")\n",
    "else:\n",
    "        print(\"a es negativa\")"
   ]
  },
  {
   "cell_type": "markdown",
   "metadata": {},
   "source": [
    "En el primer caso, hay dos comandos en el bloque que se ejecutará en el caso de que `a > 0`. Nótese que `elif` es una abreviación de `else:if`"
   ]
  },
  {
   "cell_type": "markdown",
   "metadata": {},
   "source": [
    "Las condiciones que se pueden ocupar incluyen: `<`, `<=` y `!=` (*no es igual*). \n",
    "Para combinar condiciones se ocupan las palabras `and` y `or`:"
   ]
  },
  {
   "cell_type": "code",
   "execution_count": 2,
   "metadata": {},
   "outputs": [
    {
     "name": "stdout",
     "output_type": "stream",
     "text": [
      "Grandes\n",
      "Al menos uno positivo\n"
     ]
    }
   ],
   "source": [
    "a = 3; b=7\n",
    "\n",
    "if a > 1 and b > 2:\n",
    "    print(\"Grandes\")\n",
    "\n",
    "if a > 0 or b > 0:\n",
    "    print(\"Al menos uno positivo\")"
   ]
  },
  {
   "cell_type": "markdown",
   "metadata": {},
   "source": [
    "Aca otro ejemplo"
   ]
  },
  {
   "cell_type": "code",
   "execution_count": 3,
   "metadata": {},
   "outputs": [
    {
     "name": "stdin",
     "output_type": "stream",
     "text": [
      "Introduce un número entero no mayor que diez:  9\n"
     ]
    }
   ],
   "source": [
    "x = int(input(\"Introduce un número entero no mayor que diez: \"))\n",
    "\n",
    "if x > 10:\n",
    "    print(\"Ingresaste un número mayor a diez.\")\n",
    "    print(\"Déjame arreglar eso por ti.\")\n",
    "    x = 10\n",
    "    print(\"tu número es\",x)"
   ]
  },
  {
   "cell_type": "markdown",
   "metadata": {},
   "source": [
    "Donde podemos usar `and` y `or`:"
   ]
  },
  {
   "cell_type": "code",
   "execution_count": 4,
   "metadata": {},
   "outputs": [
    {
     "name": "stdin",
     "output_type": "stream",
     "text": [
      "Introduce un número entero entre 1 y diez:  5\n"
     ]
    }
   ],
   "source": [
    "x = int(input(\"Introduce un número entero entre 1 y diez: \"))\n",
    "    \n",
    "if x > 10 or x < 1:\n",
    "    print(\"Tu número es demasiado grande o demasiado pequeño.\")\n"
   ]
  },
  {
   "cell_type": "code",
   "execution_count": 5,
   "metadata": {},
   "outputs": [
    {
     "name": "stdin",
     "output_type": "stream",
     "text": [
      "Introduce un número entero menor o igual a 1 y menor o igual a diez:  1\n"
     ]
    },
    {
     "name": "stdout",
     "output_type": "stream",
     "text": [
      "Tu número es correcto.\n"
     ]
    }
   ],
   "source": [
    "x = int(input(\"Introduce un número entero menor o igual a 1 y menor o igual a diez: \"))\n",
    "    \n",
    "if x <= 10 and x >=1:\n",
    "    print(\"Tu número es correcto.\")\n",
    "else:\n",
    "    print(\"Tu número es incorrecto.\")"
   ]
  },
  {
   "cell_type": "code",
   "execution_count": 6,
   "metadata": {},
   "outputs": [
    {
     "name": "stdin",
     "output_type": "stream",
     "text": [
      "Introduce un número entero no mayor que diez:  8\n"
     ]
    },
    {
     "name": "stdout",
     "output_type": "stream",
     "text": [
      "Tu número está bien. Continua.\n"
     ]
    }
   ],
   "source": [
    "x = int(input(\"Introduce un número entero no mayor que diez: \"))\n",
    "if x > 10:\n",
    "    print(\"Tu numero es mayor que diez.\")\n",
    "elif x > 9:\n",
    "    print(\"Tu número está bien, pero por poco no!\")\n",
    "else:\n",
    "    print(\"Tu número está bien. Continua.\")"
   ]
  },
  {
   "cell_type": "code",
   "execution_count": null,
   "metadata": {},
   "outputs": [],
   "source": []
  },
  {
   "cell_type": "markdown",
   "metadata": {},
   "source": [
    "**Ejemplo: Número pares e impares**\n",
    "\n",
    "Escribamos un programa que tome como entrada un número entero e imprima si el número es par o impar."
   ]
  },
  {
   "cell_type": "code",
   "execution_count": 7,
   "metadata": {},
   "outputs": [
    {
     "name": "stdin",
     "output_type": "stream",
     "text": [
      "Ingresa un entero:  5000\n"
     ]
    },
    {
     "name": "stdout",
     "output_type": "stream",
     "text": [
      "par\n"
     ]
    }
   ],
   "source": [
    "n = int(input(\"Ingresa un entero: \"))\n",
    "if n%2==0:\n",
    "    print(\"par\")\n",
    "else:\n",
    "    print(\"impar\")"
   ]
  },
  {
   "cell_type": "code",
   "execution_count": null,
   "metadata": {},
   "outputs": [],
   "source": []
  },
  {
   "cell_type": "markdown",
   "metadata": {},
   "source": [
    "## Estructuras Iterativas\n",
    "\n",
    "La parte central de muchos cálculos científicos consiste en llevar a cabo **ciclos (bucles)**. Para esto usamos las estructura de control **`while`** y **`for`**.\n",
    "\n",
    "La instrucción `while` ejecuta un bloque de código mientras una cierta condición se satisfaga. Asimismo, la instrucción `for` se usa generalmente cuando se conoce de antemano el número de iteraciones necesarias."
   ]
  },
  {
   "cell_type": "markdown",
   "metadata": {},
   "source": [
    "### La estructura `for`\n",
    "\n",
    "Un ciclo tipo `for` se suele ocupar para llevar a cabo un número de iteraciones que se conoce de antemano. En el bucle de tipo `for`, encontramos una diferencia importante con respecto a lenguajes más tradicionales:\n",
    "\n",
    "Se puede iterar sobre cualquier lista y ejecutar un bloque de código para cada elemento de la lista:"
   ]
  },
  {
   "cell_type": "code",
   "execution_count": 8,
   "metadata": {},
   "outputs": [
    {
     "name": "stdout",
     "output_type": "stream",
     "text": [
      "1\n",
      "2\n",
      "3\n",
      "6\n",
      "5\n",
      "10\n",
      "Termine!\n"
     ]
    }
   ],
   "source": [
    "r = [ 1, 3, 5]\n",
    "\n",
    "for n in r:\n",
    "    print(n)\n",
    "    print(2*n)\n",
    "print(\"Termine!\")"
   ]
  },
  {
   "cell_type": "code",
   "execution_count": 9,
   "metadata": {},
   "outputs": [
    {
     "name": "stdout",
     "output_type": "stream",
     "text": [
      "[1, 2.5, -3.71, 'hola', [2, 3], 1, 2.5, -3.71, 'hola', [2, 3]]\n",
      "[1, 2.5, -3.71, 'hola', [2, 3], 1, 2.5, -3.71, 'hola', [2, 3]]\n",
      "[1, 2.5, -3.71, 'hola', [2, 3], 1, 2.5, -3.71, 'hola', [2, 3]]\n",
      "[1, 2.5, -3.71, 'hola', [2, 3], 1, 2.5, -3.71, 'hola', [2, 3]]\n",
      "[1, 2.5, -3.71, 'hola', [2, 3], 1, 2.5, -3.71, 'hola', [2, 3]]\n"
     ]
    }
   ],
   "source": [
    "l = [1, 2.5, -3.71, \"hola\", [2, 3]]\n",
    "\n",
    "for i in l:\n",
    "    print(2*l)"
   ]
  },
  {
   "cell_type": "code",
   "execution_count": null,
   "metadata": {},
   "outputs": [],
   "source": []
  },
  {
   "cell_type": "markdown",
   "metadata": {},
   "source": [
    "#### La función *range()*"
   ]
  },
  {
   "cell_type": "markdown",
   "metadata": {},
   "source": [
    "Para averiguar que es lo que hace una función, se puede investigar de manera interactiva:"
   ]
  },
  {
   "cell_type": "code",
   "execution_count": 10,
   "metadata": {},
   "outputs": [
    {
     "data": {
      "text/plain": [
       "\u001b[0;31mInit signature:\u001b[0m \u001b[0mrange\u001b[0m\u001b[0;34m(\u001b[0m\u001b[0mself\u001b[0m\u001b[0;34m,\u001b[0m \u001b[0;34m/\u001b[0m\u001b[0;34m,\u001b[0m \u001b[0;34m*\u001b[0m\u001b[0margs\u001b[0m\u001b[0;34m,\u001b[0m \u001b[0;34m**\u001b[0m\u001b[0mkwargs\u001b[0m\u001b[0;34m)\u001b[0m\u001b[0;34m\u001b[0m\u001b[0;34m\u001b[0m\u001b[0m\n",
       "\u001b[0;31mDocstring:\u001b[0m     \n",
       "range(stop) -> range object\n",
       "range(start, stop[, step]) -> range object\n",
       "\n",
       "Return an object that produces a sequence of integers from start (inclusive)\n",
       "to stop (exclusive) by step.  range(i, j) produces i, i+1, i+2, ..., j-1.\n",
       "start defaults to 0, and stop is omitted!  range(4) produces 0, 1, 2, 3.\n",
       "These are exactly the valid indices for a list of 4 elements.\n",
       "When step is given, it specifies the increment (or decrement).\n",
       "\u001b[0;31mType:\u001b[0m           type\n",
       "\u001b[0;31mSubclasses:\u001b[0m     "
      ]
     },
     "metadata": {},
     "output_type": "display_data"
    }
   ],
   "source": [
    "range?"
   ]
  },
  {
   "cell_type": "markdown",
   "metadata": {},
   "source": [
    "`range(N)` en `python 2.x` devuelve una lista que contiene una progresión aritmética de enteros. Sin embargo en `python 3.x`,`range` es una función que nos devuelve un rango de números naturales a los cuales podemos acceder por medio de un iterador."
   ]
  },
  {
   "cell_type": "code",
   "execution_count": 11,
   "metadata": {},
   "outputs": [
    {
     "data": {
      "text/plain": [
       "range(0, 10)"
      ]
     },
     "execution_count": 11,
     "metadata": {},
     "output_type": "execute_result"
    }
   ],
   "source": [
    "range(10)"
   ]
  },
  {
   "cell_type": "markdown",
   "metadata": {},
   "source": [
    "Si queremos iterar sobre muchos elementos, es más útil construir la lista con `range`."
   ]
  },
  {
   "cell_type": "code",
   "execution_count": 12,
   "metadata": {},
   "outputs": [
    {
     "name": "stdout",
     "output_type": "stream",
     "text": [
      "Hola!\n",
      "Hola de nuevo!\n",
      "Hola de nuevo!\n",
      "Hola de nuevo!\n",
      "Hola de nuevo!\n",
      "Hola de nuevo!\n"
     ]
    }
   ],
   "source": [
    "r = range(5)\n",
    "print(\"Hola!\")\n",
    "\n",
    "for n in r:\n",
    "    print(\"Hola de nuevo!\")"
   ]
  },
  {
   "cell_type": "markdown",
   "metadata": {},
   "source": [
    " Por ejemplo, para hacer una iteración para todos los números pares hasta 100, podemos utilizar:"
   ]
  },
  {
   "cell_type": "code",
   "execution_count": 13,
   "metadata": {},
   "outputs": [
    {
     "name": "stdout",
     "output_type": "stream",
     "text": [
      "0\n",
      "2\n",
      "4\n",
      "6\n",
      "8\n",
      "10\n",
      "12\n",
      "14\n",
      "16\n",
      "18\n",
      "20\n",
      "22\n",
      "24\n",
      "26\n",
      "28\n",
      "30\n",
      "32\n",
      "34\n",
      "36\n",
      "38\n",
      "40\n",
      "42\n",
      "44\n",
      "46\n",
      "48\n",
      "50\n",
      "52\n",
      "54\n",
      "56\n",
      "58\n",
      "60\n",
      "62\n",
      "64\n",
      "66\n",
      "68\n",
      "70\n",
      "72\n",
      "74\n",
      "76\n",
      "78\n",
      "80\n",
      "82\n",
      "84\n",
      "86\n",
      "88\n",
      "90\n",
      "92\n",
      "94\n",
      "96\n",
      "98\n",
      "100\n",
      "102\n",
      "104\n",
      "106\n",
      "108\n",
      "110\n",
      "112\n",
      "114\n",
      "116\n",
      "118\n",
      "120\n",
      "122\n",
      "124\n",
      "126\n",
      "128\n",
      "130\n",
      "132\n",
      "134\n",
      "136\n",
      "138\n",
      "140\n",
      "142\n",
      "144\n",
      "146\n",
      "148\n",
      "150\n",
      "152\n",
      "154\n",
      "156\n",
      "158\n",
      "160\n",
      "162\n",
      "164\n",
      "166\n",
      "168\n",
      "170\n",
      "172\n",
      "174\n",
      "176\n",
      "178\n",
      "180\n",
      "182\n",
      "184\n",
      "186\n",
      "188\n",
      "190\n",
      "192\n",
      "194\n",
      "196\n",
      "198\n"
     ]
    }
   ],
   "source": [
    "for i in range(100):\n",
    "    print(2*i)"
   ]
  },
  {
   "cell_type": "markdown",
   "metadata": {},
   "source": [
    "Recordemos que la función `range` crea una lista de `N` elementos comenzado en el *$0$*. O también podemos usar:"
   ]
  },
  {
   "cell_type": "code",
   "execution_count": 14,
   "metadata": {},
   "outputs": [
    {
     "name": "stdout",
     "output_type": "stream",
     "text": [
      "6\n",
      "12\n",
      "18\n",
      "24\n",
      "30\n",
      "36\n",
      "42\n",
      "48\n",
      "54\n",
      "60\n",
      "66\n",
      "72\n",
      "78\n",
      "84\n",
      "90\n",
      "96\n",
      "102\n",
      "108\n"
     ]
    }
   ],
   "source": [
    "for i in range(3,57,3):\n",
    "    print(2*i)"
   ]
  },
  {
   "cell_type": "markdown",
   "metadata": {},
   "source": [
    "Para poder indicar **`un inicio`**, **`un fin`** y **`un incremento`** de paso en la iteración.\n",
    "\n",
    "`range()` también es util para llenar listas:"
   ]
  },
  {
   "cell_type": "code",
   "execution_count": 15,
   "metadata": {},
   "outputs": [
    {
     "name": "stdout",
     "output_type": "stream",
     "text": [
      "[]\n",
      "[1]\n",
      "[1, 4]\n",
      "[1, 4, 7]\n"
     ]
    }
   ],
   "source": [
    "L = []\n",
    "print(L)\n",
    "for i in range(1,10,3):\n",
    "    L.append(i)\n",
    "    print(L)"
   ]
  },
  {
   "cell_type": "code",
   "execution_count": null,
   "metadata": {},
   "outputs": [],
   "source": []
  },
  {
   "cell_type": "markdown",
   "metadata": {},
   "source": [
    "Podemos resumir el código anterior en una sola instrucción.\n",
    "\n",
    "Por ejemplo, para obtener una _lista_ con los diez primeros números podemos utilizar un `for` (lo explicaremos más adelante) de la siguiente manera:"
   ]
  },
  {
   "cell_type": "code",
   "execution_count": 16,
   "metadata": {},
   "outputs": [
    {
     "data": {
      "text/plain": [
       "[0, 1, 2, 3, 4, 5, 6, 7, 8, 9]"
      ]
     },
     "execution_count": 16,
     "metadata": {},
     "output_type": "execute_result"
    }
   ],
   "source": [
    "L1 = [i for i in range(10)]\n",
    "L1"
   ]
  },
  {
   "cell_type": "markdown",
   "metadata": {},
   "source": [
    "Nótese que la lista comienza en 0 (cero) y que **se omite el elemento final**., \n",
    "\n",
    "Por ejemplo para obtner una lista de cuatro elementos que llegue hasta el **3** se puede hacer lo siguiente:"
   ]
  },
  {
   "cell_type": "code",
   "execution_count": 17,
   "metadata": {},
   "outputs": [
    {
     "data": {
      "text/plain": [
       "[0, 1, 2, 3]"
      ]
     },
     "execution_count": 17,
     "metadata": {},
     "output_type": "execute_result"
    }
   ],
   "source": [
    "[i for i in range(4)]"
   ]
  },
  {
   "cell_type": "markdown",
   "metadata": {},
   "source": [
    "También se le puede indicar en donde inicia y donde termina la lista:"
   ]
  },
  {
   "cell_type": "code",
   "execution_count": 18,
   "metadata": {},
   "outputs": [
    {
     "data": {
      "text/plain": [
       "[3, 4, 5, 6, 7, 8, 9]"
      ]
     },
     "execution_count": 18,
     "metadata": {},
     "output_type": "execute_result"
    }
   ],
   "source": [
    "[i for i in range(3,10)]"
   ]
  },
  {
   "cell_type": "markdown",
   "metadata": {},
   "source": [
    "O bien también se le puede indicar un paso de incremento:"
   ]
  },
  {
   "cell_type": "code",
   "execution_count": 19,
   "metadata": {},
   "outputs": [
    {
     "data": {
      "text/plain": [
       "[3, 5, 7, 9, 11, 13, 15]"
      ]
     },
     "execution_count": 19,
     "metadata": {},
     "output_type": "execute_result"
    }
   ],
   "source": [
    "[i for i in range(3,17,2)]"
   ]
  },
  {
   "cell_type": "code",
   "execution_count": 20,
   "metadata": {},
   "outputs": [
    {
     "data": {
      "text/plain": [
       "[3, 6, 9, 12, 15]"
      ]
     },
     "execution_count": 20,
     "metadata": {},
     "output_type": "execute_result"
    }
   ],
   "source": [
    "[i for i in range(3,17,3)]"
   ]
  },
  {
   "cell_type": "code",
   "execution_count": 21,
   "metadata": {},
   "outputs": [
    {
     "data": {
      "text/plain": [
       "[3, 8, 13]"
      ]
     },
     "execution_count": 21,
     "metadata": {},
     "output_type": "execute_result"
    }
   ],
   "source": [
    "[i for i in range(3,17,5)]"
   ]
  },
  {
   "cell_type": "markdown",
   "metadata": {},
   "source": [
    "Sobra decir que estas lista generadas por `range()` las podemos almacenar en una variable."
   ]
  },
  {
   "cell_type": "code",
   "execution_count": 22,
   "metadata": {},
   "outputs": [
    {
     "name": "stdout",
     "output_type": "stream",
     "text": [
      "[3, 8, 13]\n"
     ]
    }
   ],
   "source": [
    "x = [i for i in range(3,17,5)]\n",
    "print(x)"
   ]
  },
  {
   "cell_type": "code",
   "execution_count": 1,
   "metadata": {},
   "outputs": [],
   "source": [
    "import numpy as np\n"
   ]
  },
  {
   "cell_type": "markdown",
   "metadata": {},
   "source": [
    "### **Ejemplo:** Lineas de emisión de Hidrogeno \n",
    "\n",
    "En 1888 Johannes Rydberg publicó su famosa fórmula para las longitudes de onda $\\lambda$ de las líneas de emisión del átomo de hidrógeno:\n",
    "\n",
    "<h3 align=\"center\">$\\displaystyle \\dfrac{1}{\\lambda} = R \\left(\\dfrac{1}{m^2} - \\dfrac{1}{n^2} \\right)$</h3> \n",
    "\n",
    "donde $R$ es la constante de Rydberg $R = 1.097 × 10^{-2}$ nm$^{-1}$ y $m$ y $n$ son números enteros positivos. Para un valor dado de $m$, las longitudes de onda $\\lambda$ dadas por esta fórmula para todo $n > m$ forman una serie, las tres primeras de tales series, para $m = 1$, $2$ y $3$, se conocen como series de *Lyman*, *Balmer* y *Paschen* en honor a sus respectivos descubridores.\n",
    "\n",
    "Para resumir varias de las cosas vistas, a continuación escribiremos un breve programa de ejemplo, que imprime las longitudes de onda de las primeras cinco líneas en cada una de estas tres series:\n"
   ]
  },
  {
   "cell_type": "code",
   "execution_count": 23,
   "metadata": {},
   "outputs": [
    {
     "name": "stdout",
     "output_type": "stream",
     "text": [
      "\n",
      " Serie para m = 1\n",
      "   121.5436037678517 nm\n",
      "   102.55241567912488 nm\n",
      "   97.23488301428137 nm\n",
      "   94.95594044363415 nm\n",
      "   93.76220862091418 nm\n",
      "\n",
      " Serie para m = 2\n",
      "   656.3354603463993 nm\n",
      "   486.1744150714068 nm\n",
      "   434.084299170899 nm\n",
      "   410.2096627164995 nm\n",
      "   397.04243897498225 nm\n",
      "\n",
      " Serie para m = 3\n",
      "   1875.2441724182836 nm\n",
      "   1281.9051959890612 nm\n",
      "   1093.8924339106654 nm\n",
      "   1005.013673655424 nm\n",
      "   954.6697605038536 nm\n"
     ]
    }
   ],
   "source": [
    "R = 1.097e-2\n",
    "\n",
    "for m in range(1,4):    \n",
    "    print(\"\\n Serie para m =\",m)    \n",
    "    for n in range(m+1,m+6):\n",
    "        invlambda = R*(1/m**2-1/n**2)\n",
    "        print(\"  \",1/invlambda,\"nm\")\n"
   ]
  },
  {
   "cell_type": "code",
   "execution_count": null,
   "metadata": {},
   "outputs": [],
   "source": []
  },
  {
   "cell_type": "markdown",
   "metadata": {},
   "source": [
    "También nótese que `range()` **no acepta** argumentos de punto **flotante**."
   ]
  },
  {
   "cell_type": "code",
   "execution_count": 24,
   "metadata": {},
   "outputs": [
    {
     "ename": "TypeError",
     "evalue": "'float' object cannot be interpreted as an integer",
     "output_type": "error",
     "traceback": [
      "\u001b[0;31m---------------------------------------------------------------------------\u001b[0m",
      "\u001b[0;31mTypeError\u001b[0m                                 Traceback (most recent call last)",
      "Cell \u001b[0;32mIn[24], line 1\u001b[0m\n\u001b[0;32m----> 1\u001b[0m [i \u001b[38;5;28;01mfor\u001b[39;00m i \u001b[38;5;129;01min\u001b[39;00m \u001b[38;5;28;43mrange\u001b[39;49m\u001b[43m(\u001b[49m\u001b[38;5;241;43m3.\u001b[39;49m\u001b[43m,\u001b[49m\u001b[38;5;241;43m10.\u001b[39;49m\u001b[43m)\u001b[49m]\n",
      "\u001b[0;31mTypeError\u001b[0m: 'float' object cannot be interpreted as an integer"
     ]
    }
   ],
   "source": [
    "[i for i in range(3.,10.)]"
   ]
  },
  {
   "cell_type": "code",
   "execution_count": null,
   "metadata": {},
   "outputs": [],
   "source": []
  },
  {
   "cell_type": "markdown",
   "metadata": {},
   "source": [
    "Recordemos también que `range` sólo funciona con enteros. Por lo que el siguiente programa nos arrojará un error:"
   ]
  },
  {
   "cell_type": "code",
   "execution_count": null,
   "metadata": {},
   "outputs": [],
   "source": [
    "p = 10\n",
    "q = 3\n",
    "for n in range(p/q):\n",
    "    print(n)"
   ]
  },
  {
   "cell_type": "markdown",
   "metadata": {},
   "source": [
    "Para poder corregir lo anterior, podemos usar la parte entera:"
   ]
  },
  {
   "cell_type": "code",
   "execution_count": null,
   "metadata": {},
   "outputs": [],
   "source": [
    "for n in range(p//q):\n",
    "    print(n)"
   ]
  },
  {
   "cell_type": "markdown",
   "metadata": {},
   "source": [
    "O bien la función `arange` de **`numpy`**."
   ]
  },
  {
   "cell_type": "code",
   "execution_count": null,
   "metadata": {},
   "outputs": [],
   "source": [
    "import numpy as np\n",
    "\n",
    "for n in np.arange(p/q):\n",
    "    print(n)"
   ]
  },
  {
   "cell_type": "code",
   "execution_count": null,
   "metadata": {},
   "outputs": [],
   "source": []
  },
  {
   "cell_type": "markdown",
   "metadata": {},
   "source": [
    "### La estructura `while`\n",
    "\n",
    "\n",
    "Como instrucción de bucle, la más simple es **`while`**, que como ya mencionamos, ejecuta un bloque de código mientras una cierta condición se satisfaga, y suele ocuparse para llevar a cabo una iteración en la cual no se conoce de antemano el número de iteraciones necesarias. Sin embargo hay que tener cuidado al usar esta estructura pues si no definimos bien la condición de termino puede que el ciclo se repita indefinidamente y nunca acabe. \n",
    "\n",
    "Un ejemplo muy sencillo de un while, donde sí se conoce la condición terminal, para contar hasta 9, se puede hacer como sigue:"
   ]
  },
  {
   "cell_type": "code",
   "execution_count": null,
   "metadata": {},
   "outputs": [],
   "source": [
    "i = 0\n",
    "while i < 10:\n",
    "    # print(i)\n",
    "    i += 1     # equivalente a i = i + 1\n",
    "    print(i)"
   ]
  },
  {
   "cell_type": "markdown",
   "metadata": {},
   "source": [
    "O bien, podemos usarlo de la siguiente manera:"
   ]
  },
  {
   "cell_type": "code",
   "execution_count": null,
   "metadata": {},
   "outputs": [],
   "source": [
    "x = int(input(\"Ingresa un número entero no mayor a diez: \"))\n",
    "\n",
    "while x > 10:\n",
    "    \n",
    "    print(\"Este numero es mayor a diez. Vuelve a intentarlo.\")\n",
    "    x = int(input(\"Ingresa un número entero no mayor a diez: \"))\n",
    "\n",
    "print(\"Tu número es\",x)"
   ]
  },
  {
   "cell_type": "markdown",
   "metadata": {},
   "source": [
    "Ahora compiquemos un poco el programa y de los números par e impar y pidamos uno y uno:"
   ]
  },
  {
   "cell_type": "code",
   "execution_count": null,
   "metadata": {},
   "outputs": [],
   "source": [
    "print(\"Ingresa dos enteros, uno par y el otro impar.\")\n",
    "\n",
    "m = int(input(\"Ingresa el primer entero: \"))\n",
    "n = int(input(\"Ingresa el segundo entero: \"))\n",
    "\n",
    "while (m+n)%2==0:\n",
    "    print(\"Uno debe ser par y el otro impar.\")\n",
    "    \n",
    "    m = int(input(\"Ingresa el primer entero: \"))\n",
    "    n = int(input(\"Ingresa el segundo entero: \"))\n",
    "    \n",
    "print(\"Correto! Los números que elegiste son:\",m,\"y\",n)"
   ]
  },
  {
   "cell_type": "code",
   "execution_count": null,
   "metadata": {},
   "outputs": [],
   "source": []
  },
  {
   "cell_type": "markdown",
   "metadata": {},
   "source": [
    "### **Ejemplo: Sucesión de Fibonacci**\n",
    "\n",
    "Los números de (la sucesión) de Fibonacci se definen de la siguiente manera:\n",
    "\n",
    "### $f_n = f_{n-1} + f_{n-2}$\n",
    "\n",
    "con las condiciones iniciales\n",
    "\n",
    "#### $f_0=0$  y $f_1=1$\n",
    "\n",
    "<!-- ![fibrabbits.png](attachment:fibrabbits.png) -->\n",
    "<div>\n",
    "    <img src=\"fibrabbits.png\", width=\"800\" height=\"600\">\n",
    "</div>"
   ]
  },
  {
   "cell_type": "code",
   "execution_count": null,
   "metadata": {},
   "outputs": [],
   "source": []
  },
  {
   "cell_type": "markdown",
   "metadata": {},
   "source": [
    "Escribamos un programa para generar los números de Fibonacci, menores a 1000:"
   ]
  },
  {
   "cell_type": "code",
   "execution_count": null,
   "metadata": {},
   "outputs": [],
   "source": []
  },
  {
   "cell_type": "code",
   "execution_count": 1,
   "metadata": {},
   "outputs": [
    {
     "name": "stdout",
     "output_type": "stream",
     "text": [
      "1\n",
      "2\n",
      "3\n",
      "5\n",
      "8\n",
      "13\n",
      "21\n",
      "34\n",
      "55\n",
      "89\n",
      "144\n",
      "233\n",
      "377\n",
      "610\n",
      "987\n"
     ]
    }
   ],
   "source": [
    "fn_1,fn_2 = 1,1\n",
    "while fn_2 < 1000:    \n",
    "    print(fn_2)\n",
    "    fn_1,fn_2 = fn_2,fn_1+fn_2"
   ]
  },
  {
   "cell_type": "code",
   "execution_count": 4,
   "metadata": {},
   "outputs": [
    {
     "name": "stdout",
     "output_type": "stream",
     "text": [
      "1\n",
      "2\n",
      "3\n",
      "5\n",
      "8\n",
      "13\n",
      "21\n",
      "34\n",
      "55\n",
      "89\n",
      "144\n",
      "233\n",
      "377\n",
      "610\n",
      "987\n",
      "1597\n",
      "2584\n",
      "4181\n",
      "6765\n",
      "10946\n",
      "17711\n",
      "28657\n",
      "46368\n",
      "75025\n",
      "121393\n",
      "196418\n",
      "317811\n",
      "514229\n",
      "832040\n",
      "1346269\n",
      "2178309\n",
      "3524578\n",
      "5702887\n",
      "9227465\n",
      "14930352\n",
      "24157817\n",
      "39088169\n",
      "63245986\n",
      "102334155\n",
      "165580141\n",
      "267914296\n",
      "433494437\n",
      "701408733\n",
      "1134903170\n",
      "1836311903\n",
      "2971215073\n",
      "4807526976\n",
      "7778742049\n",
      "12586269025\n",
      "20365011074\n",
      "32951280099\n",
      "53316291173\n",
      "86267571272\n"
     ]
    }
   ],
   "source": [
    "fn_1,fn_2 = 1,1\n",
    "while fn_2 < 10e10:    \n",
    "    print(fn_2)\n",
    "    fn_1,fn_2 = fn_2,fn_1+fn_2"
   ]
  },
  {
   "cell_type": "code",
   "execution_count": null,
   "metadata": {},
   "outputs": [],
   "source": [
    "fn_1,fn_2 = 1,1\n",
    "while fn_2 < 10:    \n",
    "    print(\"fn-1=\",fn_1,\"fn-2=\",fn_2)\n",
    "    print(\"<---------\")\n",
    "    fn_1,fn_2 = fn_2,fn_1+fn_2\n",
    "    print(\"fn-1=\",fn_1,\"fn-2=\",fn_2)\n",
    "    print(\"**********\")"
   ]
  },
  {
   "cell_type": "markdown",
   "metadata": {},
   "source": [
    "Una instrucción muy útil, cuando estamos usando un `while` es **`break`**, que nos permiten salir del ciclo incluso si no se cumple la condición. Por ejemplo:"
   ]
  },
  {
   "cell_type": "code",
   "execution_count": 2,
   "metadata": {},
   "outputs": [
    {
     "name": "stdin",
     "output_type": "stream",
     "text": [
      "Ingresa un número entero no mayor a diez:  1\n"
     ]
    }
   ],
   "source": [
    "x = int(input(\"Ingresa un número entero no mayor a diez: \"))\n",
    "\n",
    "while x>10:\n",
    "\n",
    "    print(\"Esto es mayor a diez, por favor intentalo de nuevo.\")\n",
    "    x = x+1\n",
    "    \n",
    "    if x==111:\n",
    "        break\n",
    "\n",
    "    print(x)"
   ]
  },
  {
   "cell_type": "markdown",
   "metadata": {},
   "source": [
    "Una instrucción parecida a `break`  es la instrucción **`continue`**. Al colocar esta instrucción dentro `while` (con una condición de un `if`), hará que el programa salte el resto del código del ciclo, regresando al principio del bucle, donde se vuelve a comprobar la condición en el `while`.\n",
    "\n",
    "**OJO:** Se recomienda un uso bien pensando de esta istrucción, pues podría provocar que nuestro programa se estanque en un *\"bucle infinito\"*\n",
    "\n",
    "\n",
    "\n"
   ]
  },
  {
   "cell_type": "code",
   "execution_count": null,
   "metadata": {},
   "outputs": [],
   "source": [
    "x = int(input(\"Ingresa un número entero no mayor a diez: \"))\n",
    "\n",
    "while x>10:\n",
    "    \n",
    "    print(\"Esto es mayor a diez, por favor intentalo de nuevo.\")\n",
    "    x = x+1\n",
    "    \n",
    "    if (x % 2) == 0:\n",
    "        continue\n",
    "    elif x==111:\n",
    "            break\n",
    "    print(x)\n"
   ]
  },
  {
   "cell_type": "markdown",
   "metadata": {},
   "source": [
    "<!-- \n",
    "break | continue\n",
    "- | - \n",
    "![break](break.png) | ![continue](continue.png)\n",
    " -->"
   ]
  },
  {
   "cell_type": "markdown",
   "metadata": {},
   "source": [
    "### Diferencia entre el uso de `break`  y `continue`\n",
    "$\\;$\n",
    "\n",
    "<div align=\"center\">\n",
    "    <table>      \n",
    "        <tr>\n",
    "            <td> <img src=\"break.png\" alt=\"break\" style=\"width: 450px;\"/> </td>\n",
    "            <td> <img src=\"continue.png\" alt=\"continue\" style=\"width: 450px;\"/> </td>\n",
    "        </tr>\n",
    "        <tr>\n",
    "            <td><div align=\"center\"><h2>break</h2></div></td>\n",
    "            <td><div align=\"center\"><h2>continue</h2></div></td>\n",
    "        </tr>          \n",
    "    </table>\n",
    "</div>\n",
    "\n"
   ]
  },
  {
   "cell_type": "code",
   "execution_count": null,
   "metadata": {},
   "outputs": [],
   "source": []
  },
  {
   "cell_type": "markdown",
   "metadata": {},
   "source": [
    "### **Ejercicio:** Números de Catalan\n",
    "\n",
    "Los números de Catalan $C_n$ son una secuencia de números enteros 1, 1, 2, 5, 14, 42, 132 que juegan un papel importante en la mecánica cuántica y la teoría de los sistemas desordenados. (Eran fundamentales para la prueba de Eugene Wigner de la llamada ley del semicírculo). Se definen de la siguiente manera:\n",
    "\n",
    "<h3 align=\"center\">$C_0 = 1,\\qquad C_{n+1} = {4n+2\\over n+2}\\,C_n$.</h3> \n",
    "\n",
    "Escribe un programa que imprima en orden creciente todos los números catalanes menores o iguales a mil millones.\n"
   ]
  },
  {
   "cell_type": "code",
   "execution_count": 6,
   "metadata": {},
   "outputs": [
    {
     "name": "stdout",
     "output_type": "stream",
     "text": [
      "1.0\n"
     ]
    }
   ],
   "source": [
    "C0 = 1\n",
    "n = 0\n",
    "x = C0\n",
    "\n",
    "#Formula\n",
    "C0 = (4*n+2)/(n+2)*C0\n",
    "\n",
    "while C0 <= 10e8:\n",
    "    print(C0)\n",
    "    \n",
    "    if x < 1:\n",
    "        continue\n",
    "    elif x == 1:\n",
    "        break\n",
    "    print(C0)"
   ]
  },
  {
   "cell_type": "code",
   "execution_count": 1,
   "metadata": {},
   "outputs": [
    {
     "name": "stdout",
     "output_type": "stream",
     "text": [
      "1.0\n",
      "2.0\n",
      "5.0\n",
      "14.0\n",
      "42.0\n",
      "132.0\n",
      "429.0\n",
      "1430.0\n",
      "4862.0\n",
      "16796.0\n",
      "58786.0\n",
      "208012.0\n",
      "742900.0\n",
      "2674440.0\n",
      "9694845.0\n",
      "35357670.0\n",
      "129644790.0\n",
      "477638700.0\n",
      "1767263190.0\n",
      "6564120420.0\n",
      "24466267020.0\n",
      "91482563640.0\n",
      "343059613650.0\n",
      "1289904147324.0\n",
      "4861946401452.0\n",
      "18367353072152.0\n",
      "69533550916004.0\n",
      "263747951750360.0\n",
      "1002242216651368.0\n",
      "3814986502092304.0\n",
      "1.4544636039226908e+16\n",
      "5.55340648770482e+16\n",
      "2.1233613041224314e+17\n",
      "8.12944042149731e+17\n",
      "3.116285494907302e+18\n",
      "1.1959798385860456e+19\n",
      "4.5950804324621754e+19\n",
      "1.7673386278700676e+20\n",
      "6.804253717299761e+20\n",
      "2.6221270422764934e+21\n",
      "1.0113918591637903e+22\n",
      "3.904442991190447e+22\n",
      "1.5085347920508544e+23\n",
      "5.83300119592997e+23\n",
      "2.2571178540772493e+24\n",
      "8.740328711533179e+24\n",
      "3.386877375719107e+25\n",
      "1.3132789824216945e+26\n",
      "5.0955224517961745e+26\n",
      "1.9782616577561618e+27\n",
      "7.684785670514321e+27\n",
      "2.9869166945772643e+28\n",
      "1.161578714557825e+29\n",
      "4.519597180279538e+29\n",
      "1.75941461660882e+30\n",
      "6.852456927844878e+30\n",
      "2.670095285677487e+31\n",
      "1.0408846028912238e+32\n",
      "4.059449951275773e+32\n",
      "1.583850964596121e+33\n",
      "6.18212795858486e+33\n",
      "2.413973774304564e+34\n",
      "9.429585055877203e+34\n",
      "3.684791698758168e+35\n",
      "1.4404185731509203e+36\n",
      "5.632681584560315e+36\n",
      "2.2033725021956526e+37\n",
      "8.621892399896032e+37\n",
      "3.374855025102161e+38\n",
      "1.3214221084202828e+39\n",
      "5.1755699246461075e+39\n",
      "2.0276890389709408e+40\n",
      "7.9463489365077405e+40\n",
      "3.1149687831110344e+41\n",
      "1.2213956544303793e+42\n",
      "4.790408930363306e+42\n",
      "1.8793142726809892e+43\n",
      "7.374524361153249e+43\n",
      "2.89450081175265e+44\n",
      "1.1363595779473368e+45\n",
      "4.4622900499883224e+45\n",
      "1.7526585015616785e+46\n",
      "6.885444113278022e+46\n",
      "2.705574510393952e+47\n",
      "1.0633537029222742e+48\n",
      "4.180080073556526e+48\n",
      "1.643531483466543e+49\n",
      "6.463326058576293e+49\n",
      "2.5422415830400083e+50\n",
      "1.0001346008003548e+51\n",
      "3.935312233584005e+51\n",
      "1.548735782249189e+52\n",
      "6.096087653534043e+52\n",
      "2.3999334551807703e+53\n",
      "9.449737979774283e+53\n",
      "3.7214432044059555e+54\n",
      "1.465792935612958e+55\n",
      "5.774335806960138e+55\n",
      "2.275088307942294e+56\n",
      "8.965199470901317e+56\n"
     ]
    }
   ],
   "source": [
    "C0 = 1\n",
    "for n in range(100):\n",
    "    Cn = (4*n+2)/(n+2)*C0\n",
    "    C0 = Cn\n",
    "    print(Cn)"
   ]
  },
  {
   "cell_type": "code",
   "execution_count": null,
   "metadata": {},
   "outputs": [],
   "source": [
    "C0 = 1\n",
    "for n in range(100):\n",
    "    Cn = (4*n+2)/(n+2)*C0\n",
    "    C0 = Cn\n",
    "    print(Cn)\n",
    "    while Cn <= 10e8:\n",
    "        print(Cn)\n",
    "        \n",
    "        if C0 < 1:\n",
    "            continue\n",
    "        elif C0 == 1:\n",
    "            break\n",
    "            print(Cn)"
   ]
  },
  {
   "cell_type": "markdown",
   "metadata": {},
   "source": [
    "### **Ejercicio:** \n",
    "\n",
    "Escribe un programa que realice la siguiente suma:\n",
    "\n",
    "<h4 align=\"center\">$\\displaystyle s = \\sum_{k=1}^{100} \\dfrac{1}{k}$</h4> "
   ]
  },
  {
   "cell_type": "code",
   "execution_count": 5,
   "metadata": {},
   "outputs": [
    {
     "data": {
      "text/plain": [
       "5.187377517639621"
      ]
     },
     "execution_count": 5,
     "metadata": {},
     "output_type": "execute_result"
    }
   ],
   "source": [
    "N = 100\n",
    "S = 0.0\n",
    "\n",
    "for k in range(1, N+1):\n",
    "    S = S + 1/k\n",
    "S"
   ]
  },
  {
   "cell_type": "code",
   "execution_count": null,
   "metadata": {},
   "outputs": [],
   "source": []
  },
  {
   "cell_type": "code",
   "execution_count": null,
   "metadata": {},
   "outputs": [],
   "source": []
  },
  {
   "cell_type": "markdown",
   "metadata": {},
   "source": [
    "### **Ejercicio:** \n",
    "\n",
    "Ahora escribe un programa que realice la suma de los cuadrados de los valores tomados de un archivo de texto:\n",
    "\n",
    "<h4 align=\"center\">$\\displaystyle s = \\sum x^2 \\; \\; \\; \\forall x \\in V_{txt}$</h4> "
   ]
  },
  {
   "cell_type": "code",
   "execution_count": 7,
   "metadata": {},
   "outputs": [
    {
     "data": {
      "text/plain": [
       "200.0"
      ]
     },
     "execution_count": 7,
     "metadata": {},
     "output_type": "execute_result"
    }
   ],
   "source": [
    "N = 100\n",
    "S = 0.0\n",
    "\n",
    "for k in range(1, N+1):\n",
    "    S = S + x**2\n",
    "    S += x**2\n",
    "S"
   ]
  },
  {
   "cell_type": "code",
   "execution_count": null,
   "metadata": {},
   "outputs": [],
   "source": []
  },
  {
   "cell_type": "code",
   "execution_count": null,
   "metadata": {},
   "outputs": [],
   "source": []
  },
  {
   "cell_type": "markdown",
   "metadata": {},
   "source": [
    "## Funciones\n",
    "\n",
    "---\n",
    "Las funciones se pueden considerar como subprogramas que ejecutan una tarea dada, pueden contener variables propias (locales) así como estructuras de control y cálculos en su interior. En *Python*, las funciones pueden o no aceptar argumentos, y pueden o no regresar resultados.\n",
    "\n",
    "La sintaxis para declarar una función es como sigue:"
   ]
  },
  {
   "cell_type": "code",
   "execution_count": 25,
   "metadata": {},
   "outputs": [],
   "source": [
    "def funcion(x):\n",
    "    print(\"Argumento x = \", x)\n",
    "    return x*x"
   ]
  },
  {
   "cell_type": "markdown",
   "metadata": {},
   "source": [
    "y se llama así:"
   ]
  },
  {
   "cell_type": "code",
   "execution_count": 30,
   "metadata": {},
   "outputs": [
    {
     "name": "stdout",
     "output_type": "stream",
     "text": [
      "Argumento x =  8\n",
      "Argumento x =  3.5\n"
     ]
    },
    {
     "data": {
      "text/plain": [
       "12.25"
      ]
     },
     "execution_count": 30,
     "metadata": {},
     "output_type": "execute_result"
    }
   ],
   "source": [
    "funcion(8)\n",
    "funcion(3.5)"
   ]
  },
  {
   "cell_type": "code",
   "execution_count": null,
   "metadata": {},
   "outputs": [],
   "source": []
  },
  {
   "cell_type": "markdown",
   "metadata": {},
   "source": [
    "Las funciones se pueden utilizar con argumentos de cualquier tipo (el tipo de los argumentos nunca se especifica). Si las operaciones llevadas a cabo no se permiten para el tipo que se provee, entonces *Python* regresa un error:"
   ]
  },
  {
   "cell_type": "code",
   "execution_count": 31,
   "metadata": {},
   "outputs": [
    {
     "name": "stdout",
     "output_type": "stream",
     "text": [
      "Argumento x =  hola\n"
     ]
    },
    {
     "ename": "TypeError",
     "evalue": "can't multiply sequence by non-int of type 'str'",
     "output_type": "error",
     "traceback": [
      "\u001b[0;31m---------------------------------------------------------------------------\u001b[0m",
      "\u001b[0;31mTypeError\u001b[0m                                 Traceback (most recent call last)",
      "Cell \u001b[0;32mIn[31], line 1\u001b[0m\n\u001b[0;32m----> 1\u001b[0m \u001b[43mfuncion\u001b[49m\u001b[43m(\u001b[49m\u001b[38;5;124;43m\"\u001b[39;49m\u001b[38;5;124;43mhola\u001b[39;49m\u001b[38;5;124;43m\"\u001b[39;49m\u001b[43m)\u001b[49m\n",
      "Cell \u001b[0;32mIn[25], line 3\u001b[0m, in \u001b[0;36mfuncion\u001b[0;34m(x)\u001b[0m\n\u001b[1;32m      1\u001b[0m \u001b[38;5;28;01mdef\u001b[39;00m \u001b[38;5;21mfuncion\u001b[39m(x):\n\u001b[1;32m      2\u001b[0m     \u001b[38;5;28mprint\u001b[39m(\u001b[38;5;124m\"\u001b[39m\u001b[38;5;124mArgumento x = \u001b[39m\u001b[38;5;124m\"\u001b[39m, x)\n\u001b[0;32m----> 3\u001b[0m     \u001b[38;5;28;01mreturn\u001b[39;00m \u001b[43mx\u001b[49m\u001b[38;5;241;43m*\u001b[39;49m\u001b[43mx\u001b[49m\n",
      "\u001b[0;31mTypeError\u001b[0m: can't multiply sequence by non-int of type 'str'"
     ]
    }
   ],
   "source": [
    "funcion(\"hola\")"
   ]
  },
  {
   "cell_type": "markdown",
   "metadata": {},
   "source": [
    "Las funciones pueden regresar varios resultados al juntarlos en un *tuple* (n-ada):"
   ]
  },
  {
   "cell_type": "code",
   "execution_count": null,
   "metadata": {},
   "outputs": [],
   "source": [
    "def f(x, y):\n",
    "    return 2*x, 3*y"
   ]
  },
  {
   "cell_type": "code",
   "execution_count": null,
   "metadata": {},
   "outputs": [],
   "source": [
    "f(3,4)"
   ]
  },
  {
   "cell_type": "code",
   "execution_count": null,
   "metadata": {},
   "outputs": [],
   "source": []
  },
  {
   "cell_type": "markdown",
   "metadata": {},
   "source": [
    "Se puede proporcionar una forma sencilla de documentación de una función al proporcionar un *docstring* (cadena de documentación):"
   ]
  },
  {
   "cell_type": "code",
   "execution_count": null,
   "metadata": {},
   "outputs": [],
   "source": [
    "def cuad(x):\n",
    "    \"\"\"Funcion para elevar un numero al cuadrado.\n",
    "    Funciona siempre y cuando el tipo de x permita la multiplicacion.\n",
    "    \"\"\"\n",
    "    return x*x"
   ]
  },
  {
   "cell_type": "markdown",
   "metadata": {},
   "source": [
    "Ahora si interrogamos al objeto `cuad` (con ipython o Jupyter):"
   ]
  },
  {
   "cell_type": "code",
   "execution_count": null,
   "metadata": {},
   "outputs": [],
   "source": [
    "cuad?"
   ]
  },
  {
   "cell_type": "markdown",
   "metadata": {},
   "source": [
    "nos da esta información. Si la función está definida en un archivo, entonces `cuad??` muestra el código de la definición de la función."
   ]
  },
  {
   "cell_type": "code",
   "execution_count": null,
   "metadata": {},
   "outputs": [],
   "source": [
    "cuad??"
   ]
  },
  {
   "cell_type": "code",
   "execution_count": null,
   "metadata": {},
   "outputs": [],
   "source": []
  },
  {
   "cell_type": "markdown",
   "metadata": {},
   "source": [
    "## BIBLIOTECAS.\n",
    "\n",
    "---\n",
    "\n",
    "\n",
    "Se puede escribir un archivo de texto (un *script*) que solo contenga definiciones de funciones, a la cual puede considerarse una biblioteca propia, y también se puede importarse:\n",
    "\n",
    "`from mi_biblioteca import *`\n",
    "\n",
    "Así podemos llamar a esta biblioteca desde el *interprete de comandos python* (o el entrono **ipython** o **Jupyter**) y usar sus funciones dentro de este.\n",
    "\n",
    "O bien, se puede importar detro de otro *script*, con lo que podemos llamar esas funciones o ver sus características coma ya mencionamos."
   ]
  },
  {
   "cell_type": "code",
   "execution_count": null,
   "metadata": {},
   "outputs": [],
   "source": [
    "# !touch miBiblio.py"
   ]
  },
  {
   "cell_type": "code",
   "execution_count": null,
   "metadata": {},
   "outputs": [],
   "source": [
    "import miBiblio as mb "
   ]
  },
  {
   "cell_type": "code",
   "execution_count": null,
   "metadata": {},
   "outputs": [],
   "source": [
    "mb."
   ]
  },
  {
   "cell_type": "code",
   "execution_count": null,
   "metadata": {},
   "outputs": [],
   "source": [
    "mb.funcion(9)"
   ]
  },
  {
   "cell_type": "code",
   "execution_count": null,
   "metadata": {},
   "outputs": [],
   "source": []
  },
  {
   "cell_type": "markdown",
   "metadata": {},
   "source": [
    "### **Ejercicio:** \n",
    "\n",
    "Escribe una función que tome como argumento un número entero y que regrese el factorial del mismo.\n",
    "\n",
    "<h4 align=\"center\">$\\displaystyle n! = \\prod_{i=1}^n i$</h4> \n",
    "\n",
    "Y pruebala para diferentes valores."
   ]
  },
  {
   "cell_type": "code",
   "execution_count": null,
   "metadata": {},
   "outputs": [],
   "source": []
  },
  {
   "cell_type": "code",
   "execution_count": null,
   "metadata": {},
   "outputs": [],
   "source": []
  },
  {
   "cell_type": "code",
   "execution_count": null,
   "metadata": {},
   "outputs": [],
   "source": []
  },
  {
   "cell_type": "markdown",
   "metadata": {},
   "source": [
    "### **Ejercicio:** \n",
    "\n",
    "Supongamos, que tenemos un punto $p$ especificado en coordenadas cilíndricas $r$, $\\theta$, $z$. Escribe una función que tome como argumentos los valores de las cordenadas del punto ($r$,$\\theta$,$z$) para que regrese la distancia $d$ del origena a $p$ y pruebala para diferentes valores. \n",
    "\n",
    "*Hint:* La forma más sencilla es usar el teorema de Pitagoras."
   ]
  },
  {
   "cell_type": "code",
   "execution_count": 1,
   "metadata": {},
   "outputs": [],
   "source": [
    "def Disancia (r,theta,z):\n",
    "    p = mt.sqrt(r**2 + z**2)\n",
    "    return p"
   ]
  },
  {
   "cell_type": "code",
   "execution_count": null,
   "metadata": {},
   "outputs": [],
   "source": []
  },
  {
   "cell_type": "code",
   "execution_count": null,
   "metadata": {},
   "outputs": [],
   "source": []
  },
  {
   "cell_type": "markdown",
   "metadata": {},
   "source": [
    "### **Ejercicio:** \n",
    "\n",
    "Supongamos que tenemos un número entero $n$ y queremos saber sus **_factores primos_**. Los factores primos se pueden calcular con relativa facilidad dividiendo repetidamente por todos los números enteros desde 2 hasta $n$ y verificando si el resto es cero. \n",
    "\n",
    "Escribe una función que tome como argumento un número $n$ y devuelva una lista de sus factores primos."
   ]
  },
  {
   "cell_type": "code",
   "execution_count": null,
   "metadata": {},
   "outputs": [],
   "source": []
  },
  {
   "cell_type": "code",
   "execution_count": null,
   "metadata": {},
   "outputs": [],
   "source": []
  },
  {
   "cell_type": "code",
   "execution_count": null,
   "metadata": {},
   "outputs": [],
   "source": []
  },
  {
   "cell_type": "code",
   "execution_count": null,
   "metadata": {},
   "outputs": [],
   "source": []
  }
 ],
 "metadata": {
  "@webio": {
   "lastCommId": null,
   "lastKernelId": null
  },
  "kernelspec": {
   "display_name": "Python 3 (ipykernel)",
   "language": "python",
   "name": "python3"
  },
  "language_info": {
   "codemirror_mode": {
    "name": "ipython",
    "version": 3
   },
   "file_extension": ".py",
   "mimetype": "text/x-python",
   "name": "python",
   "nbconvert_exporter": "python",
   "pygments_lexer": "ipython3",
   "version": "3.13.7"
  }
 },
 "nbformat": 4,
 "nbformat_minor": 4
}
