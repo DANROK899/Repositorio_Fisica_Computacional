{
 "cells": [
  {
   "cell_type": "markdown",
   "id": "affd8c9d-5c64-46a7-a9a1-b5eb46bb7bd0",
   "metadata": {},
   "source": [
    "# Fundamentos de programación para la física computacional\n",
    "### Luis Daniel Amador Islas"
   ]
  },
  {
   "cell_type": "markdown",
   "id": "a80a748c-761a-4691-8f78-3cd8748f7e04",
   "metadata": {},
   "source": [
    "## 1. Constante de Madelung\n",
    "\n",
    "En física de la materia condensada, la _constante de Madelung_ da el potencial eléctrico total\n",
    "que siente un átomo en un sólido; y depende de las cargas de los otros átomos cercanos y de sus ubicaciones.\n",
    "\n",
    "Por ejemplo, el cristal de cloruro de sodio sólido (la sal de mesa), tiene átomos dispuestos en una red cúbica, con átomos de sodio y cloro alternados, teniendo los de sodio una carga posiiva $+e$ y los de cloro una negativa $-e$,(donde $e$ es la carga del electrón).\n",
    "Si etiquetamos cada posición en la red con tres coordenadas enteras ($i,j,k$), entonces los átomos de sodio caen en posiciones donde $i+j+k$ es par, y los átomos de cloro en psocion donde $i+j+k$ es impar.\n",
    "Consideremos un átomo de sodio en el origen, i.e. $i=j=k=0$, y calculemos la _constante de Madelung_. Si el espaciado de los átomos en la red es $a$, entonces la distancia desde el origen al átomo en la posicion (i,j,k) es:\n",
    "\n",
    "$$\n",
    "\\sqrt{(ia)^2 + (ja)^2 + (ka)^2} = a\\sqrt{i^2 + j^2 + k^2}\n",
    "$$\n",
    "\n",
    "y el potencial en el origen creado por tal átomo es:\n",
    "\n",
    "$$\n",
    "V(i,j,k) = ±\\frac{e}{4 \\pi \\epsilon_0a \\sqrt{i^2 + j^2 + k^2}}\n",
    "$$\n",
    "\n",
    "siendo $\\epsilon_0$ la permitividad del vacío y el signo de la expresión se toma dependiendo de si $i +j +k$ es par o impar. Así entonces, el potencial otal que siente el átomo de sodio es la suma de esta cantidad sobre todos los demas átomos. Supongamos una caja cúbica alrededor del átomo de sodio en el origen, con L átomos en todas las direcciones, entonces:\n",
    "\n",
    "$$\n",
    "V_{total} = \\sum_{i,j,k=-L} V(i,j,k) = \\frac{e}{4\\pi \\epsilon_0 a} M,\n",
    "$$\n",
    "\n",
    "donde \\(M\\) es la constante de Madelung (al menos aproximadamente).\n",
    "\n",
    "\n",
    "Técnicamente, la constante de Madelung es el valor de $M$ cuando $L \\to \\infty$, pero se puede obener una buena aproximación simplemente usando un valor grande de $L$. Escribe un programa para calcular e imprimir la _constante de Madelung_ para el cloruro de sodio. Utiliza un valor de $L$ tan grande como puedas, sin dejar que tu programa se ejecutar en un tiempo raoznable (un minuto o menos)."
   ]
  },
  {
   "cell_type": "markdown",
   "id": "b703bf6b-0db3-4f20-a402-01e2567c1830",
   "metadata": {},
   "source": [
    "## RESPUESTA"
   ]
  },
  {
   "cell_type": "code",
   "execution_count": 1,
   "id": "b2fea54d-078b-4867-85d8-62a32482edca",
   "metadata": {},
   "outputs": [
    {
     "name": "stdout",
     "output_type": "stream",
     "text": [
      "-1.7418198158396654\n"
     ]
    }
   ],
   "source": [
    "import numpy as np\n",
    "import math as mt\n",
    "\n",
    "def V(i,j,k):\n",
    "    return (-1)**(i+j+k) / mt.sqrt( i*i + j*j + k*k )\n",
    "    \n",
    "L = 100\n",
    "V_total = 0.0 \n",
    "for i in range(-L, L + 1):\n",
    "    for j in range(-L, L + 1):\n",
    "        for k in range(-L, L + 1):\n",
    "            if i == j == k == 0:\n",
    "                continue\n",
    "            elif (i*j*k)*2 == 0:\n",
    "                V_total += V(i,j,k)\n",
    "            else:\n",
    "                V_total += V(i,j,k)\n",
    "\n",
    "print(V_total)"
   ]
  },
  {
   "cell_type": "markdown",
   "id": "a3f40962-9f22-4fd5-bbfe-213660fdf6ff",
   "metadata": {},
   "source": [
    "## 2. Fórmula semiempírica de la masa\n",
    "\n",
    "**La fórmula semiempírica de la masa (FSM)** En física nuclear, la **fórmula de Weizsäcker** (conocida tambien como fórmula semiempírica) sirve para evaluar la masa y otras propiedades de un núcleo atómico; y está basada parcialmente en mediciones empíricas. En particular la fórmula se usa para calcular la **_energia de enlace nuclear aproximada_** B, de un núcleo atómico con número atómico $Z$ y numero de masa $A$:\n",
    "\n",
    "$$\n",
    "B = a_1 A - a_2 A^{2/3} - a_3 \\frac{Z^2}{A^{1/3}}\n",
    "- a_4 \\frac{(A-2Z)^2}{A} + \\frac{a_5}{A^{1/2}}\n",
    "$$\n",
    "\n",
    "donde, en unidades de millones de elctrón-volts, las constante son $a_1 = 15.8$, $a_2 = 18.3$, $a_3 = 0.714$, $a_4 = 23.2$ y\n",
    "\n",
    "$$\n",
    "a_5 =\n",
    "\\begin{cases}\n",
    "0 & \\text{si A es impar},\\\\\n",
    "12.0 & \\text{si A y Z son pares(ambos),}\\\\\n",
    "-12.0 & \\text{si A es par y Z impar}\n",
    "\\end{cases}\n",
    "$$"
   ]
  },
  {
   "cell_type": "markdown",
   "id": "baa65210-0cef-49d1-8869-1b04a2dfb7a0",
   "metadata": {},
   "source": [
    "## RESPUESTA"
   ]
  },
  {
   "cell_type": "markdown",
   "id": "58418b12-0c59-402c-a6f3-20cb05583557",
   "metadata": {},
   "source": [
    "_a)_ Escribe un programa que tome como entrada los valores de $A$ y $Z$, e imprima la energía de enlace $B$ para el átomo corespondiente. Usa tu programa para encontrar la energía de enlace de un átomo con $A = 58$ y $Z = 28$ (Hint: La respuesta correcta es alrededor de los 490 MeV)"
   ]
  },
  {
   "cell_type": "code",
   "execution_count": 25,
   "id": "9b2b6db0-7917-4eb0-b77b-7de80268c2f4",
   "metadata": {},
   "outputs": [
    {
     "name": "stdout",
     "output_type": "stream",
     "text": [
      "Energía de enlace total (A=58, Z=28): 74.68672437571186\n"
     ]
    }
   ],
   "source": [
    "def energia_enlace(A, Z):\n",
    "    a1, a2, a3, a4 = 15.8, 18.3, 0.714, 23.2\n",
    "    if A % 2 == 1:\n",
    "        a5 = 0\n",
    "    elif Z % 2 == 0:\n",
    "        a5 = 12.0\n",
    "    else:\n",
    "        a5 = -12.0\n",
    "    B = (a1*A \n",
    "         - a2*(A**(2/3)) \n",
    "         - a3*(Z**2)/(A**(1/3)) \n",
    "         - a4*((A - 2*Z)**2)/A \n",
    "         + a5/(A**0.5))\n",
    "    return B\n",
    "\n",
    "def energia_por_nucleon(A, Z):\n",
    "    return energia_enlace(A, Z) / A\n",
    "\n",
    "def nucleo_mas_estable(Z):\n",
    "    mejor_A, mejor_BA = Z, 0\n",
    "    for A in range(Z, 3*Z+1):\n",
    "        BA = energia_por_nucleon(A, Z)\n",
    "        if BA > mejor_BA:\n",
    "            mejor_A, mejor_BA = A, BA\n",
    "    return mejor_A, mejor_BA\n",
    "\n",
    "print(\"Energía de enlace total (A=58, Z=28):\", energia_enlace(12,5))"
   ]
  },
  {
   "cell_type": "markdown",
   "id": "07f2f0d8-9aca-41bc-bf08-5199860ef702",
   "metadata": {},
   "source": [
    "_b)_ Modifica el programa del inciso anterios, para escribir una segunda versión que imprima no la energía de enlace total $B$, sino la energía de unión por mucleón que es $B/A$"
   ]
  },
  {
   "cell_type": "code",
   "execution_count": 26,
   "id": "2b48a4cd-bd62-42e9-aae8-4ccd900aece2",
   "metadata": {},
   "outputs": [
    {
     "name": "stdout",
     "output_type": "stream",
     "text": [
      "Energía por nucleón (A=58, Z=28): 8.578655527973059\n"
     ]
    }
   ],
   "source": [
    "def energia_enlace(A, Z):\n",
    "    a1, a2, a3, a4 = 15.8, 18.3, 0.714, 23.2\n",
    "    if A % 2 == 1:\n",
    "        a5 = 0\n",
    "    elif Z % 2 == 0:\n",
    "        a5 = 12.0\n",
    "    else:\n",
    "        a5 = -12.0\n",
    "    B = (a1*A \n",
    "         - a2*(A**(2/3)) \n",
    "         - a3*(Z**2)/(A**(1/3)) \n",
    "         - a4*((A - 2*Z)**2)/A \n",
    "         + a5/(A**0.5))\n",
    "    return B\n",
    "\n",
    "def energia_por_nucleon(A, Z):\n",
    "    return energia_enlace(A, Z) / A\n",
    "\n",
    "def nucleo_mas_estable(Z):\n",
    "    mejor_A, mejor_BA = Z, 0\n",
    "    for A in range(Z, 3*Z+1):\n",
    "        BA = energia_por_nucleon(A, Z)\n",
    "        if BA > mejor_BA:\n",
    "            mejor_A, mejor_BA = A, BA\n",
    "    return mejor_A, mejor_BA\n",
    "\n",
    "print(\"Energía por nucleón (A=58, Z=28):\", energia_por_nucleon(58,28))"
   ]
  },
  {
   "cell_type": "markdown",
   "id": "e03d76ea-bfb6-4307-8b8a-ddca37febc8e",
   "metadata": {},
   "source": [
    "_c)_ Escribe una tercera versión del programa para que tome como entrada solo un valor del número atómico $Z$ y luego pase por todos los valores de $A$ desde $A = Z$ hasta $A = 3Z$, para enconrar el que iene la mayor energía de enlace por nucleón. Ese es el núcleo mas estable con el número aómico dado. Haz que tu programa imprima el valor de $A$ para este núcleo más esable y el valor de la energía de enlace por nucleón. "
   ]
  },
  {
   "cell_type": "code",
   "execution_count": 58,
   "id": "967a4435-ab6f-4155-aa0d-786eb8e49703",
   "metadata": {},
   "outputs": [
    {
     "name": "stdout",
     "output_type": "stream",
     "text": [
      "El mejor es A = 25 con 8.026 MeV/nucleón\n"
     ]
    }
   ],
   "source": [
    "Z = 11\n",
    "\n",
    "a1, a2, a3, a4 = 15.8, 18.3, 0.714, 23.2\n",
    "\n",
    "mejor_A = Z\n",
    "mejor_valor = 0\n",
    "\n",
    "for A in range(Z, 3*Z + 1):\n",
    "    if A % 2 == 1:\n",
    "        a5 = 0\n",
    "    elif Z % 2 == 0:\n",
    "        a5 = 12.0\n",
    "    else:\n",
    "        a5 = -12.0\n",
    "    \n",
    "    B = (a1*A - a2*(A**(2/3)) - a3*(Z**2)/(A**(1/3)) \n",
    "         - a4*((A-2*Z)**2)/A + a5/(A**0.5))\n",
    "    \n",
    "    energia = B / A\n",
    "    \n",
    "    if energia > mejor_valor:\n",
    "        mejor_A = A\n",
    "        mejor_valor = energia\n",
    "\n",
    "print(f\"El mejor es A = {mejor_A} con {mejor_valor:.3f} MeV/nucleón\")"
   ]
  },
  {
   "cell_type": "markdown",
   "id": "aa745be7-f7ec-4ec6-8d84-50643dbcf9b1",
   "metadata": {},
   "source": [
    "_d)_ FInalmente, escribe una cuarta versión del programa que, en lugar de tomar $Z$ como entrada, se ejecute a través de todos los valores de $Z$ de 1 a 100 e imprima el valor ,ás estable de $A$ para cada uno. ¿A qué valor de $Z$ se produce la energía de enlace máxima por nucleón? (La respuesta correcta, en la vida real, es $Z = 28$, que corresponde al Níquel)."
   ]
  },
  {
   "cell_type": "code",
   "execution_count": 2,
   "id": "1197ef01-3653-42f1-84a7-36ec0b0c3c7e",
   "metadata": {},
   "outputs": [],
   "source": [
    "def energia_enlace(A, Z):\n",
    "    a1, a2, a3, a4 = 15.8, 18.3, 0.714, 23.2\n",
    "    if A % 2 == 1:\n",
    "        a5 = 0\n",
    "    elif Z % 2 == 0:\n",
    "        a5 = 12.0\n",
    "    else:\n",
    "        a5 = -12.0\n",
    "    B = (a1*A \n",
    "         - a2*(A**(2/3)) \n",
    "         - a3*(Z**2)/(A**(1/3)) \n",
    "         - a4*((A - 2*Z)**2)/A \n",
    "         + a5/(A**0.5))\n",
    "    return B\n",
    "\n",
    "def energia_por_nucleon(A, Z):\n",
    "    return energia_enlace(A, Z) / A\n",
    "\n",
    "def nucleo_mas_estable(Z):\n",
    "    mejor_A, mejor_BA = Z, 0\n",
    "    for A in range(Z, 3*Z+1):\n",
    "        BA = energia_por_nucleon(A, Z)\n",
    "        if BA > mejor_BA:\n",
    "            mejor_A, mejor_BA = A, BA\n",
    "    return mejor_A, mejor_BA"
   ]
  },
  {
   "cell_type": "code",
   "execution_count": 4,
   "id": "75b7d5e6-8a5f-41dc-ab5a-3814d7f4bc55",
   "metadata": {
    "scrolled": true
   },
   "outputs": [
    {
     "name": "stdout",
     "output_type": "stream",
     "text": [
      "\n",
      " Resultados hasta 100:\n",
      "Z=1, A más estable=3, B/A=0.37\n",
      "Z=2, A más estable=4, B/A=5.32\n",
      "Z=3, A más estable=7, B/A=5.28\n",
      "Z=4, A más estable=8, B/A=6.47\n",
      "Z=5, A más estable=11, B/A=6.65\n",
      "Z=6, A más estable=14, B/A=7.20\n",
      "Z=7, A más estable=15, B/A=7.33\n",
      "Z=8, A más estable=18, B/A=7.72\n",
      "Z=9, A más estable=19, B/A=7.74\n",
      "Z=10, A más estable=22, B/A=8.04\n",
      "Z=11, A más estable=25, B/A=8.03\n",
      "Z=12, A más estable=26, B/A=8.24\n",
      "Z=13, A más estable=29, B/A=8.24\n",
      "Z=14, A más estable=30, B/A=8.38\n",
      "Z=15, A más estable=33, B/A=8.39\n",
      "Z=16, A más estable=36, B/A=8.49\n",
      "Z=17, A más estable=37, B/A=8.48\n",
      "Z=18, A más estable=40, B/A=8.57\n",
      "Z=19, A más estable=43, B/A=8.55\n",
      "Z=20, A más estable=44, B/A=8.63\n",
      "Z=21, A más estable=47, B/A=8.61\n",
      "Z=22, A más estable=48, B/A=8.66\n",
      "Z=23, A más estable=51, B/A=8.65\n",
      "Z=24, A más estable=54, B/A=8.69\n",
      "Z=25, A más estable=55, B/A=8.66\n",
      "Z=26, A más estable=58, B/A=8.70\n",
      "Z=27, A más estable=61, B/A=8.68\n",
      "Z=28, A más estable=62, B/A=8.70\n",
      "Z=29, A más estable=65, B/A=8.68\n",
      "Z=30, A más estable=68, B/A=8.70\n",
      "Z=31, A más estable=69, B/A=8.68\n",
      "Z=32, A más estable=72, B/A=8.69\n",
      "Z=33, A más estable=75, B/A=8.67\n",
      "Z=34, A más estable=76, B/A=8.68\n",
      "Z=35, A más estable=79, B/A=8.65\n",
      "Z=36, A más estable=82, B/A=8.66\n",
      "Z=37, A más estable=85, B/A=8.63\n",
      "Z=38, A más estable=86, B/A=8.64\n",
      "Z=39, A más estable=89, B/A=8.61\n",
      "Z=40, A más estable=92, B/A=8.61\n",
      "Z=41, A más estable=93, B/A=8.59\n",
      "Z=42, A más estable=96, B/A=8.59\n",
      "Z=43, A más estable=99, B/A=8.56\n",
      "Z=44, A más estable=102, B/A=8.56\n",
      "Z=45, A más estable=103, B/A=8.53\n",
      "Z=46, A más estable=106, B/A=8.53\n",
      "Z=47, A más estable=109, B/A=8.50\n",
      "Z=48, A más estable=110, B/A=8.49\n",
      "Z=49, A más estable=113, B/A=8.47\n",
      "Z=50, A más estable=116, B/A=8.46\n",
      "Z=51, A más estable=119, B/A=8.43\n",
      "Z=52, A más estable=120, B/A=8.42\n",
      "Z=53, A más estable=123, B/A=8.40\n",
      "Z=54, A más estable=126, B/A=8.39\n",
      "Z=55, A más estable=129, B/A=8.36\n",
      "Z=56, A más estable=130, B/A=8.35\n",
      "Z=57, A más estable=133, B/A=8.32\n",
      "Z=58, A más estable=136, B/A=8.31\n",
      "Z=59, A más estable=139, B/A=8.29\n",
      "Z=60, A más estable=140, B/A=8.27\n",
      "Z=61, A más estable=143, B/A=8.25\n",
      "Z=62, A más estable=146, B/A=8.23\n",
      "Z=63, A más estable=149, B/A=8.21\n",
      "Z=64, A más estable=150, B/A=8.19\n",
      "Z=65, A más estable=153, B/A=8.17\n",
      "Z=66, A más estable=156, B/A=8.15\n",
      "Z=67, A más estable=159, B/A=8.13\n",
      "Z=68, A más estable=162, B/A=8.11\n",
      "Z=69, A más estable=163, B/A=8.09\n",
      "Z=70, A más estable=166, B/A=8.07\n",
      "Z=71, A más estable=169, B/A=8.05\n",
      "Z=72, A más estable=172, B/A=8.03\n",
      "Z=73, A más estable=175, B/A=8.00\n",
      "Z=74, A más estable=176, B/A=7.99\n",
      "Z=75, A más estable=179, B/A=7.96\n",
      "Z=76, A más estable=182, B/A=7.95\n",
      "Z=77, A más estable=185, B/A=7.92\n",
      "Z=78, A más estable=188, B/A=7.90\n",
      "Z=79, A más estable=191, B/A=7.88\n",
      "Z=80, A más estable=192, B/A=7.86\n",
      "Z=81, A más estable=195, B/A=7.84\n",
      "Z=82, A más estable=198, B/A=7.82\n",
      "Z=83, A más estable=201, B/A=7.79\n",
      "Z=84, A más estable=204, B/A=7.78\n",
      "Z=85, A más estable=205, B/A=7.75\n",
      "Z=86, A más estable=208, B/A=7.74\n",
      "Z=87, A más estable=211, B/A=7.71\n",
      "Z=88, A más estable=214, B/A=7.69\n",
      "Z=89, A más estable=217, B/A=7.67\n",
      "Z=90, A más estable=220, B/A=7.65\n",
      "Z=91, A más estable=223, B/A=7.63\n",
      "Z=92, A más estable=224, B/A=7.61\n",
      "Z=93, A más estable=227, B/A=7.58\n",
      "Z=94, A más estable=230, B/A=7.57\n",
      "Z=95, A más estable=233, B/A=7.54\n",
      "Z=96, A más estable=236, B/A=7.52\n",
      "Z=97, A más estable=239, B/A=7.50\n",
      "Z=98, A más estable=242, B/A=7.48\n",
      "Z=99, A más estable=243, B/A=7.46\n",
      "Z=100, A más estable=246, B/A=7.44\n"
     ]
    }
   ],
   "source": [
    "resultados = []\n",
    "for Z in range(1, 101):\n",
    "    A_estable, BA = nucleo_mas_estable(Z)\n",
    "    resultados.append((Z, A_estable, BA))\n",
    "\n",
    "print(\"\\n Resultados hasta 100:\")\n",
    "for Z, A, BA in resultados[::1]:\n",
    "    print(f\"Z={Z}, A más estable={A}, B/A={BA:.2f}\")"
   ]
  },
  {
   "cell_type": "markdown",
   "id": "f71fd2d8-9b13-474b-9ff2-6c5abc483149",
   "metadata": {},
   "source": [
    "## 3. Coeficientes binomiales\n",
    "\n",
    "El coeficiente binomial $\\binom{n}{k}$ es un número entero igual a:\n",
    "\n",
    "$$\n",
    "\\binom{n}{k} = \\frac{n!}{k!(n-k)!} = \\frac{n \\times (n - 1) \\times (n - 2) \\times \\dots \\times (n - k + 1)}{1 \\times 2 \\times \\dots \\times k}\n",
    "$$\n",
    "\n",
    "donde $k \\geq 1$, o bien $\\binom{n}{0} = 1$ cuando $k = 0$"
   ]
  },
  {
   "cell_type": "markdown",
   "id": "5991a550-b430-4709-82ce-23a976016d88",
   "metadata": {},
   "source": [
    "## RESPUESTA"
   ]
  },
  {
   "cell_type": "markdown",
   "id": "933cb3d9-4c95-467b-8445-3f4063f2364f",
   "metadata": {},
   "source": [
    "_a)_ Utiliza esta formula para escribir una función llamada $\\texttt{binomial(n, k)}$ (o como tu quieras) que calcule el coeficiente binomial para un $n$ y $k$ dados. Asegúrate de que tu función devuelva la respuesta en forma de un número entero (no flotante) y proporcione el valor correcto de 1 para el caso en que $k = 0$"
   ]
  },
  {
   "cell_type": "code",
   "execution_count": 7,
   "id": "ec5dc22f-4798-4356-8568-a0ffb6248d0b",
   "metadata": {},
   "outputs": [
    {
     "name": "stdout",
     "output_type": "stream",
     "text": [
      "10\n"
     ]
    }
   ],
   "source": [
    "import math as mt\n",
    "\n",
    "def binomial(n, k):\n",
    "    return mt.comb(n, k)\n",
    "    if k == 0 or k == n:\n",
    "        return 1\n",
    "    else:\n",
    "        return math.factorial(n) // (mt.factorial(k) * mt.factorial(n - k))\n",
    "\n",
    "print(binomial(5, 2))"
   ]
  },
  {
   "cell_type": "markdown",
   "id": "dcdfdb7c-8df0-4097-a2d9-e35e03a9ce13",
   "metadata": {},
   "source": [
    "_b)_ Usando tu función, escribe un programa que imprima las primeras 20 lineas del \"_triángulo de Pascal_\". La _n_-ésima línea del triángulo de Pascal contiene $n + 1$ números, que son los coeficientes $\\binom{n}{0}$, $\\binom{n}{1}$, y así sucesivamente hasta $\\binom{n}{n}$. De tal manera que las primeras líneas son:"
   ]
  },
  {
   "cell_type": "code",
   "execution_count": 8,
   "id": "b396e7f0-2740-457c-8407-75d566c9392d",
   "metadata": {},
   "outputs": [
    {
     "name": "stdout",
     "output_type": "stream",
     "text": [
      "b) Triángulo de Pascal (20 líneas):\n",
      "1\n",
      "1 1\n",
      "1 2 1\n",
      "1 3 3 1\n",
      "1 4 6 4 1\n",
      "1 5 10 10 5 1\n",
      "1 6 15 20 15 6 1\n",
      "1 7 21 35 35 21 7 1\n",
      "1 8 28 56 70 56 28 8 1\n",
      "1 9 36 84 126 126 84 36 9 1\n",
      "1 10 45 120 210 252 210 120 45 10 1\n",
      "1 11 55 165 330 462 462 330 165 55 11 1\n",
      "1 12 66 220 495 792 924 792 495 220 66 12 1\n",
      "1 13 78 286 715 1287 1716 1716 1287 715 286 78 13 1\n",
      "1 14 91 364 1001 2002 3003 3432 3003 2002 1001 364 91 14 1\n",
      "1 15 105 455 1365 3003 5005 6435 6435 5005 3003 1365 455 105 15 1\n",
      "1 16 120 560 1820 4368 8008 11440 12870 11440 8008 4368 1820 560 120 16 1\n",
      "1 17 136 680 2380 6188 12376 19448 24310 24310 19448 12376 6188 2380 680 136 17 1\n",
      "1 18 153 816 3060 8568 18564 31824 43758 48620 43758 31824 18564 8568 3060 816 153 18 1\n",
      "1 19 171 969 3876 11628 27132 50388 75582 92378 92378 75582 50388 27132 11628 3876 969 171 19 1\n"
     ]
    }
   ],
   "source": [
    "def binomial(n, k):\n",
    "    return mt.comb(n, k)\n",
    "print(\"b) Triángulo de Pascal (20 líneas):\")\n",
    "for n in range(20):\n",
    "    fila = [binomial(n, k) for k in range(n+1)]\n",
    "    print(\" \".join(map(str, fila)))"
   ]
  },
  {
   "cell_type": "markdown",
   "id": "3fb14884-2364-4351-9bd5-58eff8a03c2c",
   "metadata": {},
   "source": [
    "_c)_ La probabilidad de que para una moneda no sesgada, lanzada $n$ veces, salga águila $k$ veces es:\n",
    "\n",
    "$$\n",
    "p(k|n) = \\frac{\\binom{n}{k}}{2^n}\n",
    "$$\n",
    "\n",
    "Escribe un programa para calcular:"
   ]
  },
  {
   "cell_type": "markdown",
   "id": "192947a1-31e4-4238-9625-20001c38d54e",
   "metadata": {},
   "source": [
    "1) La probabilidad total de que una moneda lanzada 100 veces, salga águila exactamente 60 veces"
   ]
  },
  {
   "cell_type": "code",
   "execution_count": 9,
   "id": "fd7b0cf8-148f-454f-a633-42cec7d0ebd4",
   "metadata": {},
   "outputs": [
    {
     "name": "stdout",
     "output_type": "stream",
     "text": [
      "P(60 águilas en 100): 0.010843866711637987\n"
     ]
    }
   ],
   "source": [
    "def probabilidad_1(n, k):\n",
    "    return binomial(n, k) / (2**n)\n",
    "\n",
    "p1 = probabilidad_1(100, 60)\n",
    "\n",
    "print(\"P(60 águilas en 100):\", p1)"
   ]
  },
  {
   "cell_type": "markdown",
   "id": "30bf1d17-dcf3-4ae2-9462-774cc73730e9",
   "metadata": {},
   "source": [
    "2) La probabilidad de que salga águila 60 veces o más"
   ]
  },
  {
   "cell_type": "code",
   "execution_count": 10,
   "id": "10b997e7-d314-4491-9dd6-e140ffa24e41",
   "metadata": {},
   "outputs": [
    {
     "name": "stdout",
     "output_type": "stream",
     "text": [
      "P(60 o +60): 0.028443966820490395\n"
     ]
    }
   ],
   "source": [
    "def probabilidad_2(n, k):\n",
    "    prob = 0\n",
    "    for i in range(k, n + 1):\n",
    "        prob += probabilidad_1(n, i)\n",
    "        return prob\n",
    "\n",
    "p2 = sum(probabilidad_2(100, k) for k in range(60, 101))\n",
    "\n",
    "print(\"P(60 o +60):\", p2)"
   ]
  },
  {
   "cell_type": "markdown",
   "id": "f8b969e4-4d0e-4d99-9348-87025d0f8a4c",
   "metadata": {},
   "source": [
    "## 4. Números primos\n",
    "\n",
    "Una manera no muy eficiente para calcular números primos, es comprobar i cada número es divisible por cualquier número menor que él. Sin embargo, es posible escribir un programa mucho más rápido para números primos utilizando las siguientes observaciones:\n",
    "\n",
    "_a)_ Un número $n$ es primo si no tiene factores primos menores que $n$.\n",
    "Por lo tanto, solo necesitamos comprobar si es divisible por otros primos.\n",
    "\n",
    "_b)_ Si un número no es primo, con un factor $r$, entonces $n = rs$, donde $s$ tambien es un factor. Si $r \\geq \\sqrt{n}$, entonce $n = rs \\ geq \\sqrt{ns}$, lo que implica que $s \\leq \\sqrt{n}$.\n",
    "En otras palabras, cualquier número no primo debe tener factores, y por lo tanto tambien factores primos, menores o iguales a $\\sqrt{n}$. Por lo tanto, para determinar si un número es primo, debemos comprobar sus factores primos solo hasta $\\sqrt{n}$ inclusiv; si no hay ninguno, entonces el número es primo.\n",
    "\n",
    "_c)_ Si encontramos incluso un solo factor primo menor que $\\sqrt{n}$, sabemos que el número no es primo y, por lo tanto, no hay necesidad de comprobar más; podemos descartar este número y pasar a otro."
   ]
  },
  {
   "cell_type": "markdown",
   "id": "e31ca84b-973e-4b66-926b-8ce77bc98322",
   "metadata": {},
   "source": [
    "Escribe un programa que encuentre todos los primos hasta diez mil.\n",
    "Crea una lista para almacenar los primos, que comience sólo con el número 2. Luego para cada número $n$ del 3 al 10,000 comprueba si es divisible por alguno de los primos de la lista hasta $\\sqrt{n}$. En cuanto encuentres un facotr primo, puedes dejar de revisar los demas; pues ya sabes que $n$ no es primo.\n",
    "\n",
    "SI no encuentras ningún factor primo $\\sqrt{n}$ o menor, entonces $n$ es primo y debes añadirlo a la lista.\n",
    "\n",
    "Puedes imprimir la lista completa al final del programa o imprimir los numeros individuales a medida que los encuentras."
   ]
  },
  {
   "cell_type": "markdown",
   "id": "b80a97fd-e0f0-41d6-9e97-107156c0a1d8",
   "metadata": {},
   "source": [
    "## RESPUESTA"
   ]
  },
  {
   "cell_type": "code",
   "execution_count": 15,
   "id": "0a118320",
   "metadata": {
    "scrolled": true
   },
   "outputs": [
    {
     "name": "stdout",
     "output_type": "stream",
     "text": [
      "Se encontraron 1898 números primos hasta 10,000\n",
      "[3, 4, 5, 6, 7, 8, 10, 11, 13, 14, 17, 19, 22, 23, 26, 29, 31, 34, 37, 38, 41, 43, 46, 47, 53, 58, 59, 61, 62, 67, 71, 73, 74, 79, 82, 83, 86, 89, 94, 97, 101, 103, 106, 107, 109, 113, 118, 122, 127, 131, 134, 137, 139, 142, 146, 149, 151, 157, 158, 163, 166, 167, 173, 178, 179, 181, 191, 193, 194, 197, 199, 202, 206, 211, 214, 218, 223, 226, 227, 229, 233, 239, 241, 251, 254, 257, 262, 263, 269, 271, 274, 277, 278, 281, 283, 293, 298, 302, 307, 311, 313, 314, 317, 326, 331, 334, 337, 346, 347, 349, 353, 358, 359, 362, 367, 373, 379, 382, 383, 386, 389, 394, 397, 398, 401, 409, 419, 421, 422, 431, 433, 439, 443, 446, 449, 454, 457, 458, 461, 463, 466, 467, 478, 479, 482, 487, 491, 499, 502, 503, 509, 514, 521, 523, 526, 538, 541, 542, 547, 554, 557, 562, 563, 566, 569, 571, 577, 586, 587, 593, 599, 601, 607, 613, 614, 617, 619, 622, 626, 631, 634, 641, 643, 647, 653, 659, 661, 662, 673, 674, 677, 683, 691, 694, 698, 701, 706, 709, 718, 719, 727, 733, 734, 739, 743, 746, 751, 757, 758, 761, 766, 769, 773, 778, 787, 794, 797, 802, 809, 811, 818, 821, 823, 827, 829, 838, 839, 842, 853, 857, 859, 862, 863, 866, 877, 878, 881, 883, 886, 887, 898, 907, 911, 914, 919, 922, 926, 929, 934, 937, 941, 947, 953, 958, 967, 971, 974, 977, 982, 983, 991, 997, 998, 1006, 1009, 1013, 1018, 1019, 1021, 1031, 1033, 1039, 1042, 1046, 1049, 1051, 1061, 1063, 1069, 1082, 1087, 1091, 1093, 1094, 1097, 1103, 1109, 1114, 1117, 1123, 1126, 1129, 1138, 1142, 1151, 1153, 1154, 1163, 1171, 1174, 1181, 1186, 1187, 1193, 1198, 1201, 1202, 1213, 1214, 1217, 1223, 1226, 1229, 1231, 1234, 1237, 1238, 1249, 1259, 1262, 1277, 1279, 1282, 1283, 1286, 1289, 1291, 1294, 1297, 1301, 1303, 1306, 1307, 1318, 1319, 1321, 1322, 1327, 1346, 1354, 1361, 1366, 1367, 1373, 1381, 1382, 1399, 1402, 1409, 1418, 1423, 1427, 1429, 1433, 1438, 1439, 1447, 1451, 1453, 1454, 1459, 1466, 1471, 1478, 1481, 1483, 1486, 1487, 1489, 1493, 1499, 1502, 1511, 1514, 1522, 1523, 1531, 1538, 1543, 1546, 1549, 1553, 1559, 1567, 1571, 1574, 1579, 1583, 1594, 1597, 1601, 1607, 1609, 1613, 1618, 1619, 1621, 1622, 1627, 1637, 1642, 1646, 1654, 1657, 1658, 1663, 1667, 1669, 1678, 1693, 1697, 1699, 1706, 1709, 1714, 1718, 1721, 1723, 1726, 1733, 1741, 1747, 1753, 1754, 1759, 1762, 1766, 1774, 1777, 1783, 1787, 1789, 1801, 1811, 1814, 1822, 1823, 1831, 1838, 1847, 1858, 1861, 1867, 1871, 1873, 1874, 1877, 1879, 1882, 1889, 1894, 1901, 1906, 1907, 1913, 1931, 1933, 1934, 1942, 1949, 1951, 1954, 1966, 1973, 1979, 1982, 1987, 1993, 1994, 1997, 1999, 2003, 2011, 2017, 2018, 2026, 2027, 2029, 2038, 2039, 2042, 2053, 2062, 2063, 2066, 2069, 2078, 2081, 2083, 2087, 2089, 2098, 2099, 2102, 2111, 2113, 2122, 2126, 2129, 2131, 2137, 2138, 2141, 2143, 2153, 2161, 2174, 2179, 2182, 2186, 2194, 2203, 2206, 2207, 2213, 2218, 2221, 2234, 2237, 2239, 2243, 2246, 2251, 2258, 2267, 2269, 2273, 2281, 2287, 2293, 2297, 2302, 2306, 2309, 2311, 2326, 2333, 2339, 2341, 2342, 2347, 2351, 2357, 2362, 2371, 2374, 2377, 2381, 2383, 2386, 2389, 2393, 2399, 2402, 2411, 2417, 2423, 2426, 2434, 2437, 2441, 2446, 2447, 2458, 2459, 2462, 2467, 2473, 2474, 2477, 2498, 2503, 2518, 2521, 2531, 2539, 2543, 2549, 2551, 2554, 2557, 2558, 2566, 2578, 2579, 2582, 2591, 2593, 2594, 2602, 2606, 2609, 2614, 2617, 2621, 2633, 2638, 2642, 2647, 2654, 2657, 2659, 2663, 2671, 2677, 2683, 2687, 2689, 2693, 2699, 2707, 2711, 2713, 2719, 2722, 2729, 2731, 2734, 2741, 2746, 2749, 2753, 2762, 2767, 2777, 2789, 2791, 2797, 2798, 2801, 2803, 2818, 2819, 2833, 2837, 2843, 2846, 2851, 2854, 2857, 2858, 2861, 2866, 2878, 2879, 2887, 2894, 2897, 2902, 2903, 2906, 2909, 2917, 2918, 2927, 2939, 2942, 2953, 2957, 2962, 2963, 2966, 2969, 2971, 2974, 2978, 2986, 2998, 2999, 3001, 3011, 3019, 3022, 3023, 3037, 3041, 3046, 3049, 3061, 3062, 3067, 3079, 3083, 3086, 3089, 3098, 3106, 3109, 3118, 3119, 3121, 3134, 3137, 3142, 3158, 3163, 3166, 3167, 3169, 3181, 3187, 3191, 3194, 3202, 3203, 3209, 3214, 3217, 3218, 3221, 3226, 3229, 3238, 3242, 3251, 3253, 3254, 3257, 3259, 3271, 3274, 3299, 3301, 3307, 3313, 3314, 3319, 3323, 3326, 3329, 3331, 3334, 3338, 3343, 3347, 3359, 3361, 3371, 3373, 3386, 3389, 3391, 3394, 3398, 3407, 3413, 3418, 3433, 3442, 3446, 3449, 3457, 3461, 3463, 3466, 3467, 3469, 3482, 3491, 3494, 3499, 3506, 3511, 3517, 3518, 3527, 3529, 3533, 3539, 3541, 3547, 3554, 3557, 3559, 3566, 3571, 3574, 3578, 3581, 3583, 3593, 3602, 3607, 3613, 3617, 3622, 3623, 3631, 3637, 3643, 3646, 3659, 3662, 3671, 3673, 3677, 3691, 3694, 3697, 3701, 3709, 3719, 3722, 3727, 3733, 3734, 3739, 3742, 3746, 3754, 3758, 3761, 3767, 3769, 3778, 3779, 3793, 3797, 3802, 3803, 3814, 3821, 3823, 3826, 3833, 3847, 3851, 3853, 3862, 3863, 3866, 3877, 3881, 3889, 3898, 3902, 3907, 3911, 3917, 3919, 3923, 3929, 3931, 3943, 3946, 3947, 3958, 3967, 3974, 3986, 3989, 3994, 3998, 4001, 4003, 4006, 4007, 4013, 4019, 4021, 4022, 4027, 4034, 4049, 4051, 4054, 4057, 4058, 4073, 4078, 4079, 4091, 4093, 4099, 4106, 4111, 4126, 4127, 4129, 4133, 4138, 4139, 4153, 4157, 4159, 4162, 4166, 4174, 4177, 4178, 4198, 4201, 4211, 4217, 4219, 4222, 4226, 4229, 4231, 4241, 4243, 4253, 4258, 4259, 4261, 4262, 4271, 4273, 4274, 4282, 4283, 4286, 4289, 4297, 4306, 4322, 4327, 4337, 4339, 4349, 4357, 4358, 4363, 4373, 4391, 4397, 4406, 4409, 4414, 4421, 4423, 4426, 4441, 4442, 4447, 4451, 4457, 4463, 4474, 4478, 4481, 4483, 4486, 4493, 4502, 4507, 4513, 4517, 4519, 4523, 4534, 4538, 4546, 4547, 4549, 4561, 4562, 4567, 4574, 4583, 4586, 4591, 4594, 4597, 4603, 4618, 4621, 4622, 4637, 4639, 4643, 4649, 4651, 4657, 4663, 4666, 4673, 4678, 4679, 4682, 4691, 4694, 4702, 4703, 4714, 4721, 4723, 4729, 4733, 4742, 4751, 4754, 4759, 4762, 4766, 4778, 4783, 4786, 4787, 4789, 4793, 4798, 4799, 4801, 4813, 4817, 4822, 4831, 4834, 4846, 4861, 4871, 4874, 4877, 4882, 4889, 4894, 4903, 4909, 4918, 4919, 4931, 4933, 4934, 4937, 4943, 4946, 4951, 4954, 4957, 4967, 4969, 4973, 4987, 4993, 4999, 5003, 5006, 5009, 5011, 5021, 5023, 5039, 5042, 5051, 5059, 5062, 5077, 5078, 5081, 5086, 5087, 5098, 5099, 5101, 5102, 5107, 5113, 5114, 5119, 5147, 5153, 5158, 5167, 5171, 5179, 5182, 5186, 5189, 5197, 5209, 5218, 5227, 5231, 5233, 5234, 5237, 5242, 5261, 5266, 5273, 5279, 5281, 5294, 5297, 5303, 5309, 5314, 5318, 5323, 5326, 5333, 5342, 5347, 5351, 5354, 5366, 5374, 5378, 5381, 5386, 5387, 5393, 5398, 5399, 5407, 5413, 5414, 5417, 5419, 5422, 5426, 5431, 5437, 5438, 5441, 5443, 5449, 5458, 5462, 5471, 5477, 5479, 5482, 5483, 5498, 5501, 5503, 5506, 5507, 5519, 5521, 5527, 5531, 5534, 5554, 5557, 5563, 5569, 5573, 5578, 5581, 5582, 5591, 5594, 5602, 5606, 5623, 5638, 5639, 5641, 5647, 5651, 5653, 5657, 5659, 5666, 5669, 5674, 5683, 5686, 5689, 5693, 5701, 5702, 5711, 5714, 5717, 5722, 5737, 5741, 5743, 5749, 5758, 5774, 5779, 5783, 5791, 5794, 5801, 5806, 5807, 5813, 5818, 5821, 5827, 5834, 5839, 5843, 5849, 5851, 5854, 5857, 5861, 5867, 5869, 5878, 5879, 5881, 5897, 5903, 5906, 5914, 5923, 5926, 5927, 5938, 5939, 5942, 5953, 5981, 5987, 5998, 6002, 6007, 6011, 6022, 6029, 6037, 6038, 6043, 6046, 6047, 6053, 6067, 6073, 6074, 6079, 6082, 6089, 6091, 6098, 6101, 6113, 6121, 6122, 6131, 6133, 6134, 6143, 6151, 6158, 6163, 6166, 6173, 6178, 6197, 6199, 6203, 6211, 6217, 6218, 6221, 6229, 6238, 6242, 6247, 6257, 6263, 6269, 6271, 6274, 6277, 6287, 6299, 6301, 6311, 6317, 6323, 6326, 6329, 6334, 6337, 6338, 6343, 6353, 6359, 6361, 6362, 6367, 6373, 6374, 6379, 6382, 6389, 6397, 6406, 6418, 6421, 6427, 6434, 6442, 6449, 6451, 6458, 6469, 6473, 6481, 6491, 6502, 6506, 6514, 6518, 6521, 6529, 6542, 6547, 6551, 6553, 6563, 6569, 6571, 6577, 6581, 6598, 6599, 6602, 6607, 6614, 6619, 6626, 6637, 6638, 6646, 6653, 6658, 6659, 6661, 6662, 6673, 6679, 6686, 6689, 6691, 6694, 6701, 6703, 6709, 6718, 6719, 6722, 6733, 6737, 6742, 6746, 6761, 6763, 6778, 6779, 6781, 6782, 6791, 6793, 6803, 6814, 6823, 6826, 6827, 6829, 6833, 6841, 6857, 6863, 6866, 6869, 6871, 6883, 6898, 6899, 6907, 6911, 6914, 6917, 6922, 6926, 6934, 6938, 6947, 6949, 6959, 6961, 6967, 6971, 6977, 6982, 6983, 6991, 6997, 6998, 7001, 7013, 7019, 7022, 7027, 7034, 7039, 7043, 7054, 7057, 7058, 7066, 7069, 7078, 7079, 7082, 7094, 7103, 7109, 7114, 7118, 7121, 7127, 7129, 7142, 7151, 7159, 7162, 7166, 7177, 7186, 7187, 7193, 7207, 7211, 7213, 7214, 7219, 7226, 7229, 7234, 7237, 7243, 7246, 7247, 7253, 7262, 7274, 7283, 7286, 7297, 7307, 7309, 7318, 7321, 7331, 7333, 7342, 7346, 7349, 7351, 7354, 7369, 7382, 7393, 7394, 7402, 7411, 7417, 7418, 7433, 7438, 7451, 7454, 7457, 7459, 7466, 7477, 7478, 7481, 7487, 7489, 7499, 7507, 7517, 7522, 7523, 7529, 7534, 7537, 7538, 7541, 7547, 7549, 7558, 7559, 7561, 7573, 7577, 7583, 7586, 7589, 7591, 7594, 7603, 7606, 7607, 7621, 7639, 7642, 7643, 7646, 7649, 7666, 7669, 7673, 7681, 7687, 7691, 7694, 7699, 7702, 7703, 7706, 7717, 7723, 7726, 7727, 7741, 7753, 7754, 7757, 7759, 7762, 7778, 7789, 7793, 7814, 7817, 7822, 7823, 7829, 7834, 7838, 7841, 7846, 7853, 7858, 7862, 7867, 7873, 7877, 7879, 7883, 7886, 7894, 7901, 7907, 7919, 7927, 7933, 7934, 7937, 7949, 7951, 7963, 7978, 7993, 8002, 8006, 8009, 8011, 8014, 8017, 8026, 8038, 8039, 8042, 8053, 8054, 8059, 8069, 8081, 8087, 8089, 8093, 8098, 8101, 8102, 8111, 8114, 8117, 8123, 8146, 8147, 8158, 8161, 8167, 8171, 8179, 8182, 8186, 8191, 8198, 8209, 8219, 8221, 8222, 8231, 8233, 8237, 8243, 8254, 8258, 8263, 8266, 8269, 8273, 8278, 8287, 8291, 8293, 8297, 8306, 8311, 8314, 8317, 8318, 8329, 8353, 8354, 8363, 8369, 8377, 8387, 8389, 8402, 8419, 8422, 8423, 8429, 8431, 8434, 8438, 8443, 8447, 8458, 8461, 8462, 8467, 8482, 8486, 8501, 8506, 8513, 8518, 8521, 8522, 8527, 8537, 8539, 8542, 8543, 8546, 8563, 8566, 8573, 8578, 8581, 8594, 8597, 8599, 8609, 8623, 8627, 8629, 8641, 8647, 8654, 8663, 8669, 8674, 8677, 8678, 8681, 8689, 8693, 8698, 8699, 8707, 8713, 8714, 8719, 8726, 8731, 8737, 8741, 8746, 8747, 8753, 8761, 8779, 8782, 8783, 8794, 8803, 8807, 8818, 8819, 8821, 8831, 8837, 8839, 8842, 8846, 8849, 8861, 8863, 8867, 8882, 8887, 8893, 8894, 8902, 8914, 8923, 8926, 8929, 8933, 8941, 8951, 8962, 8963, 8966, 8969, 8971, 8986, 8999, 9001, 9007, 9011, 9013, 9014, 9026, 9029, 9034, 9038, 9041, 9043, 9046, 9049, 9059, 9067, 9091, 9094, 9098, 9103, 9109, 9122, 9127, 9133, 9134, 9137, 9151, 9157, 9161, 9166, 9173, 9181, 9182, 9187, 9194, 9199, 9203, 9206, 9209, 9221, 9227, 9239, 9241, 9242, 9257, 9274, 9277, 9278, 9281, 9283, 9286, 9293, 9298, 9302, 9311, 9314, 9319, 9323, 9326, 9337, 9341, 9343, 9346, 9349, 9358, 9371, 9377, 9382, 9391, 9397, 9403, 9406, 9413, 9419, 9421, 9431, 9433, 9437, 9439, 9442, 9446, 9458, 9461, 9463, 9466, 9467, 9473, 9479, 9491, 9497, 9502, 9511, 9518, 9521, 9533, 9539, 9547, 9551, 9566, 9574, 9578, 9586, 9587, 9598, 9601, 9602, 9613, 9619, 9623, 9626, 9629, 9631, 9634, 9643, 9649, 9661, 9662, 9677, 9679, 9689, 9697, 9719, 9721, 9722, 9733, 9739, 9742, 9743, 9749, 9754, 9767, 9769, 9778, 9781, 9787, 9791, 9803, 9806, 9811, 9817, 9818, 9829, 9833, 9838, 9839, 9851, 9857, 9859, 9862, 9866, 9871, 9874, 9883, 9886, 9887, 9901, 9902, 9907, 9914, 9923, 9929, 9931, 9934, 9938, 9941, 9946, 9949, 9967, 9973, 9974, 9986, 9998]\n"
     ]
    }
   ],
   "source": [
    "import math\n",
    "\n",
    "def encontrar_primos_hasta(limite):\n",
    "    \"\"\"\n",
    "    Encuentra todos los números primos hasta el límite especificado\n",
    "    \"\"\"\n",
    "\n",
    "    primos = []\n",
    "    \n",
    "    # Para cada número n del 3 al límite\n",
    "    for n in range(3, limite + 1):\n",
    "        # Calculamos la raíz cuadrada de n\n",
    "        raiz_n = math.isqrt(n)\n",
    "        es_primo = True\n",
    "        \n",
    "        # Comprobamos si es divisible por alguno de los primos de la lista hasta √n\n",
    "        for primo in primos:\n",
    "            # Si el primo actual es mayor que √n, podemos detenernos\n",
    "            if primo > raiz_n:\n",
    "                break\n",
    "                \n",
    "            # Si encontramos un factor primo, sabemos que n no es primo\n",
    "            if n % primo == 0:\n",
    "                es_primo = False\n",
    "                break  # Dejamos de revisar inmediatamente\n",
    "        \n",
    "        # Si no encontramos ningún factor primo ≤ √n, entonces n es primo\n",
    "        if es_primo:\n",
    "            primos.append(n)\n",
    "    \n",
    "    return primos\n",
    "\n",
    "def main():\n",
    "    # Encontrar todos los primos hasta 10,000\n",
    "    primos = encontrar_primos_hasta(10000)\n",
    "    print(f\"Se encontraron {len(primos)} números primos hasta 10,000\")\n",
    "    print(primos)\n",
    "\n",
    "if __name__ == \"__main__\":\n",
    "    main()"
   ]
  },
  {
   "cell_type": "code",
   "execution_count": 16,
   "id": "bac2bf51-e035-462e-837d-d4068adf8911",
   "metadata": {
    "scrolled": true
   },
   "outputs": [
    {
     "name": "stdout",
     "output_type": "stream",
     "text": [
      "Primos que comienzan con 2: 228\n",
      "[22, 23, 26, 29, 202, 206, 211, 214, 218, 223, 226, 227, 229, 233, 239, 241, 251, 254, 257, 262, 263, 269, 271, 274, 277, 278, 281, 283, 293, 298, 2003, 2011, 2017, 2018, 2026, 2027, 2029, 2038, 2039, 2042, 2053, 2062, 2063, 2066, 2069, 2078, 2081, 2083, 2087, 2089, 2098, 2099, 2102, 2111, 2113, 2122, 2126, 2129, 2131, 2137, 2138, 2141, 2143, 2153, 2161, 2174, 2179, 2182, 2186, 2194, 2203, 2206, 2207, 2213, 2218, 2221, 2234, 2237, 2239, 2243, 2246, 2251, 2258, 2267, 2269, 2273, 2281, 2287, 2293, 2297, 2302, 2306, 2309, 2311, 2326, 2333, 2339, 2341, 2342, 2347, 2351, 2357, 2362, 2371, 2374, 2377, 2381, 2383, 2386, 2389, 2393, 2399, 2402, 2411, 2417, 2423, 2426, 2434, 2437, 2441, 2446, 2447, 2458, 2459, 2462, 2467, 2473, 2474, 2477, 2498, 2503, 2518, 2521, 2531, 2539, 2543, 2549, 2551, 2554, 2557, 2558, 2566, 2578, 2579, 2582, 2591, 2593, 2594, 2602, 2606, 2609, 2614, 2617, 2621, 2633, 2638, 2642, 2647, 2654, 2657, 2659, 2663, 2671, 2677, 2683, 2687, 2689, 2693, 2699, 2707, 2711, 2713, 2719, 2722, 2729, 2731, 2734, 2741, 2746, 2749, 2753, 2762, 2767, 2777, 2789, 2791, 2797, 2798, 2801, 2803, 2818, 2819, 2833, 2837, 2843, 2846, 2851, 2854, 2857, 2858, 2861, 2866, 2878, 2879, 2887, 2894, 2897, 2902, 2903, 2906, 2909, 2917, 2918, 2927, 2939, 2942, 2953, 2957, 2962, 2963, 2966, 2969, 2971, 2974, 2978, 2986, 2998, 2999]\n"
     ]
    }
   ],
   "source": [
    "def filtrar_primos_con_2(primos):\n",
    "    \"\"\"\n",
    "    Filtra solo los números primos que comienzan con el dígito 2\n",
    "    \"\"\"\n",
    "    primos_con_2 = []\n",
    "    for primo in primos:\n",
    "        if str(primo).startswith('2'):\n",
    "            primos_con_2.append(primo)\n",
    "    return primos_con_2\n",
    "\n",
    "# Ejemplo de uso\n",
    "todos_primos = encontrar_primos_hasta(10000)\n",
    "primos_con_2 = filtrar_primos_con_2(todos_primos)\n",
    "print(f\"Primos que comienzan con 2: {len(primos_con_2)}\")\n",
    "print(primos_con_2)"
   ]
  },
  {
   "cell_type": "code",
   "execution_count": 17,
   "id": "7a856826",
   "metadata": {},
   "outputs": [
    {
     "name": "stdout",
     "output_type": "stream",
     "text": [
      "¡Archivo 'primos_con_2.txt' creado exitosamente!\n"
     ]
    }
   ],
   "source": [
    "def guardar_primos_con_2(primos, nombre_archivo='primos_con_2.txt'):\n",
    "    \"\"\"\n",
    "    Guarda los primos que comienzan con 2 en un archivo de texto\n",
    "    \"\"\"\n",
    "    primos_con_2 = filtrar_primos_con_2(primos)\n",
    "    \n",
    "    with open(nombre_archivo, 'w') as archivo:\n",
    "        for primo in primos_con_2:\n",
    "            archivo.write(str(primo) + '\\n')\n",
    "    \n",
    "    print(f\"¡Archivo '{nombre_archivo}' creado exitosamente!\")\n",
    "\n",
    "# Ejecutar\n",
    "todos_primos = encontrar_primos_hasta(10000)\n",
    "guardar_primos_con_2(todos_primos)"
   ]
  },
  {
   "cell_type": "code",
   "execution_count": null,
   "id": "3164bbc3-1ff1-4c33-909b-6b4b62a444f3",
   "metadata": {},
   "outputs": [],
   "source": []
  }
 ],
 "metadata": {
  "kernelspec": {
   "display_name": "Python 3 (ipykernel)",
   "language": "python",
   "name": "python3"
  },
  "language_info": {
   "codemirror_mode": {
    "name": "ipython",
    "version": 3
   },
   "file_extension": ".py",
   "mimetype": "text/x-python",
   "name": "python",
   "nbconvert_exporter": "python",
   "pygments_lexer": "ipython3",
   "version": "3.13.7"
  }
 },
 "nbformat": 4,
 "nbformat_minor": 5
}
