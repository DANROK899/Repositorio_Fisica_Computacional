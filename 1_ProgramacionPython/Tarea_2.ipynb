{
 "cells": [
  {
   "cell_type": "markdown",
   "id": "affd8c9d-5c64-46a7-a9a1-b5eb46bb7bd0",
   "metadata": {},
   "source": [
    "# Fundamentos de programación para la física computacional\n",
    "### Luis Daniel Amador Islas"
   ]
  },
  {
   "cell_type": "markdown",
   "id": "a80a748c-761a-4691-8f78-3cd8748f7e04",
   "metadata": {},
   "source": [
    "## 1. Constante de Madelung\n",
    "\n",
    "En física de la materia condensada, la _constante de Madelung_ da el potencial eléctrico total\n",
    "que siente un átomo en un sólido; y depende de las cargas de los otros átomos cercanos y de sus ubicaciones.\n",
    "\n",
    "Por ejemplo, el cristal de cloruro de sodio sólido (la sal de mesa), tiene átomos dispuestos en una red cúbica, con átomos de sodio y cloro alternados, teniendo los de sodio una carga posiiva $+e$ y los de cloro una negativa $-e$,(donde $e$ es la carga del electrón).\n",
    "Si etiquetamos cada posición en la red con tres coordenadas enteras ($i,j,k$), entonces los átomos de sodio caen en posiciones donde $i+j+k$ es par, y los átomos de cloro en psocion donde $i+j+k$ es impar.\n",
    "Consideremos un átomo de sodio en el origen, i.e. $i=j=k=0$, y calculemos la _constante de Madelung_. Si el espaciado de los átomos en la red es $a$, entonces la distancia desde el origen al átomo en la posicion (i,j,k) es:\n",
    "\n",
    "$$\n",
    "\\sqrt{(ia)^2 + (ja)^2 + (ka)^2} = a\\sqrt{i^2 + j^2 + k^2}\n",
    "$$\n",
    "\n",
    "y el potencial en el origen creado por tal átomo es:\n",
    "\n",
    "$$\n",
    "V(i,j,k) = ±\\frac{e}{4 \\pi \\epsilon_0a \\sqrt{i^2 + j^2 + k^2}}\n",
    "$$\n",
    "\n",
    "siendo $\\epsilon_0$ la permitividad del vacío y el signo de la expresión se toma dependiendo de si $i +j +k$ es par o impar. Así entonces, el potencial otal que siente el átomo de sodio es la suma de esta cantidad sobre todos los demas átomos. Supongamos una caja cúbica alrededor del átomo de sodio en el origen, con L átomos en todas las direcciones, entonces:\n",
    "\n",
    "$$\n",
    "V_{total} = \\sum_{i,j,k=-L} V(i,j,k) = \\frac{e}{4\\pi \\epsilon_0 a} M,\n",
    "$$\n",
    "\n",
    "donde \\(M\\) es la constante de Madelung (al menos aproximadamente).\n",
    "\n",
    "\n",
    "Técnicamente, la constante de Madelung es el valor de $M$ cuando $L \\to \\infty$, pero se puede obener una buena aproximación simplemente usando un valor grande de $L$. Escribe un programa para calcular e imprimir la _constante de Madelung_ para el cloruro de sodio. Utiliza un valor de $L$ tan grande como puedas, sin dejar que tu programa se ejecutar en un tiempo raoznable (un minuto o menos)."
   ]
  },
  {
   "cell_type": "markdown",
   "id": "b703bf6b-0db3-4f20-a402-01e2567c1830",
   "metadata": {},
   "source": [
    "## RESPUESTA"
   ]
  },
  {
   "cell_type": "code",
   "execution_count": 25,
   "id": "b2fea54d-078b-4867-85d8-62a32482edca",
   "metadata": {},
   "outputs": [
    {
     "name": "stdout",
     "output_type": "stream",
     "text": [
      "-1.7418198158396654\n"
     ]
    }
   ],
   "source": [
    "import numpy as np\n",
    "\n",
    "def V(i,j,k):\n",
    "    return (-1)**(i+j+k) / math.sqrt( i*i + j*j + k*k )\n",
    "    \n",
    "L = 100\n",
    "V_total = 0.0 \n",
    "for i in range(-L, L + 1):\n",
    "    for j in range(-L, L + 1):\n",
    "        for k in range(-L, L + 1):\n",
    "            if i == j == k == 0:\n",
    "                continue\n",
    "            elif (i*j*k)*2 == 0:\n",
    "                V_total += V(i,j,k)\n",
    "            else:\n",
    "                V_total += V(i,j,k)\n",
    "\n",
    "print(V_total)"
   ]
  },
  {
   "cell_type": "markdown",
   "id": "a3f40962-9f22-4fd5-bbfe-213660fdf6ff",
   "metadata": {},
   "source": [
    "## 2. Fórmula semiempírica de la masa\n",
    "\n",
    "**La fórmula semiempírica de la masa (FSM)** En física nuclear, la **fórmula de Weizsäcker** (conocida tambien como fórmula semiempírica) sirve para evaluar la masa y otras propiedades de un núcleo atómico; y está basada parcialmente en mediciones empíricas. En particular la fórmula se usa para calcular la **_energia de enlace nuclear aproximada_** B, de un núcleo atómico con número atómico $Z$ y numero de masa $A$:\n",
    "\n",
    "$$\n",
    "B = a_1 A - a_2 A^{2/3} - a_3 \\frac{Z^2}{A^{1/3}}\n",
    "- a_4 \\frac{(A-2Z)^2}{A} + \\frac{a_5}{A^{1/2}}\n",
    "$$\n",
    "\n",
    "donde, en unidades de millones de elctrón-volts, las constante son $a_1 = 15.8$, $a_2 = 18.3$, $a_3 = 0.714$, $a_4 = 23.2$ y\n",
    "\n",
    "$$\n",
    "a_5 =\n",
    "\\begin{cases}\n",
    "0 & \\text{si A es impar},\\\\\n",
    "12.0 & \\text{si A y Z son pares(ambos),}\\\\\n",
    "-12.0 & \\text{si A es par y Z impar}\n",
    "\\end{cases}\n",
    "$$"
   ]
  },
  {
   "cell_type": "markdown",
   "id": "baa65210-0cef-49d1-8869-1b04a2dfb7a0",
   "metadata": {},
   "source": [
    "## RESPUESTA"
   ]
  },
  {
   "cell_type": "markdown",
   "id": "58418b12-0c59-402c-a6f3-20cb05583557",
   "metadata": {},
   "source": [
    "_a)_ Escribe un programa que tome como entrada los valores de $A$ y $Z$, e imprima la energía de enlace $B$ para el átomo corespondiente. Usa tu programa para encontrar la energía de enlace de un átomo con $A = 58$ y $Z = 28$ (Hint: La respuesta correcta es alrededor de los 490 MeV)"
   ]
  },
  {
   "cell_type": "code",
   "execution_count": 26,
   "id": "9b2b6db0-7917-4eb0-b77b-7de80268c2f4",
   "metadata": {},
   "outputs": [
    {
     "name": "stdout",
     "output_type": "stream",
     "text": [
      "a) Energía de enlace total (A=58, Z=28): 497.5620206224374\n"
     ]
    }
   ],
   "source": [
    "def energia_enlace(A, Z):\n",
    "    a1, a2, a3, a4 = 15.8, 18.3, 0.714, 23.2\n",
    "    if A % 2 == 1:\n",
    "        a5 = 0\n",
    "    elif Z % 2 == 0:\n",
    "        a5 = 12.0\n",
    "    else:\n",
    "        a5 = -12.0\n",
    "    B = (a1*A \n",
    "         - a2*(A**(2/3)) \n",
    "         - a3*(Z**2)/(A**(1/3)) \n",
    "         - a4*((A - 2*Z)**2)/A \n",
    "         + a5/(A**0.5))\n",
    "    return B\n",
    "\n",
    "def energia_por_nucleon(A, Z):\n",
    "    return energia_enlace(A, Z) / A\n",
    "\n",
    "def nucleo_mas_estable(Z):\n",
    "    mejor_A, mejor_BA = Z, 0\n",
    "    for A in range(Z, 3*Z+1):\n",
    "        BA = energia_por_nucleon(A, Z)\n",
    "        if BA > mejor_BA:\n",
    "            mejor_A, mejor_BA = A, BA\n",
    "    return mejor_A, mejor_BA\n",
    "\n",
    "print(\"a) Energía de enlace total (A=58, Z=28):\", energia_enlace(58,28))"
   ]
  },
  {
   "cell_type": "markdown",
   "id": "07f2f0d8-9aca-41bc-bf08-5199860ef702",
   "metadata": {},
   "source": [
    "_b)_ Modifica el programa del inciso anterios, para escribir una segunda versión que imprima no la energía de enlace total $B$, sino la energía de unión por mucleón que es $B/A$"
   ]
  },
  {
   "cell_type": "code",
   "execution_count": 27,
   "id": "2b48a4cd-bd62-42e9-aae8-4ccd900aece2",
   "metadata": {},
   "outputs": [
    {
     "name": "stdout",
     "output_type": "stream",
     "text": [
      "b) Energía por nucleón (A=58, Z=28): 8.578655527973059\n"
     ]
    }
   ],
   "source": [
    "def energia_enlace(A, Z):\n",
    "    a1, a2, a3, a4 = 15.8, 18.3, 0.714, 23.2\n",
    "    if A % 2 == 1:\n",
    "        a5 = 0\n",
    "    elif Z % 2 == 0:\n",
    "        a5 = 12.0\n",
    "    else:\n",
    "        a5 = -12.0\n",
    "    B = (a1*A \n",
    "         - a2*(A**(2/3)) \n",
    "         - a3*(Z**2)/(A**(1/3)) \n",
    "         - a4*((A - 2*Z)**2)/A \n",
    "         + a5/(A**0.5))\n",
    "    return B\n",
    "\n",
    "def energia_por_nucleon(A, Z):\n",
    "    return energia_enlace(A, Z) / A\n",
    "\n",
    "def nucleo_mas_estable(Z):\n",
    "    mejor_A, mejor_BA = Z, 0\n",
    "    for A in range(Z, 3*Z+1):\n",
    "        BA = energia_por_nucleon(A, Z)\n",
    "        if BA > mejor_BA:\n",
    "            mejor_A, mejor_BA = A, BA\n",
    "    return mejor_A, mejor_BA\n",
    "\n",
    "print(\"b) Energía por nucleón (A=58, Z=28):\", energia_por_nucleon(58,28))"
   ]
  },
  {
   "cell_type": "markdown",
   "id": "e03d76ea-bfb6-4307-8b8a-ddca37febc8e",
   "metadata": {},
   "source": [
    "_c)_ Escribe una tercera versión del programa para que tome como entrada solo un valor del número atómico $Z$ y luego pase por todos los valores de $A$ desde $A = Z$ hasta $A = 3Z$, para enconrar el que iene la mayor energía de enlace por nucleón. Ese es el núcleo mas estable con el número aómico dado. Haz que tu programa imprima el valor de $A$ para este núcleo más esable y el valor de la energía de enlace por nucleón. "
   ]
  },
  {
   "cell_type": "code",
   "execution_count": 28,
   "id": "ea9f816f-abf5-4b25-aafc-75b7202bc507",
   "metadata": {},
   "outputs": [
    {
     "name": "stdout",
     "output_type": "stream",
     "text": [
      "c) Núcleo más estable para Z=28: (62, 8.70245768367189)\n"
     ]
    }
   ],
   "source": [
    "def energia_enlace(A, Z):\n",
    "    a1, a2, a3, a4 = 15.8, 18.3, 0.714, 23.2\n",
    "    if A % 2 == 1:\n",
    "        a5 = 0\n",
    "    elif Z % 2 == 0:\n",
    "        a5 = 12.0\n",
    "    else:\n",
    "        a5 = -12.0\n",
    "    B = (a1*A \n",
    "         - a2*(A**(2/3)) \n",
    "         - a3*(Z**2)/(A**(1/3)) \n",
    "         - a4*((A - 2*Z)**2)/A \n",
    "         + a5/(A**0.5))\n",
    "    return B\n",
    "\n",
    "def energia_por_nucleon(A, Z):\n",
    "    return energia_enlace(A, Z) / A\n",
    "\n",
    "def nucleo_mas_estable(Z):\n",
    "    mejor_A, mejor_BA = Z, 0\n",
    "    for A in range(Z, 3*Z+1):\n",
    "        BA = energia_por_nucleon(A, Z)\n",
    "        if BA > mejor_BA:\n",
    "            mejor_A, mejor_BA = A, BA\n",
    "    return mejor_A, mejor_BA\n",
    "\n",
    "print(\"c) Núcleo más estable para Z=28:\", nucleo_mas_estable(28))"
   ]
  },
  {
   "cell_type": "markdown",
   "id": "aa745be7-f7ec-4ec6-8d84-50643dbcf9b1",
   "metadata": {},
   "source": [
    "_d)_ FInalmente, escribe una cuarta versión del programa que, en lugar de tomar $Z$ como entrada, se ejecute a través de todos los valores de $Z$ de 1 a 100 e imprima el valor ,ás estable de $A$ para cada uno. ¿A qué valor de $Z$ se produce la energía de enlace máxima por nucleón? (La respuesta correcta, en la vida real, es $Z = 28$, que corresponde al Níquel)."
   ]
  },
  {
   "cell_type": "code",
   "execution_count": 29,
   "id": "1197ef01-3653-42f1-84a7-36ec0b0c3c7e",
   "metadata": {},
   "outputs": [],
   "source": [
    "def energia_enlace(A, Z):\n",
    "    a1, a2, a3, a4 = 15.8, 18.3, 0.714, 23.2\n",
    "    if A % 2 == 1:\n",
    "        a5 = 0\n",
    "    elif Z % 2 == 0:\n",
    "        a5 = 12.0\n",
    "    else:\n",
    "        a5 = -12.0\n",
    "    B = (a1*A \n",
    "         - a2*(A**(2/3)) \n",
    "         - a3*(Z**2)/(A**(1/3)) \n",
    "         - a4*((A - 2*Z)**2)/A \n",
    "         + a5/(A**0.5))\n",
    "    return B\n",
    "\n",
    "def energia_por_nucleon(A, Z):\n",
    "    return energia_enlace(A, Z) / A\n",
    "\n",
    "def nucleo_mas_estable(Z):\n",
    "    mejor_A, mejor_BA = Z, 0\n",
    "    for A in range(Z, 3*Z+1):\n",
    "        BA = energia_por_nucleon(A, Z)\n",
    "        if BA > mejor_BA:\n",
    "            mejor_A, mejor_BA = A, BA\n",
    "    return mejor_A, mejor_BA"
   ]
  },
  {
   "cell_type": "code",
   "execution_count": 30,
   "id": "75b7d5e6-8a5f-41dc-ab5a-3814d7f4bc55",
   "metadata": {},
   "outputs": [
    {
     "name": "stdout",
     "output_type": "stream",
     "text": [
      "\n",
      "d) Resultados cada 10 elementos:\n",
      "Z=1, A más estable=3, B/A=0.37\n",
      "Z=11, A más estable=25, B/A=8.03\n",
      "Z=21, A más estable=47, B/A=8.61\n",
      "Z=31, A más estable=69, B/A=8.68\n",
      "Z=41, A más estable=93, B/A=8.59\n",
      "Z=51, A más estable=119, B/A=8.43\n",
      "Z=61, A más estable=143, B/A=8.25\n",
      "Z=71, A más estable=169, B/A=8.05\n",
      "Z=81, A más estable=195, B/A=7.84\n",
      "Z=91, A más estable=223, B/A=7.63\n"
     ]
    }
   ],
   "source": [
    "resultados = []\n",
    "for Z in range(1, 101):\n",
    "    A_estable, BA = nucleo_mas_estable(Z)\n",
    "    resultados.append((Z, A_estable, BA))\n",
    "\n",
    "print(\"\\nd) Resultados cada 10 elementos:\")\n",
    "for Z, A, BA in resultados[::10]:\n",
    "    print(f\"Z={Z}, A más estable={A}, B/A={BA:.2f}\")"
   ]
  },
  {
   "cell_type": "markdown",
   "id": "f71fd2d8-9b13-474b-9ff2-6c5abc483149",
   "metadata": {},
   "source": [
    "## 3. Coeficientes binomiales\n",
    "\n",
    "El coeficiente binomial $\\binom{n}{k}$ es un número entero igual a:\n",
    "\n",
    "$$\n",
    "\\binom{n}{k} = \\frac{n!}{k!(n-k)!} = \\frac{n \\times (n - 1) \\times (n - 2) \\times \\dots \\times (n - k + 1)}{1 \\times 2 \\times \\dots \\times k}\n",
    "$$\n",
    "\n",
    "donde $k \\geq 1$, o bien $\\binom{n}{0} = 1$ cuando $k = 0$"
   ]
  },
  {
   "cell_type": "markdown",
   "id": "5991a550-b430-4709-82ce-23a976016d88",
   "metadata": {},
   "source": [
    "## RESPUESTA"
   ]
  },
  {
   "cell_type": "markdown",
   "id": "933cb3d9-4c95-467b-8445-3f4063f2364f",
   "metadata": {},
   "source": [
    "_a)_ Utiliza esta formula para escribir una función llamada $\\texttt{binomial(n, k)}$ (o como tu quieras) que calcule el coeficiente binomial para un $n$ y $k$ dados. Asegúrate de que tu función devuelva la respuesta en forma de un número entero (no flotante) y proporcione el valor correcto de 1 para el caso en que $k = 0$"
   ]
  },
  {
   "cell_type": "code",
   "execution_count": 31,
   "id": "ec5dc22f-4798-4356-8568-a0ffb6248d0b",
   "metadata": {},
   "outputs": [
    {
     "name": "stdout",
     "output_type": "stream",
     "text": [
      "10\n"
     ]
    }
   ],
   "source": [
    "import math\n",
    "\n",
    "def binomial(n, k):\n",
    "    return math.comb(n, k)\n",
    "    if k == 0 or k == n:\n",
    "        return 1\n",
    "    else:\n",
    "        return math.factorial(n) // (math.factorial(k) * math.factorial(n - k))\n",
    "\n",
    "print(binomial(5, 2))"
   ]
  },
  {
   "cell_type": "markdown",
   "id": "dcdfdb7c-8df0-4097-a2d9-e35e03a9ce13",
   "metadata": {},
   "source": [
    "_b)_ Usando tu función, escribe un programa que imprima las primeras 20 lineas del \"_triángulo de Pascal_\". La _n_-ésima línea del triángulo de Pascal contiene $n + 1$ números, que son los coeficientes $\\binom{n}{0}$, $\\binom{n}{1}$, y así sucesivamente hasta $\\binom{n}{n}$. De tal manera que las primeras líneas son:"
   ]
  },
  {
   "cell_type": "code",
   "execution_count": 32,
   "id": "b396e7f0-2740-457c-8407-75d566c9392d",
   "metadata": {},
   "outputs": [
    {
     "name": "stdout",
     "output_type": "stream",
     "text": [
      "b) Triángulo de Pascal (20 líneas):\n",
      "1\n",
      "1 1\n",
      "1 2 1\n",
      "1 3 3 1\n",
      "1 4 6 4 1\n",
      "1 5 10 10 5 1\n",
      "1 6 15 20 15 6 1\n",
      "1 7 21 35 35 21 7 1\n",
      "1 8 28 56 70 56 28 8 1\n",
      "1 9 36 84 126 126 84 36 9 1\n",
      "1 10 45 120 210 252 210 120 45 10 1\n",
      "1 11 55 165 330 462 462 330 165 55 11 1\n",
      "1 12 66 220 495 792 924 792 495 220 66 12 1\n",
      "1 13 78 286 715 1287 1716 1716 1287 715 286 78 13 1\n",
      "1 14 91 364 1001 2002 3003 3432 3003 2002 1001 364 91 14 1\n",
      "1 15 105 455 1365 3003 5005 6435 6435 5005 3003 1365 455 105 15 1\n",
      "1 16 120 560 1820 4368 8008 11440 12870 11440 8008 4368 1820 560 120 16 1\n",
      "1 17 136 680 2380 6188 12376 19448 24310 24310 19448 12376 6188 2380 680 136 17 1\n",
      "1 18 153 816 3060 8568 18564 31824 43758 48620 43758 31824 18564 8568 3060 816 153 18 1\n",
      "1 19 171 969 3876 11628 27132 50388 75582 92378 92378 75582 50388 27132 11628 3876 969 171 19 1\n"
     ]
    }
   ],
   "source": [
    "import math\n",
    "\n",
    "def binomial(n, k):\n",
    "    return math.comb(n, k)\n",
    "print(\"b) Triángulo de Pascal (20 líneas):\")\n",
    "for n in range(20):\n",
    "    fila = [binomial(n, k) for k in range(n+1)]\n",
    "    print(\" \".join(map(str, fila)))"
   ]
  },
  {
   "cell_type": "markdown",
   "id": "3fb14884-2364-4351-9bd5-58eff8a03c2c",
   "metadata": {},
   "source": [
    "_c)_ La probabilidad de que para una moneda no sesgada, lanzada $n$ veces, salga águila $k$ veces es:\n",
    "\n",
    "$$\n",
    "p(k|n) = \\frac{\\binom{n}{k}}{2^n}\n",
    "$$\n",
    "\n",
    "Escribe un programa para calcular:"
   ]
  },
  {
   "cell_type": "markdown",
   "id": "192947a1-31e4-4238-9625-20001c38d54e",
   "metadata": {},
   "source": [
    "1) La probabilidad total de que una moneda lanzada 100 veces, salga águila exactamente 60 veces"
   ]
  },
  {
   "cell_type": "code",
   "execution_count": 33,
   "id": "fd7b0cf8-148f-454f-a633-42cec7d0ebd4",
   "metadata": {},
   "outputs": [
    {
     "ename": "NameError",
     "evalue": "name 'probabilidad' is not defined",
     "output_type": "error",
     "traceback": [
      "\u001b[0;31m---------------------------------------------------------------------------\u001b[0m",
      "\u001b[0;31mNameError\u001b[0m                                 Traceback (most recent call last)",
      "\u001b[0;32m/tmp/ipykernel_16225/2667472364.py\u001b[0m in \u001b[0;36m<module>\u001b[0;34m\u001b[0m\n\u001b[1;32m      2\u001b[0m     \u001b[0;32mreturn\u001b[0m \u001b[0mbinomial\u001b[0m\u001b[0;34m(\u001b[0m\u001b[0mn\u001b[0m\u001b[0;34m,\u001b[0m \u001b[0mk\u001b[0m\u001b[0;34m)\u001b[0m \u001b[0;34m/\u001b[0m \u001b[0;34m(\u001b[0m\u001b[0;36m2\u001b[0m\u001b[0;34m**\u001b[0m\u001b[0mn\u001b[0m\u001b[0;34m)\u001b[0m\u001b[0;34m\u001b[0m\u001b[0;34m\u001b[0m\u001b[0m\n\u001b[1;32m      3\u001b[0m \u001b[0;34m\u001b[0m\u001b[0m\n\u001b[0;32m----> 4\u001b[0;31m \u001b[0mp1\u001b[0m \u001b[0;34m=\u001b[0m \u001b[0mprobabilidad\u001b[0m\u001b[0;34m(\u001b[0m\u001b[0;36m100\u001b[0m\u001b[0;34m,\u001b[0m \u001b[0;36m60\u001b[0m\u001b[0;34m)\u001b[0m\u001b[0;34m\u001b[0m\u001b[0;34m\u001b[0m\u001b[0m\n\u001b[0m\u001b[1;32m      5\u001b[0m \u001b[0;34m\u001b[0m\u001b[0m\n\u001b[1;32m      6\u001b[0m \u001b[0mprint\u001b[0m\u001b[0;34m(\u001b[0m\u001b[0;34m\"P(60 águilas en 100):\"\u001b[0m\u001b[0;34m,\u001b[0m \u001b[0mp1\u001b[0m\u001b[0;34m)\u001b[0m\u001b[0;34m\u001b[0m\u001b[0;34m\u001b[0m\u001b[0m\n",
      "\u001b[0;31mNameError\u001b[0m: name 'probabilidad' is not defined"
     ]
    }
   ],
   "source": [
    "def probabilidad_1(n, k):\n",
    "    return binomial(n, k) / (2**n)\n",
    "\n",
    "p1 = probabilidad(100, 60)\n",
    "\n",
    "print(\"P(60 águilas en 100):\", p1)"
   ]
  },
  {
   "cell_type": "markdown",
   "id": "30bf1d17-dcf3-4ae2-9462-774cc73730e9",
   "metadata": {},
   "source": [
    "2) La probabilidad de que salga águila 60 veces o más"
   ]
  },
  {
   "cell_type": "code",
   "execution_count": null,
   "id": "10b997e7-d314-4491-9dd6-e140ffa24e41",
   "metadata": {},
   "outputs": [],
   "source": [
    "def probabilidad_2(n, k):\n",
    "    prob = 0\n",
    "    for i in range(k, n + 1):\n",
    "        prob += probabilidad_1(n, i)\n",
    "        return prob\n",
    "\n",
    "p2 = sum(probabilidad(100, k) for k in range(60, 101))\n",
    "\n",
    "print(\"P(60 o +60):\", p2)"
   ]
  },
  {
   "cell_type": "markdown",
   "id": "f8b969e4-4d0e-4d99-9348-87025d0f8a4c",
   "metadata": {},
   "source": [
    "## 4. Números primos\n",
    "\n",
    "Una manera no muy eficiente para calcular números primos, es comprobar i cada número es divisible por cualquier número menor que él. Sin embargo, es posible escribir un programa mucho más rápido para números primos utilizando las siguientes observaciones:\n",
    "\n",
    "_a)_ Un número $n$ es primo si no tiene factores primos menores que $n$.\n",
    "Por lo tanto, solo necesitamos comprobar si es divisible por otros primos.\n",
    "\n",
    "_b)_ Si un número no es primo, con un factor $r$, entonces $n = rs$, donde $s$ tambien es un factor. Si $r \\geq \\sqrt{n}$, entonce $n = rs \\ geq \\sqrt{ns}$, lo que implica que $s \\leq \\sqrt{n}$.\n",
    "En otras palabras, cualquier número no primo debe tener factores, y por lo tanto tambien factores primos, menores o iguales a $\\sqrt{n}$. Por lo tanto, para determinar si un número es primo, debemos comprobar sus factores primos solo hasta $\\sqrt{n}$ inclusiv; si no hay ninguno, entonces el número es primo.\n",
    "\n",
    "_c)_ Si encontramos incluso un solo factor primo menor que $\\sqrt{n}$, sabemos que el número no es primo y, por lo tanto, no hay necesidad de comprobar más; podemos descartar este número y pasar a otro."
   ]
  },
  {
   "cell_type": "markdown",
   "id": "e31ca84b-973e-4b66-926b-8ce77bc98322",
   "metadata": {},
   "source": [
    "Escribe un programa que encuentre todos los primos hasta diez mil.\n",
    "Crea una lista para almacenar los primos, que comience sólo con el número 2. Luego para cada número $n$ del 3 al 10,000 comprueba si es divisible por alguno de los primos de la lista hasta $\\sqrt{n}$. En cuanto encuentres un facotr primo, puedes dejar de revisar los demas; pues ya sabes que $n$ no es primo.\n",
    "\n",
    "SI no encuentras ningún factor primo $\\sqrt{n}$ o menor, entonces $n$ es primo y debes añadirlo a la lista.\n",
    "\n",
    "Puedes imprimir la lista completa al final del programa o imprimir los numeros individuales a medida que los encuentras."
   ]
  },
  {
   "cell_type": "markdown",
   "id": "b80a97fd-e0f0-41d6-9e97-107156c0a1d8",
   "metadata": {},
   "source": [
    "## RESPUESTA"
   ]
  },
  {
   "cell_type": "code",
   "execution_count": null,
   "id": "69abafaf",
   "metadata": {
    "scrolled": true
   },
   "outputs": [],
   "source": [
    "import math\n",
    "\n",
    "#Encontrar todos los primos hasta diez mil\n",
    "def main():\n",
    "    primos = encontrar_primos_hasta(10000)\n",
    "    print(f\"Se encontraron {len(primos)} números primos hasta 10,000\")\n",
    "    print(primos)\n",
    "\n",
    "if __name__ == \"__main__\":\n",
    "    main()"
   ]
  },
  {
   "cell_type": "code",
   "execution_count": null,
   "id": "6560267e-d22e-4f60-9727-dc245e0520eb",
   "metadata": {},
   "outputs": [],
   "source": [
    "import math\n",
    "\n",
    "# Creamos una lista con el número primo 2\n",
    "primos = [2]\n",
    "\n",
    "def es_primo(n):\n",
    "    # Verificamos divisibilidad por los primos en la lista hasta la raíz cuadrada de n\n",
    "    raiz = math.isqrt(n)\n",
    "    for primo in primos:\n",
    "        if primo > raiz:\n",
    "            break\n",
    "        if n % primo == 0:\n",
    "            return False\n",
    "    return True\n",
    "\n",
    "# Encontrar todos los primos hasta 10000\n",
    "for numero in range(3, 10001):\n",
    "    if es_primo(numero):\n",
    "        primos.append(numero)\n",
    "\n",
    "# Filtrar solo los primos que empiezan con 2\n",
    "primos_con_2 = []\n",
    "for primo in primos:\n",
    "    if str(primo).startswith('2'):\n",
    "        primos_con_2.append(primo)\n",
    "\n",
    "# Guardar en archivo .txt\n",
    "with open('primos_con_2.txt', 'w') as archivo:\n",
    "    for primo in primos_con_2:\n",
    "        archivo.write(str(primo) + '\\n')\n",
    "\n",
    "print(\"¡Archivo creado exitosamente!\")\n"
   ]
  },
  {
   "cell_type": "code",
   "execution_count": null,
   "id": "7ee8b6c5-ad08-40bb-b18b-af0bad934020",
   "metadata": {},
   "outputs": [],
   "source": [
    "for n in range(3, 10001, 2):  # Comenzamos desde 3 y saltamos de 2 en 2\n",
    "    if es_primo(n):\n",
    "        primos.append(n)\n",
    "\n",
    "for primo in primos:\n",
    "    print(primo)"
   ]
  },
  {
   "cell_type": "markdown",
   "id": "3a8e8440",
   "metadata": {},
   "source": [
    "A"
   ]
  },
  {
   "cell_type": "code",
   "execution_count": null,
   "id": "3845ab2a",
   "metadata": {},
   "outputs": [],
   "source": [
    "import math\n",
    "\n",
    "def encontrar_primos_hasta(limite):\n",
    "    \"\"\"\n",
    "    Encuentra todos los números primos hasta el límite especificado\n",
    "    \"\"\"\n",
    "    # Creamos una lista que comienza sólo con el número primo 2\n",
    "    primos = [2]\n",
    "    \n",
    "    # Para cada número n del 3 al límite\n",
    "    for n in range(3, limite + 1):\n",
    "        # Calculamos la raíz cuadrada de n\n",
    "        raiz_n = math.isqrt(n)\n",
    "        es_primo = True\n",
    "        \n",
    "        # Comprobamos si es divisible por alguno de los primos de la lista hasta √n\n",
    "        for primo in primos:\n",
    "            # Si el primo actual es mayor que √n, podemos detenernos\n",
    "            if primo > raiz_n:\n",
    "                break\n",
    "                \n",
    "            # Si encontramos un factor primo, sabemos que n no es primo\n",
    "            if n % primo == 0:\n",
    "                es_primo = False\n",
    "                break  # Dejamos de revisar inmediatamente\n",
    "        \n",
    "        # Si no encontramos ningún factor primo ≤ √n, entonces n es primo\n",
    "        if es_primo:\n",
    "            primos.append(n)\n",
    "    \n",
    "    return primos"
   ]
  },
  {
   "cell_type": "code",
   "execution_count": null,
   "id": "7a03d8bb",
   "metadata": {},
   "outputs": [],
   "source": [
    "def main():\n",
    "    # Encontrar todos los primos hasta 10,000\n",
    "    primos = encontrar_primos_hasta(10000)\n",
    "    print(f\"Se encontraron {len(primos)} números primos hasta 10,000\")\n",
    "    print(primos)\n",
    "\n",
    "if __name__ == \"__main__\":\n",
    "    main()"
   ]
  },
  {
   "cell_type": "code",
   "execution_count": null,
   "id": "0a118320",
   "metadata": {},
   "outputs": [],
   "source": [
    "def encontrar_primos_con_impresion(limite):\n",
    "    \"\"\"\n",
    "    Encuentra primos e imprime cada uno a medida que se encuentra\n",
    "    \"\"\"\n",
    "    primos = [2]\n",
    "    print(f\"Primo encontrado: 2\")\n",
    "    \n",
    "    for n in range(3, limite + 1):\n",
    "        raiz_n = math.isqrt(n)\n",
    "        es_primo = True\n",
    "        \n",
    "        for primo in primos:\n",
    "            if primo > raiz_n:\n",
    "                break\n",
    "            if n % primo == 0:\n",
    "                es_primo = False\n",
    "                break\n",
    "        \n",
    "        if es_primo:\n",
    "            primos.append(n)\n",
    "            print(f\"Primo encontrado: {n}\")\n",
    "    \n",
    "    return primos\n",
    "\n",
    "# Ejecutar esta versión\n",
    "print(\"Buscando primos con impresión individual...\")\n",
    "primos_lista = encontrar_primos_con_impresion(10000)\n",
    "print(f\"\\nTotal: {len(primos_lista)} primos encontrados\")"
   ]
  },
  {
   "cell_type": "code",
   "execution_count": null,
   "id": "7a856826",
   "metadata": {},
   "outputs": [],
   "source": [
    "def filtrar_primos_con_2(primos):\n",
    "    \"\"\"\n",
    "    Filtra solo los números primos que comienzan con el dígito 2\n",
    "    \"\"\"\n",
    "    primos_con_2 = []\n",
    "    for primo in primos:\n",
    "        if str(primo).startswith('2'):\n",
    "            primos_con_2.append(primo)\n",
    "    return primos_con_2\n",
    "\n",
    "# Ejemplo de uso\n",
    "todos_primos = encontrar_primos_hasta(10000)\n",
    "primos_con_2 = filtrar_primos_con_2(todos_primos)\n",
    "print(f\"Primos que comienzan con 2: {len(primos_con_2)}\")\n",
    "print(primos_con_2)"
   ]
  },
  {
   "cell_type": "code",
   "execution_count": null,
   "id": "4cbd1168",
   "metadata": {},
   "outputs": [],
   "source": [
    "def guardar_primos_con_2(primos, nombre_archivo='primos_con_2.txt'):\n",
    "    \"\"\"\n",
    "    Guarda los primos que comienzan con 2 en un archivo de texto\n",
    "    \"\"\"\n",
    "    primos_con_2 = filtrar_primos_con_2(primos)\n",
    "    \n",
    "    with open(nombre_archivo, 'w') as archivo:\n",
    "        for primo in primos_con_2:\n",
    "            archivo.write(str(primo) + '\\n')\n",
    "    \n",
    "    print(f\"¡Archivo '{nombre_archivo}' creado exitosamente!\")\n",
    "\n",
    "# Ejecutar\n",
    "todos_primos = encontrar_primos_hasta(10000)\n",
    "guardar_primos_con_2(todos_primos)"
   ]
  },
  {
   "cell_type": "code",
   "execution_count": null,
   "id": "bacc25cb",
   "metadata": {},
   "outputs": [],
   "source": []
  }
 ],
 "metadata": {
  "kernelspec": {
   "display_name": "Python 3 (ipykernel)",
   "language": "python",
   "name": "python3"
  },
  "language_info": {
   "codemirror_mode": {
    "name": "ipython",
    "version": 3
   },
   "file_extension": ".py",
   "mimetype": "text/x-python",
   "name": "python",
   "nbconvert_exporter": "python",
   "pygments_lexer": "ipython3",
   "version": "3.10.12"
  }
 },
 "nbformat": 4,
 "nbformat_minor": 5
}
