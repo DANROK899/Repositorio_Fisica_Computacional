{
 "cells": [
  {
   "cell_type": "markdown",
   "id": "affd8c9d-5c64-46a7-a9a1-b5eb46bb7bd0",
   "metadata": {},
   "source": [
    "# Fundamentos de programación para la física computacional\n",
    "### Luis Daniel Amador Islas"
   ]
  },
  {
   "cell_type": "markdown",
   "id": "a80a748c-761a-4691-8f78-3cd8748f7e04",
   "metadata": {},
   "source": [
    "## 1. Constante de Madelung\n",
    "\n",
    "En física de la materia condensada, la constante de Madelung da el potencial eléctrico total\n",
    "que siente un átomo en un sólido iónico.  \n",
    "Para el NaCl, se consideran átomos dispuestos en una red cúbica con cargas alternadas.  \n",
    "Se define:\n",
    "\n",
    "$$\n",
    "M = \\sum_{i,j,k \\neq 0} \\frac{(-1)^{i+j+k}}{\\sqrt{i^2 + j^2 + k^2}}\n",
    "$$\n",
    "\n",
    "donde \\(M\\) es la constante de Madelung (aproximada para un valor finito de \\(L\\)).  \n"
   ]
  },
  {
   "cell_type": "markdown",
   "id": "b703bf6b-0db3-4f20-a402-01e2567c1830",
   "metadata": {},
   "source": [
    "## RESPUESTA"
   ]
  },
  {
   "cell_type": "code",
   "execution_count": 1,
   "id": "b2fea54d-078b-4867-85d8-62a32482edca",
   "metadata": {},
   "outputs": [
    {
     "name": "stdout",
     "output_type": "stream",
     "text": [
      "Constante de Madelung aproximada con L=10: -1.692579\n"
     ]
    }
   ],
   "source": [
    "import numpy as np\n",
    "\n",
    "def madelung_constant(L):\n",
    "    M = 0.0\n",
    "    for i in range(-L, L+1):\n",
    "        for j in range(-L, L+1):\n",
    "            for k in range(-L, L+1):\n",
    "                if i == j == k == 0:\n",
    "                    continue\n",
    "                r = np.sqrt(i**2 + j**2 + k**2)\n",
    "                sign = 1 if (i + j + k) % 2 == 0 else -1\n",
    "                M += sign / r\n",
    "    return M\n",
    "\n",
    "L = 10\n",
    "M = madelung_constant(L)\n",
    "print(f\"Constante de Madelung aproximada con L={L}: {M:.6f}\")\n"
   ]
  },
  {
   "cell_type": "markdown",
   "id": "a3f40962-9f22-4fd5-bbfe-213660fdf6ff",
   "metadata": {},
   "source": [
    "## 2. Fórmula semiempírica de la masa\n",
    "\n",
    "La energía de enlace nuclear aproximada está dada por:\n",
    "\n",
    "$$\n",
    "B = a_1 A - a_2 A^{2/3} - a_3 \\frac{Z^2}{A^{1/3}}\n",
    "- a_4 \\frac{(A-2Z)^2}{A} + \\frac{a_5}{A^{1/2}}\n",
    "$$\n",
    "\n",
    "donde los coeficientes son:\n",
    "- $a_1 = 15.8$, $a_2 = 18.3$, $a_3 = 0.714$, $a_4 = 23.2$.\n",
    "- El término $a_5$ depende de la paridad de $A$ y $Z$.\n",
    "\n",
    "Se pide:\n",
    "1. Calcular $B$ para $A=58, Z=28$.\n",
    "2. Calcular la energía de enlace por nucleón $B/A$.\n",
    "3. Determinar el núcleo más estable para un valor fijo de $Z$.\n",
    "4. Repetir para $Z=1,2,\\dots,100$.\n"
   ]
  },
  {
   "cell_type": "markdown",
   "id": "ad049cdb-ed2f-4bbc-bfdd-b97e5b7c5111",
   "metadata": {},
   "source": [
    "## RESPUESTA"
   ]
  },
  {
   "cell_type": "code",
   "execution_count": 2,
   "id": "8fda1df8-cd1c-4ac6-a55b-ba9da633056e",
   "metadata": {},
   "outputs": [
    {
     "name": "stdout",
     "output_type": "stream",
     "text": [
      "a) Energía de enlace total (A=58, Z=28): 497.5620206224374\n",
      "b) Energía por nucleón (A=58, Z=28): 8.578655527973059\n",
      "c) Núcleo más estable para Z=28: (62, 8.70245768367189)\n",
      "\n",
      "d) Resultados cada 10 elementos:\n",
      "Z=1, A más estable=3, B/A=0.37\n",
      "Z=11, A más estable=25, B/A=8.03\n",
      "Z=21, A más estable=47, B/A=8.61\n",
      "Z=31, A más estable=69, B/A=8.68\n",
      "Z=41, A más estable=93, B/A=8.59\n",
      "Z=51, A más estable=119, B/A=8.43\n",
      "Z=61, A más estable=143, B/A=8.25\n",
      "Z=71, A más estable=169, B/A=8.05\n",
      "Z=81, A más estable=195, B/A=7.84\n",
      "Z=91, A más estable=223, B/A=7.63\n"
     ]
    }
   ],
   "source": [
    "def energia_enlace(A, Z):\n",
    "    a1, a2, a3, a4 = 15.8, 18.3, 0.714, 23.2\n",
    "    if A % 2 == 1:\n",
    "        a5 = 0\n",
    "    elif Z % 2 == 0:\n",
    "        a5 = 12.0\n",
    "    else:\n",
    "        a5 = -12.0\n",
    "    B = (a1*A \n",
    "         - a2*(A**(2/3)) \n",
    "         - a3*(Z**2)/(A**(1/3)) \n",
    "         - a4*((A - 2*Z)**2)/A \n",
    "         + a5/(A**0.5))\n",
    "    return B\n",
    "\n",
    "def energia_por_nucleon(A, Z):\n",
    "    return energia_enlace(A, Z) / A\n",
    "\n",
    "def nucleo_mas_estable(Z):\n",
    "    mejor_A, mejor_BA = Z, 0\n",
    "    for A in range(Z, 3*Z+1):\n",
    "        BA = energia_por_nucleon(A, Z)\n",
    "        if BA > mejor_BA:\n",
    "            mejor_A, mejor_BA = A, BA\n",
    "    return mejor_A, mejor_BA\n",
    "\n",
    "# a) y b)\n",
    "print(\"a) Energía de enlace total (A=58, Z=28):\", energia_enlace(58,28))\n",
    "print(\"b) Energía por nucleón (A=58, Z=28):\", energia_por_nucleon(58,28))\n",
    "\n",
    "# c)\n",
    "print(\"c) Núcleo más estable para Z=28:\", nucleo_mas_estable(28))\n",
    "\n",
    "# d)\n",
    "resultados = []\n",
    "for Z in range(1, 101):\n",
    "    A_estable, BA = nucleo_mas_estable(Z)\n",
    "    resultados.append((Z, A_estable, BA))\n",
    "\n",
    "print(\"\\nd) Resultados cada 10 elementos:\")\n",
    "for Z, A, BA in resultados[::10]:\n",
    "    print(f\"Z={Z}, A más estable={A}, B/A={BA:.2f}\")\n"
   ]
  },
  {
   "cell_type": "markdown",
   "id": "f71fd2d8-9b13-474b-9ff2-6c5abc483149",
   "metadata": {},
   "source": [
    "## 3. Coeficientes binomiales\n",
    "\n",
    "1. Implementar una función para calcular el coeficiente binomial:\n",
    "$$\n",
    "\\binom{n}{k} = \\frac{n!}{k!(n-k)!}\n",
    "$$\n",
    "\n",
    "2. Usar la función para imprimir las primeras 20 líneas del triángulo de Pascal.  \n",
    "3. Calcular probabilidades con una moneda justa:\n",
    "   - Que en 100 lanzamientos salgan exactamente 60 águilas.  \n",
    "   - Que salgan 60 o más águilas.  \n"
   ]
  },
  {
   "cell_type": "markdown",
   "id": "5991a550-b430-4709-82ce-23a976016d88",
   "metadata": {},
   "source": [
    "## RESPUESTA"
   ]
  },
  {
   "cell_type": "code",
   "execution_count": 3,
   "id": "b396e7f0-2740-457c-8407-75d566c9392d",
   "metadata": {},
   "outputs": [
    {
     "name": "stdout",
     "output_type": "stream",
     "text": [
      "b) Triángulo de Pascal (20 líneas):\n",
      "1\n",
      "1 1\n",
      "1 2 1\n",
      "1 3 3 1\n",
      "1 4 6 4 1\n",
      "1 5 10 10 5 1\n",
      "1 6 15 20 15 6 1\n",
      "1 7 21 35 35 21 7 1\n",
      "1 8 28 56 70 56 28 8 1\n",
      "1 9 36 84 126 126 84 36 9 1\n",
      "1 10 45 120 210 252 210 120 45 10 1\n",
      "1 11 55 165 330 462 462 330 165 55 11 1\n",
      "1 12 66 220 495 792 924 792 495 220 66 12 1\n",
      "1 13 78 286 715 1287 1716 1716 1287 715 286 78 13 1\n",
      "1 14 91 364 1001 2002 3003 3432 3003 2002 1001 364 91 14 1\n",
      "1 15 105 455 1365 3003 5005 6435 6435 5005 3003 1365 455 105 15 1\n",
      "1 16 120 560 1820 4368 8008 11440 12870 11440 8008 4368 1820 560 120 16 1\n",
      "1 17 136 680 2380 6188 12376 19448 24310 24310 19448 12376 6188 2380 680 136 17 1\n",
      "1 18 153 816 3060 8568 18564 31824 43758 48620 43758 31824 18564 8568 3060 816 153 18 1\n",
      "1 19 171 969 3876 11628 27132 50388 75582 92378 92378 75582 50388 27132 11628 3876 969 171 19 1\n",
      "\n",
      "c1) P(60 águilas en 100): 0.010843866711637987\n",
      "c2) P(≥60 águilas en 100): 0.028443966820490395\n"
     ]
    }
   ],
   "source": [
    "import math\n",
    "\n",
    "def binomial(n, k):\n",
    "    return math.comb(n, k)\n",
    "\n",
    "# Triángulo de Pascal\n",
    "print(\"b) Triángulo de Pascal (20 líneas):\")\n",
    "for n in range(20):\n",
    "    fila = [binomial(n, k) for k in range(n+1)]\n",
    "    print(\" \".join(map(str, fila)))\n",
    "\n",
    "# Probabilidades\n",
    "def probabilidad(n, k):\n",
    "    return binomial(n, k) / (2**n)\n",
    "\n",
    "p1 = probabilidad(100, 60)\n",
    "p2 = sum(probabilidad(100, k) for k in range(60, 101))\n",
    "\n",
    "print(\"\\nc1) P(60 águilas en 100):\", p1)\n",
    "print(\"c2) P(≥60 águilas en 100):\", p2)\n"
   ]
  },
  {
   "cell_type": "markdown",
   "id": "41bce0c1-e76f-4e27-947f-14a342eef20f",
   "metadata": {},
   "source": [
    "## 4."
   ]
  },
  {
   "cell_type": "markdown",
   "id": "f8b969e4-4d0e-4d99-9348-87025d0f8a4c",
   "metadata": {},
   "source": [
    "## 4. Números primos\n",
    "\n",
    "Un número primo es aquel que no tiene divisores enteros positivos salvo 1 y él mismo.  \n",
    "Se pide implementar un algoritmo eficiente para obtener todos los primos hasta 10000,\n",
    "usando la observación de que basta comprobar divisibilidad por primos menores o iguales\n",
    "a $\\sqrt{n}$.\n"
   ]
  },
  {
   "cell_type": "code",
   "execution_count": 4,
   "id": "df8e598f-546f-434d-891d-e00fadbfe954",
   "metadata": {},
   "outputs": [
    {
     "name": "stdout",
     "output_type": "stream",
     "text": [
      "Cantidad de primos hasta 10000: 1229\n",
      "Primeros 20 primos: [2, 3, 5, 7, 11, 13, 17, 19, 23, 29, 31, 37, 41, 43, 47, 53, 59, 61, 67, 71]\n",
      "Últimos 10 primos hasta 10000: [9887, 9901, 9907, 9923, 9929, 9931, 9941, 9949, 9967, 9973]\n"
     ]
    }
   ],
   "source": [
    "import numpy as np\n",
    "\n",
    "def primos_hasta(n):\n",
    "    primos = [2]\n",
    "    for num in range(3, n+1, 2):\n",
    "        es_primo = True\n",
    "        limite = int(np.sqrt(num)) + 1\n",
    "        for p in primos:\n",
    "            if p > limite:\n",
    "                break\n",
    "            if num % p == 0:\n",
    "                es_primo = False\n",
    "                break\n",
    "        if es_primo:\n",
    "            primos.append(num)\n",
    "    return primos\n",
    "\n",
    "primos = primos_hasta(10000)\n",
    "print(f\"Cantidad de primos hasta 10000: {len(primos)}\")\n",
    "print(\"Primeros 20 primos:\", primos[:20])\n",
    "print(\"Últimos 10 primos hasta 10000:\", primos[-10:])\n"
   ]
  },
  {
   "cell_type": "code",
   "execution_count": null,
   "id": "6560267e-d22e-4f60-9727-dc245e0520eb",
   "metadata": {},
   "outputs": [],
   "source": []
  }
 ],
 "metadata": {
  "kernelspec": {
   "display_name": "Python [conda env:base] *",
   "language": "python",
   "name": "conda-base-py"
  },
  "language_info": {
   "codemirror_mode": {
    "name": "ipython",
    "version": 3
   },
   "file_extension": ".py",
   "mimetype": "text/x-python",
   "name": "python",
   "nbconvert_exporter": "python",
   "pygments_lexer": "ipython3",
   "version": "3.13.5"
  }
 },
 "nbformat": 4,
 "nbformat_minor": 5
}
