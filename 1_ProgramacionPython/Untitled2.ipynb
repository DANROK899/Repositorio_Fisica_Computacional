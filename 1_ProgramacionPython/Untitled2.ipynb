{
 "cells": [
  {
   "cell_type": "code",
   "execution_count": 8,
   "id": "36882f16-f261-48db-a9e5-e0cb605374a6",
   "metadata": {},
   "outputs": [],
   "source": [
    "\n",
    "n = 3\n",
    "r = 1\n",
    "P0 = 0.2\n",
    "Pn = 0\n",
    "\n",
    "for n in range(3):\n",
    "    P1 = P0 - P0**2"
   ]
  },
  {
   "cell_type": "code",
   "execution_count": 9,
   "id": "7d491394-7544-49df-87e0-fec351ff0d83",
   "metadata": {},
   "outputs": [],
   "source": [
    "Pn = P1\n",
    "P_Total = Pn - Pn**2"
   ]
  },
  {
   "cell_type": "code",
   "execution_count": 11,
   "id": "6fe2e4ef-ab0f-4441-8dc1-6f21a41fc54a",
   "metadata": {},
   "outputs": [
    {
     "name": "stdout",
     "output_type": "stream",
     "text": [
      "0.1344\n"
     ]
    }
   ],
   "source": [
    "print(P_Total)"
   ]
  },
  {
   "cell_type": "code",
   "execution_count": null,
   "id": "236e5186-b9f1-492e-b214-97f92d9e206c",
   "metadata": {},
   "outputs": [],
   "source": []
  }
 ],
 "metadata": {
  "kernelspec": {
   "display_name": "Python 3 (ipykernel)",
   "language": "python",
   "name": "python3"
  },
  "language_info": {
   "codemirror_mode": {
    "name": "ipython",
    "version": 3
   },
   "file_extension": ".py",
   "mimetype": "text/x-python",
   "name": "python",
   "nbconvert_exporter": "python",
   "pygments_lexer": "ipython3",
   "version": "3.13.7"
  }
 },
 "nbformat": 4,
 "nbformat_minor": 5
}
