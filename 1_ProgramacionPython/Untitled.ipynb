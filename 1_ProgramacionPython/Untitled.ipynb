{
 "cells": [
  {
   "cell_type": "code",
   "execution_count": 38,
   "id": "350ce40c-204b-4c1d-9464-a5c7d288eec4",
   "metadata": {},
   "outputs": [
    {
     "name": "stdout",
     "output_type": "stream",
     "text": [
      "N =     10: I = 3.3599159402\n"
     ]
    }
   ],
   "source": [
    "import numpy as np\n",
    "\n",
    "def f(x):\n",
    "    return np.exp(x**5 + 1)\n",
    "\n",
    "def trapecio(a, b, N):\n",
    "    h = (b - a) / N\n",
    "    \n",
    "    # Primer término: (f(a) + f(b))/2\n",
    "    base = (f(a) + f(b)) / 2\n",
    "    \n",
    "    suma = 0 #Σf(a+kh) para  k=1 hasta N\n",
    "    for k in range(1, N):\n",
    "        x_k = a + k * h\n",
    "        suma += f(x_k)\n",
    "    \n",
    "    integral = h * (base + suma)\n",
    "    \n",
    "    return integral\n",
    "\n",
    "# Parámetros del problema [0,1]\n",
    "a = 0\n",
    "b = 1\n",
    "\n",
    "# Probar con diferentes valores de N\n",
    "valor_N = [10]\n",
    "\n",
    "for N in valor_N:\n",
    "    resultado = trapecio(a, b, N)\n",
    "    print(f\"N = {N:6d}: I = {resultado:.10f}\")"
   ]
  },
  {
   "cell_type": "markdown",
   "id": "b74e3127-07cc-44d3-a78a-4f9e5da68813",
   "metadata": {},
   "source": [
    "def simpson(a, b, N):\n",
    "    if N % 2 != 0:\n",
    "        N += 1  # Asegurar que N sea par\n",
    "    \n",
    "    h = (b - a) / N\n",
    "    x = np.linspace(a, b, N + 1)\n",
    "    fx = f(x)\n",
    "    \n",
    "    # Aplicar la fórmula de Simpson\n",
    "    suma_impares = np.sum(fx[1:-1:2])  # índices impares: 1, 3, 5, ...\n",
    "    suma_pares = np.sum(fx[2:-1:2])    # índices pares: 2, 4, 6, ...\n",
    "    \n",
    "    integral = (h / 3) * (fx[0] + fx[-1] + 4 * suma_impares + 2 * suma_pares)\n",
    "    return integral\n",
    "\n",
    "# Probar la regla de Simpson\n",
    "\n",
    "valors_N_simpson = [10]\n",
    "\n",
    "for N in valors_N_simpson:\n",
    "    resultado = simpson(0, 1, N)\n",
    "    print(f\"N = {N:3d}: I = {resultado:.12f}\")"
   ]
  },
  {
   "cell_type": "code",
   "execution_count": 43,
   "id": "78b477b3-5130-41b3-90a0-9cd41cca7115",
   "metadata": {},
   "outputs": [],
   "source": [
    "def Legendre():\n",
    "    p = sp.special.eval_legendre(N)"
   ]
  },
  {
   "cell_type": "code",
   "execution_count": 44,
   "id": "78cebfc9-5666-4b69-86b3-1ca529219c84",
   "metadata": {},
   "outputs": [
    {
     "name": "stdout",
     "output_type": "stream",
     "text": [
      "<function Legendre at 0x7f5f083651c0>\n"
     ]
    }
   ],
   "source": []
  },
  {
   "cell_type": "markdown",
   "id": "14eb04fb-42d1-47b7-b0ea-25c3c29fbbba",
   "metadata": {},
   "source": [
    "Derivada\n",
    "$$m = \\frac{\\Delta y}{\\Delta x} = \\frac{f(x+h)-f(x)}{h}$$"
   ]
  },
  {
   "cell_type": "markdown",
   "id": "a0f68c42-9abf-49ac-a38b-f16d89198467",
   "metadata": {},
   "source": [
    "## Diferencias centrales"
   ]
  },
  {
   "cell_type": "markdown",
   "id": "235d2ef0-9828-4d82-a9c2-f67fa5762b38",
   "metadata": {},
   "source": [
    "### Por delante"
   ]
  },
  {
   "cell_type": "code",
   "execution_count": 43,
   "id": "ba7c6b68-cc70-4598-b5aa-8590eab4e34f",
   "metadata": {},
   "outputs": [],
   "source": [
    "import numpy as np\n",
    "\n",
    "def fd(x):\n",
    "    f=x**2\n",
    "    return f"
   ]
  },
  {
   "cell_type": "code",
   "execution_count": 44,
   "id": "49b19f2e-b7c1-4b59-917d-ce01b1cbede9",
   "metadata": {},
   "outputs": [],
   "source": [
    "h = 1/10\n",
    "x = 10"
   ]
  },
  {
   "cell_type": "code",
   "execution_count": 47,
   "id": "2cabd835-19e1-4a4c-a73b-0f33427cf14f",
   "metadata": {},
   "outputs": [],
   "source": [
    "def fd_prima(x):\n",
    "    fd_prima = (f(x + h) - f(x)) / h\n",
    "    return fd_prima"
   ]
  },
  {
   "cell_type": "code",
   "execution_count": 49,
   "id": "fcbbd9b8-aa33-45f0-8a79-c0da3ea66291",
   "metadata": {},
   "outputs": [
    {
     "data": {
      "text/plain": [
       "20.09999999999991"
      ]
     },
     "execution_count": 49,
     "metadata": {},
     "output_type": "execute_result"
    }
   ],
   "source": [
    "fd_prima(10)"
   ]
  },
  {
   "cell_type": "markdown",
   "id": "aa053de2-7a3d-4a7f-994b-a56cbc148cbe",
   "metadata": {},
   "source": [
    "### Por detras"
   ]
  },
  {
   "cell_type": "code",
   "execution_count": 50,
   "id": "5b10d66d-65da-4b46-94b4-d40099471ff4",
   "metadata": {},
   "outputs": [],
   "source": [
    "def fa(x,h,f):\n",
    "    fa_prima = (f(x) - f(x-h)) / h\n",
    "    return fa"
   ]
  },
  {
   "cell_type": "code",
   "execution_count": 51,
   "id": "22d67e78-33ef-4fa4-b013-f8050a51588d",
   "metadata": {},
   "outputs": [
    {
     "data": {
      "text/plain": [
       "19.89999999999995"
      ]
     },
     "execution_count": 51,
     "metadata": {},
     "output_type": "execute_result"
    }
   ],
   "source": [
    "fa_prima(10, 0.1, f)"
   ]
  },
  {
   "cell_type": "markdown",
   "id": "6817870e-5a4b-43fb-9f4d-1de87e9e6e58",
   "metadata": {},
   "source": [
    "### Por el centro"
   ]
  },
  {
   "cell_type": "code",
   "execution_count": null,
   "id": "c88674a3-d669-4b36-bfe6-9cade45476a3",
   "metadata": {},
   "outputs": [],
   "source": [
    "def fc(f,x,h):\n",
    "    fac_prima = (f(x + h/2) - f(x - h/2))"
   ]
  }
 ],
 "metadata": {
  "kernelspec": {
   "display_name": "Python 3 (ipykernel)",
   "language": "python",
   "name": "python3"
  },
  "language_info": {
   "codemirror_mode": {
    "name": "ipython",
    "version": 3
   },
   "file_extension": ".py",
   "mimetype": "text/x-python",
   "name": "python",
   "nbconvert_exporter": "python",
   "pygments_lexer": "ipython3",
   "version": "3.13.7"
  }
 },
 "nbformat": 4,
 "nbformat_minor": 5
}
