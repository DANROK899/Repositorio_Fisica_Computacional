{
 "cells": [
  {
   "cell_type": "markdown",
   "metadata": {},
   "source": [
    "<h1 align=\"center\">Física Computacional.</h1>\n",
    "<h1 align=\"center\">Semestre 2026-1</h1>\n",
    "\n",
    "<h2>Sergio A. Alcalá Corona </h2> \n",
    "\n",
    "---\n",
    "### Joel Gómez Uribe\n",
    "### Rodrigo Vega Vilchis\n",
    "---"
   ]
  },
  {
   "cell_type": "markdown",
   "metadata": {},
   "source": [
    "<h1 align=\"center\">Programación para la física computacional</h1> \n",
    "\n",
    "## 1.1.4 Entrada y Salida de datos.\n",
    "\n",
    "---\n",
    "$\\;$\n",
    "## ENTRADA\n"
   ]
  },
  {
   "cell_type": "markdown",
   "metadata": {},
   "source": [
    "### Obtener datos desde el usuario\n",
    "\n",
    "Como ya hemos visto en algunos ejemplos, se puede pedir información del usuario y obtener datos insertados por el usuario directamente en la *linea de comandos* (donde se este interpretando `Python`), mediante el uso la función `input()` de la siguiente manera"
   ]
  },
  {
   "cell_type": "code",
   "execution_count": 5,
   "metadata": {},
   "outputs": [
    {
     "name": "stdin",
     "output_type": "stream",
     "text": [
      "Ingresa el valor de x:  1\n"
     ]
    },
    {
     "name": "stdout",
     "output_type": "stream",
     "text": [
      "El valor de x es 1\n"
     ]
    }
   ],
   "source": [
    "x = input(\"Ingresa el valor de x: \")\n",
    "print(\"El valor de x es\" , x)"
   ]
  },
  {
   "cell_type": "code",
   "execution_count": 6,
   "metadata": {},
   "outputs": [
    {
     "name": "stdin",
     "output_type": "stream",
     "text": [
      "Dame el valor de a:  2\n"
     ]
    },
    {
     "name": "stdout",
     "output_type": "stream",
     "text": [
      "El cuadrado de a es  4.0\n"
     ]
    }
   ],
   "source": [
    "a = float(input('Dame el valor de a: '))\n",
    "\n",
    "print(\"El cuadrado de a es \", a*a)"
   ]
  },
  {
   "cell_type": "code",
   "execution_count": 7,
   "metadata": {},
   "outputs": [
    {
     "name": "stdin",
     "output_type": "stream",
     "text": [
      "Ingresa el valor de la temperatura T:  3\n"
     ]
    },
    {
     "name": "stdout",
     "output_type": "stream",
     "text": [
      "El valor de T es 3.0\n"
     ]
    }
   ],
   "source": [
    "temp = input(\"Ingresa el valor de la temperatura T: \")\n",
    "T = float(temp)\n",
    "\n",
    "print(\"El valor de T es\" , T)"
   ]
  },
  {
   "cell_type": "code",
   "execution_count": 8,
   "metadata": {},
   "outputs": [
    {
     "name": "stdin",
     "output_type": "stream",
     "text": [
      "Ingresa el valor de y:  2\n"
     ]
    },
    {
     "name": "stdout",
     "output_type": "stream",
     "text": [
      "El valor de y es 2.0\n"
     ]
    }
   ],
   "source": [
    "y = float(input(\"Ingresa el valor de y: \"))\n",
    "print(\"El valor de y es\",y)"
   ]
  },
  {
   "cell_type": "markdown",
   "metadata": {},
   "source": [
    "Sin embargo, uno de los usos principales de Python para el cómputo científico es el de **procesar datos** generados en otro lado.\n",
    "\n",
    "Por lo tanto, es necesario saber cómo importar y exportar archivos.\n",
    "\n",
    "---\n",
    "\n",
    "### Cargar arreglos desde un archivo de texto\n",
    "\n",
    "Es posible tomar un conjunto de números guardados en un archivo de texto y convertirlos en un arreglo usando la biblioteca `loadtxt` de `numpy` de la siguiente manera:"
   ]
  },
  {
   "cell_type": "code",
   "execution_count": 9,
   "metadata": {},
   "outputs": [
    {
     "data": {
      "text/plain": [
       "array([ 1.,  2.,  3.,  4.,  5.,  6.,  7.,  8.,  9., 10., 11., 12., 13.,\n",
       "       14., 15.])"
      ]
     },
     "execution_count": 9,
     "metadata": {},
     "output_type": "execute_result"
    }
   ],
   "source": [
    "import numpy as np\n",
    "\n",
    "valores = np.loadtxt(\"valores.txt\",float)\n",
    "valores"
   ]
  },
  {
   "cell_type": "code",
   "execution_count": 10,
   "metadata": {},
   "outputs": [
    {
     "data": {
      "text/plain": [
       "array([ 1,  2,  3,  4,  5,  6,  7,  8,  9, 10, 11, 12, 13, 14, 15])"
      ]
     },
     "execution_count": 10,
     "metadata": {},
     "output_type": "execute_result"
    }
   ],
   "source": [
    "valores = np.loadtxt(\"valores.txt\",int)\n",
    "valores"
   ]
  },
  {
   "cell_type": "markdown",
   "metadata": {},
   "source": [
    "**Nota:** Solo funciona para archivos que contengan una sola linea, con valores separadaos ya sea por una coma o un tabulador."
   ]
  },
  {
   "cell_type": "markdown",
   "metadata": {},
   "source": [
    "Así entonces podriamos calcular su promedio (*aritmetico*):"
   ]
  },
  {
   "cell_type": "code",
   "execution_count": 11,
   "metadata": {},
   "outputs": [
    {
     "name": "stdout",
     "output_type": "stream",
     "text": [
      "8.0\n"
     ]
    }
   ],
   "source": [
    "promedio = sum(valores)/len(valores)\n",
    "print(promedio)"
   ]
  },
  {
   "cell_type": "markdown",
   "metadata": {},
   "source": [
    "o el promedio de los cuadrados:"
   ]
  },
  {
   "cell_type": "code",
   "execution_count": 12,
   "metadata": {},
   "outputs": [
    {
     "name": "stdout",
     "output_type": "stream",
     "text": [
      "82.66666666666667\n"
     ]
    }
   ],
   "source": [
    "promedio2 = sum(valores**2)/len(valores)\n",
    "print(promedio2)"
   ]
  },
  {
   "cell_type": "markdown",
   "metadata": {},
   "source": [
    "Pero también podemos calcular el promedio geometrico. \n",
    "\n",
    "Recordemos que el promedio geometrico de $n$ valores se define como:\n",
    "\n",
    "### $ \\displaystyle \\overline{x} = \\displaystyle \\left[ \\prod_{i = 1}^n x_i \\right]^{\\frac{1}{n}} $\n",
    "\n",
    "Tomando el logaritmo natural a ambos lados, tenemos:\n",
    "\n",
    "### $ \\displaystyle \\ln \\overline{x} = \\displaystyle \\ln \\left[ \\prod_{i = 1}^n x_i \\right]^{\\frac{1}{n}} = \\dfrac{1}{n} \\sum_{i = 1}^n \\ln x_i $\n",
    "\n",
    "de tal manera que:\n",
    "\n",
    "### $ \\displaystyle \\overline{x} = \\displaystyle \\exp \\left( \\dfrac{1}{n} \\sum_{i = 1}^n \\ln x_i \\right)$"
   ]
  },
  {
   "cell_type": "markdown",
   "metadata": {},
   "source": [
    "### **Ejercicio:** \n",
    "\n",
    "Ahora escribe un programa que realice la suma de los cuadrados de los valores tomados de un archivo de texto:\n",
    "\n",
    "<h4 align=\"center\">$\\displaystyle s = \\sum x^2 \\; \\; \\; \\forall x \\in V_{txt}$</h4> "
   ]
  },
  {
   "cell_type": "code",
   "execution_count": 13,
   "metadata": {},
   "outputs": [
    {
     "data": {
      "text/plain": [
       "array([  200.,   800.,  1800.,  3200.,  5000.,  7200.,  9800., 12800.,\n",
       "       16200., 20000., 24200., 28800., 33800., 39200., 45000.])"
      ]
     },
     "execution_count": 13,
     "metadata": {},
     "output_type": "execute_result"
    }
   ],
   "source": [
    "N = 100\n",
    "S = 0.0\n",
    "x = np.loadtxt(\"valores.txt\",int)\n",
    "\n",
    "for k in range(1, N+1):\n",
    "    S = S + x**2\n",
    "    S += x**2\n",
    "S"
   ]
  },
  {
   "cell_type": "markdown",
   "metadata": {},
   "source": [
    "### **Ejercicio:** \n",
    "\n",
    "\n",
    "Escribe un programa que lea el archivo `valores.txt` y los guarde en una arreglo de `numpy`. Calcula el promedio geometrico de dichos datos"
   ]
  },
  {
   "cell_type": "code",
   "execution_count": 14,
   "metadata": {},
   "outputs": [
    {
     "ename": "SyntaxError",
     "evalue": "invalid syntax (652343645.py, line 11)",
     "output_type": "error",
     "traceback": [
      "\u001b[0;36m  Cell \u001b[0;32mIn[14], line 11\u001b[0;36m\u001b[0m\n\u001b[0;31m    S = (1/n) mt.ln x\u001b[0m\n\u001b[0m              ^\u001b[0m\n\u001b[0;31mSyntaxError\u001b[0m\u001b[0;31m:\u001b[0m invalid syntax\n"
     ]
    }
   ],
   "source": [
    "import math as mt\n",
    "\n",
    "S = 0.0\n",
    "n = 1\n",
    "\n",
    "import numpy as np\n",
    "\n",
    "x = np.loadtxt(\"valores.txt\",int)\n",
    "\n",
    "for i in range(1, n+1):\n",
    "    S = (1/n) mt.ln x\n"
   ]
  },
  {
   "cell_type": "code",
   "execution_count": null,
   "metadata": {},
   "outputs": [],
   "source": [
    "\n",
    "\n"
   ]
  },
  {
   "cell_type": "code",
   "execution_count": null,
   "metadata": {},
   "outputs": [],
   "source": []
  },
  {
   "cell_type": "code",
   "execution_count": null,
   "metadata": {},
   "outputs": [],
   "source": []
  },
  {
   "cell_type": "markdown",
   "metadata": {},
   "source": [
    "### Leer archivos\n",
    "\n",
    "Para leer un archivo, primero es necesario abrirlo para leerse. Supongamos que tenemos un archivo llamado *datos.dat*, entonces lo podemos abrir para su lectura con:"
   ]
  },
  {
   "cell_type": "code",
   "execution_count": 158,
   "metadata": {},
   "outputs": [],
   "source": [
    "entrada = open(\"datos.dat\", \"r\")    # esto es un buffer"
   ]
  },
  {
   "cell_type": "markdown",
   "metadata": {},
   "source": [
    "El segundo argumento, `\"r\"`, es para indicar que se va a leer (*“read”*) el archivo. \n",
    "\n",
    "El objeto `entrada` ahora representa el archivo."
   ]
  },
  {
   "cell_type": "markdown",
   "metadata": {},
   "source": [
    "Para leer del archivo abierto, hay varias posibilidades. \n",
    "Podemos leer todo de un golpe con `entrada.read()`, \n",
    "\n",
    "leer todo por líneas con `entrada.readlines()`, \n",
    "\n",
    "o línea por línea con `entrada.readline()`. \n",
    "\n",
    "Sin embargo, lo que se ha leído ya no se puede leer de nuevo sin cerrar el archivo con `entrada.close()` y volverlo a abrir.\n",
    "\n",
    "Por ejemplo, podemos utilizar"
   ]
  },
  {
   "cell_type": "code",
   "execution_count": 146,
   "metadata": {
    "scrolled": true
   },
   "outputs": [
    {
     "data": {
      "text/plain": [
       "['0 \\t 8 \\n',\n",
       " '1 \\t 23 \\n',\n",
       " '2 \\t 48 \\n',\n",
       " '3 \\t 83 \\n',\n",
       " '4 \\t 128 \\n',\n",
       " '5 \\t 183 \\n',\n",
       " '6 \\t 248 \\n',\n",
       " '7 \\t 323 \\n',\n",
       " '8 \\t 408 \\n',\n",
       " '9 \\t 503 \\n',\n",
       " '10 \\t 608 \\n',\n",
       " '11 \\t 723 \\n',\n",
       " '12 \\t 848 \\n',\n",
       " '13 \\t 983 \\n',\n",
       " '14 \\t 1128 \\n',\n",
       " '15 \\t 1283 \\n',\n",
       " '16 \\t 1448 \\n',\n",
       " '17 \\t 1623 \\n',\n",
       " '18 \\t 1808 \\n',\n",
       " '19 \\t 2003 \\n',\n",
       " '20 \\t 2208 \\n',\n",
       " '21 \\t 2423 \\n',\n",
       " '22 \\t 2648 \\n',\n",
       " '23 \\t 2883 \\n',\n",
       " '24 \\t 3128 \\n',\n",
       " '25 \\t 3383 \\n',\n",
       " '26 \\t 3648 \\n',\n",
       " '27 \\t 3923 \\n',\n",
       " '28 \\t 4208 \\n',\n",
       " '29 \\t 4503 \\n',\n",
       " '30 \\t 4808 \\n',\n",
       " '31 \\t 5123 \\n',\n",
       " '32 \\t 5448 \\n',\n",
       " '33 \\t 5783 \\n',\n",
       " '34 \\t 6128 \\n',\n",
       " '35 \\t 6483 \\n',\n",
       " '36 \\t 6848 \\n',\n",
       " '37 \\t 7223 \\n',\n",
       " '38 \\t 7608 \\n',\n",
       " '39 \\t 8003 \\n',\n",
       " '40 \\t 8408 \\n',\n",
       " '41 \\t 8823 \\n',\n",
       " '42 \\t 9248 \\n',\n",
       " '43 \\t 9683 \\n',\n",
       " '44 \\t 10128 \\n',\n",
       " '45 \\t 10583 \\n',\n",
       " '46 \\t 11048 \\n',\n",
       " '47 \\t 11523 \\n',\n",
       " '48 \\t 12008 \\n',\n",
       " '49 \\t 12503 \\n',\n",
       " '50 \\t 13008 \\n',\n",
       " '51 \\t 13523 \\n',\n",
       " '52 \\t 14048 \\n',\n",
       " '53 \\t 14583 \\n',\n",
       " '54 \\t 15128 \\n',\n",
       " '55 \\t 15683 \\n',\n",
       " '56 \\t 16248 \\n',\n",
       " '57 \\t 16823 \\n',\n",
       " '58 \\t 17408 \\n',\n",
       " '59 \\t 18003 \\n',\n",
       " '60 \\t 18608 \\n',\n",
       " '61 \\t 19223 \\n',\n",
       " '62 \\t 19848 \\n',\n",
       " '63 \\t 20483 \\n',\n",
       " '64 \\t 21128 \\n',\n",
       " '65 \\t 21783 \\n',\n",
       " '66 \\t 22448 \\n',\n",
       " '67 \\t 23123 \\n',\n",
       " '68 \\t 23808 \\n',\n",
       " '69 \\t 24503 \\n',\n",
       " '70 \\t 25208 \\n',\n",
       " '71 \\t 25923 \\n',\n",
       " '72 \\t 26648 \\n',\n",
       " '73 \\t 27383 \\n',\n",
       " '74 \\t 28128 \\n',\n",
       " '75 \\t 28883 \\n',\n",
       " '76 \\t 29648 \\n',\n",
       " '77 \\t 30423 \\n',\n",
       " '78 \\t 31208 \\n',\n",
       " '79 \\t 32003 \\n',\n",
       " '80 \\t 32808 \\n',\n",
       " '81 \\t 33623 \\n',\n",
       " '82 \\t 34448 \\n',\n",
       " '83 \\t 35283 \\n',\n",
       " '84 \\t 36128 \\n',\n",
       " '85 \\t 36983 \\n',\n",
       " '86 \\t 37848 \\n',\n",
       " '87 \\t 38723 \\n',\n",
       " '88 \\t 39608 \\n',\n",
       " '89 \\t 40503 \\n',\n",
       " '90 \\t 41408 \\n',\n",
       " '91 \\t 42323 \\n',\n",
       " '92 \\t 43248 \\n',\n",
       " '93 \\t 44183 \\n',\n",
       " '94 \\t 45128 \\n',\n",
       " '95 \\t 46083 \\n',\n",
       " '96 \\t 47048 \\n',\n",
       " '97 \\t 48023 \\n',\n",
       " '98 \\t 49008 \\n',\n",
       " '99 \\t 50003 \\n']"
      ]
     },
     "execution_count": 146,
     "metadata": {},
     "output_type": "execute_result"
    }
   ],
   "source": [
    "entrada.readlines()"
   ]
  },
  {
   "cell_type": "code",
   "execution_count": 148,
   "metadata": {
    "scrolled": true
   },
   "outputs": [],
   "source": [
    "for linea in entrada.readlines():\n",
    "    print(linea)"
   ]
  },
  {
   "cell_type": "markdown",
   "metadata": {},
   "source": [
    "Sin embargo, tal vez la opción más fácil e intuitiva es:"
   ]
  },
  {
   "cell_type": "code",
   "execution_count": 149,
   "metadata": {},
   "outputs": [],
   "source": [
    "for linea in entrada:\n",
    "    print(linea)"
   ]
  },
  {
   "cell_type": "markdown",
   "metadata": {},
   "source": [
    "Es decir, el archivo ¡se comporta como una secuencia!\n",
    "\n",
    "Ahora bien, la línea viene como una sola cadena, con espacios etc. Para extraer la información, primero necesitamos dividirlo en palabras:"
   ]
  },
  {
   "cell_type": "code",
   "execution_count": 131,
   "metadata": {},
   "outputs": [],
   "source": [
    "palabras = linea.split()"
   ]
  },
  {
   "cell_type": "code",
   "execution_count": 103,
   "metadata": {},
   "outputs": [],
   "source": [
    "x = entrada.readlines()"
   ]
  },
  {
   "cell_type": "code",
   "execution_count": 104,
   "metadata": {
    "scrolled": true
   },
   "outputs": [
    {
     "data": {
      "text/plain": [
       "['0 \\t 8 \\n',\n",
       " '1 \\t 23 \\n',\n",
       " '2 \\t 48 \\n',\n",
       " '3 \\t 83 \\n',\n",
       " '4 \\t 128 \\n',\n",
       " '5 \\t 183 \\n',\n",
       " '6 \\t 248 \\n',\n",
       " '7 \\t 323 \\n',\n",
       " '8 \\t 408 \\n',\n",
       " '9 \\t 503 \\n',\n",
       " '10 \\t 608 \\n',\n",
       " '11 \\t 723 \\n',\n",
       " '12 \\t 848 \\n',\n",
       " '13 \\t 983 \\n',\n",
       " '14 \\t 1128 \\n',\n",
       " '15 \\t 1283 \\n',\n",
       " '16 \\t 1448 \\n',\n",
       " '17 \\t 1623 \\n',\n",
       " '18 \\t 1808 \\n',\n",
       " '19 \\t 2003 \\n',\n",
       " '20 \\t 2208 \\n',\n",
       " '21 \\t 2423 \\n',\n",
       " '22 \\t 2648 \\n',\n",
       " '23 \\t 2883 \\n',\n",
       " '24 \\t 3128 \\n',\n",
       " '25 \\t 3383 \\n',\n",
       " '26 \\t 3648 \\n',\n",
       " '27 \\t 3923 \\n',\n",
       " '28 \\t 4208 \\n',\n",
       " '29 \\t 4503 \\n',\n",
       " '30 \\t 4808 \\n',\n",
       " '31 \\t 5123 \\n',\n",
       " '32 \\t 5448 \\n',\n",
       " '33 \\t 5783 \\n',\n",
       " '34 \\t 6128 \\n',\n",
       " '35 \\t 6483 \\n',\n",
       " '36 \\t 6848 \\n',\n",
       " '37 \\t 7223 \\n',\n",
       " '38 \\t 7608 \\n',\n",
       " '39 \\t 8003 \\n',\n",
       " '40 \\t 8408 \\n',\n",
       " '41 \\t 8823 \\n',\n",
       " '42 \\t 9248 \\n',\n",
       " '43 \\t 9683 \\n',\n",
       " '44 \\t 10128 \\n',\n",
       " '45 \\t 10583 \\n',\n",
       " '46 \\t 11048 \\n',\n",
       " '47 \\t 11523 \\n',\n",
       " '48 \\t 12008 \\n',\n",
       " '49 \\t 12503 \\n',\n",
       " '50 \\t 13008 \\n',\n",
       " '51 \\t 13523 \\n',\n",
       " '52 \\t 14048 \\n',\n",
       " '53 \\t 14583 \\n',\n",
       " '54 \\t 15128 \\n',\n",
       " '55 \\t 15683 \\n',\n",
       " '56 \\t 16248 \\n',\n",
       " '57 \\t 16823 \\n',\n",
       " '58 \\t 17408 \\n',\n",
       " '59 \\t 18003 \\n',\n",
       " '60 \\t 18608 \\n',\n",
       " '61 \\t 19223 \\n',\n",
       " '62 \\t 19848 \\n',\n",
       " '63 \\t 20483 \\n',\n",
       " '64 \\t 21128 \\n',\n",
       " '65 \\t 21783 \\n',\n",
       " '66 \\t 22448 \\n',\n",
       " '67 \\t 23123 \\n',\n",
       " '68 \\t 23808 \\n',\n",
       " '69 \\t 24503 \\n',\n",
       " '70 \\t 25208 \\n',\n",
       " '71 \\t 25923 \\n',\n",
       " '72 \\t 26648 \\n',\n",
       " '73 \\t 27383 \\n',\n",
       " '74 \\t 28128 \\n',\n",
       " '75 \\t 28883 \\n',\n",
       " '76 \\t 29648 \\n',\n",
       " '77 \\t 30423 \\n',\n",
       " '78 \\t 31208 \\n',\n",
       " '79 \\t 32003 \\n',\n",
       " '80 \\t 32808 \\n',\n",
       " '81 \\t 33623 \\n',\n",
       " '82 \\t 34448 \\n',\n",
       " '83 \\t 35283 \\n',\n",
       " '84 \\t 36128 \\n',\n",
       " '85 \\t 36983 \\n',\n",
       " '86 \\t 37848 \\n',\n",
       " '87 \\t 38723 \\n',\n",
       " '88 \\t 39608 \\n',\n",
       " '89 \\t 40503 \\n',\n",
       " '90 \\t 41408 \\n',\n",
       " '91 \\t 42323 \\n',\n",
       " '92 \\t 43248 \\n',\n",
       " '93 \\t 44183 \\n',\n",
       " '94 \\t 45128 \\n',\n",
       " '95 \\t 46083 \\n',\n",
       " '96 \\t 47048 \\n',\n",
       " '97 \\t 48023 \\n',\n",
       " '98 \\t 49008 \\n',\n",
       " '99 \\t 50003 \\n']"
      ]
     },
     "execution_count": 104,
     "metadata": {},
     "output_type": "execute_result"
    }
   ],
   "source": [
    "x"
   ]
  },
  {
   "cell_type": "markdown",
   "metadata": {},
   "source": [
    "Si todos los datos en realidad son números, entonces tenemos que procesar cada palabra, convirtiéndola en un número:"
   ]
  },
  {
   "cell_type": "code",
   "execution_count": 100,
   "metadata": {},
   "outputs": [],
   "source": [
    "x = []\n",
    "\n",
    "for i in palabras:\n",
    "    #print(linea)\n",
    "    #print(linea.split())\n",
    "    M.append(linea.split())"
   ]
  },
  {
   "cell_type": "code",
   "execution_count": 101,
   "metadata": {},
   "outputs": [
    {
     "data": {
      "text/plain": [
       "array([], dtype=float64)"
      ]
     },
     "execution_count": 101,
     "metadata": {},
     "output_type": "execute_result"
    }
   ],
   "source": [
    "np.array(x)"
   ]
  },
  {
   "cell_type": "markdown",
   "metadata": {},
   "source": [
    "## REINICIO A MI VERSION"
   ]
  },
  {
   "cell_type": "code",
   "execution_count": 159,
   "metadata": {},
   "outputs": [],
   "source": [
    "entrada = open(\"datos.dat\", \"r\")    # esto es un buffer"
   ]
  },
  {
   "cell_type": "code",
   "execution_count": 160,
   "metadata": {},
   "outputs": [],
   "source": [
    "x = entrada.readlines()"
   ]
  },
  {
   "cell_type": "code",
   "execution_count": 161,
   "metadata": {
    "scrolled": true
   },
   "outputs": [
    {
     "data": {
      "text/plain": [
       "['0 \\t 8 \\n',\n",
       " '1 \\t 23 \\n',\n",
       " '2 \\t 48 \\n',\n",
       " '3 \\t 83 \\n',\n",
       " '4 \\t 128 \\n',\n",
       " '5 \\t 183 \\n',\n",
       " '6 \\t 248 \\n',\n",
       " '7 \\t 323 \\n',\n",
       " '8 \\t 408 \\n',\n",
       " '9 \\t 503 \\n',\n",
       " '10 \\t 608 \\n',\n",
       " '11 \\t 723 \\n',\n",
       " '12 \\t 848 \\n',\n",
       " '13 \\t 983 \\n',\n",
       " '14 \\t 1128 \\n',\n",
       " '15 \\t 1283 \\n',\n",
       " '16 \\t 1448 \\n',\n",
       " '17 \\t 1623 \\n',\n",
       " '18 \\t 1808 \\n',\n",
       " '19 \\t 2003 \\n',\n",
       " '20 \\t 2208 \\n',\n",
       " '21 \\t 2423 \\n',\n",
       " '22 \\t 2648 \\n',\n",
       " '23 \\t 2883 \\n',\n",
       " '24 \\t 3128 \\n',\n",
       " '25 \\t 3383 \\n',\n",
       " '26 \\t 3648 \\n',\n",
       " '27 \\t 3923 \\n',\n",
       " '28 \\t 4208 \\n',\n",
       " '29 \\t 4503 \\n',\n",
       " '30 \\t 4808 \\n',\n",
       " '31 \\t 5123 \\n',\n",
       " '32 \\t 5448 \\n',\n",
       " '33 \\t 5783 \\n',\n",
       " '34 \\t 6128 \\n',\n",
       " '35 \\t 6483 \\n',\n",
       " '36 \\t 6848 \\n',\n",
       " '37 \\t 7223 \\n',\n",
       " '38 \\t 7608 \\n',\n",
       " '39 \\t 8003 \\n',\n",
       " '40 \\t 8408 \\n',\n",
       " '41 \\t 8823 \\n',\n",
       " '42 \\t 9248 \\n',\n",
       " '43 \\t 9683 \\n',\n",
       " '44 \\t 10128 \\n',\n",
       " '45 \\t 10583 \\n',\n",
       " '46 \\t 11048 \\n',\n",
       " '47 \\t 11523 \\n',\n",
       " '48 \\t 12008 \\n',\n",
       " '49 \\t 12503 \\n',\n",
       " '50 \\t 13008 \\n',\n",
       " '51 \\t 13523 \\n',\n",
       " '52 \\t 14048 \\n',\n",
       " '53 \\t 14583 \\n',\n",
       " '54 \\t 15128 \\n',\n",
       " '55 \\t 15683 \\n',\n",
       " '56 \\t 16248 \\n',\n",
       " '57 \\t 16823 \\n',\n",
       " '58 \\t 17408 \\n',\n",
       " '59 \\t 18003 \\n',\n",
       " '60 \\t 18608 \\n',\n",
       " '61 \\t 19223 \\n',\n",
       " '62 \\t 19848 \\n',\n",
       " '63 \\t 20483 \\n',\n",
       " '64 \\t 21128 \\n',\n",
       " '65 \\t 21783 \\n',\n",
       " '66 \\t 22448 \\n',\n",
       " '67 \\t 23123 \\n',\n",
       " '68 \\t 23808 \\n',\n",
       " '69 \\t 24503 \\n',\n",
       " '70 \\t 25208 \\n',\n",
       " '71 \\t 25923 \\n',\n",
       " '72 \\t 26648 \\n',\n",
       " '73 \\t 27383 \\n',\n",
       " '74 \\t 28128 \\n',\n",
       " '75 \\t 28883 \\n',\n",
       " '76 \\t 29648 \\n',\n",
       " '77 \\t 30423 \\n',\n",
       " '78 \\t 31208 \\n',\n",
       " '79 \\t 32003 \\n',\n",
       " '80 \\t 32808 \\n',\n",
       " '81 \\t 33623 \\n',\n",
       " '82 \\t 34448 \\n',\n",
       " '83 \\t 35283 \\n',\n",
       " '84 \\t 36128 \\n',\n",
       " '85 \\t 36983 \\n',\n",
       " '86 \\t 37848 \\n',\n",
       " '87 \\t 38723 \\n',\n",
       " '88 \\t 39608 \\n',\n",
       " '89 \\t 40503 \\n',\n",
       " '90 \\t 41408 \\n',\n",
       " '91 \\t 42323 \\n',\n",
       " '92 \\t 43248 \\n',\n",
       " '93 \\t 44183 \\n',\n",
       " '94 \\t 45128 \\n',\n",
       " '95 \\t 46083 \\n',\n",
       " '96 \\t 47048 \\n',\n",
       " '97 \\t 48023 \\n',\n",
       " '98 \\t 49008 \\n',\n",
       " '99 \\t 50003 \\n']"
      ]
     },
     "execution_count": 161,
     "metadata": {},
     "output_type": "execute_result"
    }
   ],
   "source": [
    "x"
   ]
  },
  {
   "cell_type": "code",
   "execution_count": 162,
   "metadata": {},
   "outputs": [],
   "source": [
    "entrada.close()"
   ]
  },
  {
   "cell_type": "code",
   "execution_count": 163,
   "metadata": {},
   "outputs": [],
   "source": [
    "x = []\n",
    "for i in x:\n",
    "    palabras = x.split()\n",
    "    numeros = []\n",
    "    for palabra in palabras:\n",
    "        x.append(numeros)"
   ]
  },
  {
   "cell_type": "code",
   "execution_count": 165,
   "metadata": {},
   "outputs": [
    {
     "name": "stdout",
     "output_type": "stream",
     "text": [
      "[]\n"
     ]
    }
   ],
   "source": [
    "array_X = np.array(x)\n",
    "print(array_X)"
   ]
  },
  {
   "cell_type": "markdown",
   "metadata": {},
   "source": [
    "## REINICIO A VERSION DEL PROFE"
   ]
  },
  {
   "cell_type": "code",
   "execution_count": 49,
   "metadata": {},
   "outputs": [],
   "source": [
    "bote = open(\"datos.dat\", \"r\")    # esto es un buffer\n",
    "α = bote.readlines()"
   ]
  },
  {
   "cell_type": "code",
   "execution_count": 59,
   "metadata": {
    "scrolled": true
   },
   "outputs": [
    {
     "data": {
      "text/plain": [
       "['0 \\t 8 \\n',\n",
       " '1 \\t 23 \\n',\n",
       " '2 \\t 48 \\n',\n",
       " '3 \\t 83 \\n',\n",
       " '4 \\t 128 \\n',\n",
       " '5 \\t 183 \\n',\n",
       " '6 \\t 248 \\n',\n",
       " '7 \\t 323 \\n',\n",
       " '8 \\t 408 \\n',\n",
       " '9 \\t 503 \\n',\n",
       " '10 \\t 608 \\n',\n",
       " '11 \\t 723 \\n',\n",
       " '12 \\t 848 \\n',\n",
       " '13 \\t 983 \\n',\n",
       " '14 \\t 1128 \\n',\n",
       " '15 \\t 1283 \\n',\n",
       " '16 \\t 1448 \\n',\n",
       " '17 \\t 1623 \\n',\n",
       " '18 \\t 1808 \\n',\n",
       " '19 \\t 2003 \\n',\n",
       " '20 \\t 2208 \\n',\n",
       " '21 \\t 2423 \\n',\n",
       " '22 \\t 2648 \\n',\n",
       " '23 \\t 2883 \\n',\n",
       " '24 \\t 3128 \\n',\n",
       " '25 \\t 3383 \\n',\n",
       " '26 \\t 3648 \\n',\n",
       " '27 \\t 3923 \\n',\n",
       " '28 \\t 4208 \\n',\n",
       " '29 \\t 4503 \\n',\n",
       " '30 \\t 4808 \\n',\n",
       " '31 \\t 5123 \\n',\n",
       " '32 \\t 5448 \\n',\n",
       " '33 \\t 5783 \\n',\n",
       " '34 \\t 6128 \\n',\n",
       " '35 \\t 6483 \\n',\n",
       " '36 \\t 6848 \\n',\n",
       " '37 \\t 7223 \\n',\n",
       " '38 \\t 7608 \\n',\n",
       " '39 \\t 8003 \\n',\n",
       " '40 \\t 8408 \\n',\n",
       " '41 \\t 8823 \\n',\n",
       " '42 \\t 9248 \\n',\n",
       " '43 \\t 9683 \\n',\n",
       " '44 \\t 10128 \\n',\n",
       " '45 \\t 10583 \\n',\n",
       " '46 \\t 11048 \\n',\n",
       " '47 \\t 11523 \\n',\n",
       " '48 \\t 12008 \\n',\n",
       " '49 \\t 12503 \\n',\n",
       " '50 \\t 13008 \\n',\n",
       " '51 \\t 13523 \\n',\n",
       " '52 \\t 14048 \\n',\n",
       " '53 \\t 14583 \\n',\n",
       " '54 \\t 15128 \\n',\n",
       " '55 \\t 15683 \\n',\n",
       " '56 \\t 16248 \\n',\n",
       " '57 \\t 16823 \\n',\n",
       " '58 \\t 17408 \\n',\n",
       " '59 \\t 18003 \\n',\n",
       " '60 \\t 18608 \\n',\n",
       " '61 \\t 19223 \\n',\n",
       " '62 \\t 19848 \\n',\n",
       " '63 \\t 20483 \\n',\n",
       " '64 \\t 21128 \\n',\n",
       " '65 \\t 21783 \\n',\n",
       " '66 \\t 22448 \\n',\n",
       " '67 \\t 23123 \\n',\n",
       " '68 \\t 23808 \\n',\n",
       " '69 \\t 24503 \\n',\n",
       " '70 \\t 25208 \\n',\n",
       " '71 \\t 25923 \\n',\n",
       " '72 \\t 26648 \\n',\n",
       " '73 \\t 27383 \\n',\n",
       " '74 \\t 28128 \\n',\n",
       " '75 \\t 28883 \\n',\n",
       " '76 \\t 29648 \\n',\n",
       " '77 \\t 30423 \\n',\n",
       " '78 \\t 31208 \\n',\n",
       " '79 \\t 32003 \\n',\n",
       " '80 \\t 32808 \\n',\n",
       " '81 \\t 33623 \\n',\n",
       " '82 \\t 34448 \\n',\n",
       " '83 \\t 35283 \\n',\n",
       " '84 \\t 36128 \\n',\n",
       " '85 \\t 36983 \\n',\n",
       " '86 \\t 37848 \\n',\n",
       " '87 \\t 38723 \\n',\n",
       " '88 \\t 39608 \\n',\n",
       " '89 \\t 40503 \\n',\n",
       " '90 \\t 41408 \\n',\n",
       " '91 \\t 42323 \\n',\n",
       " '92 \\t 43248 \\n',\n",
       " '93 \\t 44183 \\n',\n",
       " '94 \\t 45128 \\n',\n",
       " '95 \\t 46083 \\n',\n",
       " '96 \\t 47048 \\n',\n",
       " '97 \\t 48023 \\n',\n",
       " '98 \\t 49008 \\n',\n",
       " '99 \\t 50003 \\n']"
      ]
     },
     "execution_count": 59,
     "metadata": {},
     "output_type": "execute_result"
    }
   ],
   "source": [
    "import numpy as np\n",
    "\n",
    "bote.close()\n",
    "α"
   ]
  },
  {
   "cell_type": "code",
   "execution_count": 60,
   "metadata": {},
   "outputs": [],
   "source": [
    "β = [] \n",
    "\n",
    "for i in α:\n",
    "    β.append(i.split())"
   ]
  },
  {
   "cell_type": "code",
   "execution_count": 61,
   "metadata": {
    "scrolled": true
   },
   "outputs": [
    {
     "data": {
      "text/plain": [
       "[['0', '8'],\n",
       " ['1', '23'],\n",
       " ['2', '48'],\n",
       " ['3', '83'],\n",
       " ['4', '128'],\n",
       " ['5', '183'],\n",
       " ['6', '248'],\n",
       " ['7', '323'],\n",
       " ['8', '408'],\n",
       " ['9', '503'],\n",
       " ['10', '608'],\n",
       " ['11', '723'],\n",
       " ['12', '848'],\n",
       " ['13', '983'],\n",
       " ['14', '1128'],\n",
       " ['15', '1283'],\n",
       " ['16', '1448'],\n",
       " ['17', '1623'],\n",
       " ['18', '1808'],\n",
       " ['19', '2003'],\n",
       " ['20', '2208'],\n",
       " ['21', '2423'],\n",
       " ['22', '2648'],\n",
       " ['23', '2883'],\n",
       " ['24', '3128'],\n",
       " ['25', '3383'],\n",
       " ['26', '3648'],\n",
       " ['27', '3923'],\n",
       " ['28', '4208'],\n",
       " ['29', '4503'],\n",
       " ['30', '4808'],\n",
       " ['31', '5123'],\n",
       " ['32', '5448'],\n",
       " ['33', '5783'],\n",
       " ['34', '6128'],\n",
       " ['35', '6483'],\n",
       " ['36', '6848'],\n",
       " ['37', '7223'],\n",
       " ['38', '7608'],\n",
       " ['39', '8003'],\n",
       " ['40', '8408'],\n",
       " ['41', '8823'],\n",
       " ['42', '9248'],\n",
       " ['43', '9683'],\n",
       " ['44', '10128'],\n",
       " ['45', '10583'],\n",
       " ['46', '11048'],\n",
       " ['47', '11523'],\n",
       " ['48', '12008'],\n",
       " ['49', '12503'],\n",
       " ['50', '13008'],\n",
       " ['51', '13523'],\n",
       " ['52', '14048'],\n",
       " ['53', '14583'],\n",
       " ['54', '15128'],\n",
       " ['55', '15683'],\n",
       " ['56', '16248'],\n",
       " ['57', '16823'],\n",
       " ['58', '17408'],\n",
       " ['59', '18003'],\n",
       " ['60', '18608'],\n",
       " ['61', '19223'],\n",
       " ['62', '19848'],\n",
       " ['63', '20483'],\n",
       " ['64', '21128'],\n",
       " ['65', '21783'],\n",
       " ['66', '22448'],\n",
       " ['67', '23123'],\n",
       " ['68', '23808'],\n",
       " ['69', '24503'],\n",
       " ['70', '25208'],\n",
       " ['71', '25923'],\n",
       " ['72', '26648'],\n",
       " ['73', '27383'],\n",
       " ['74', '28128'],\n",
       " ['75', '28883'],\n",
       " ['76', '29648'],\n",
       " ['77', '30423'],\n",
       " ['78', '31208'],\n",
       " ['79', '32003'],\n",
       " ['80', '32808'],\n",
       " ['81', '33623'],\n",
       " ['82', '34448'],\n",
       " ['83', '35283'],\n",
       " ['84', '36128'],\n",
       " ['85', '36983'],\n",
       " ['86', '37848'],\n",
       " ['87', '38723'],\n",
       " ['88', '39608'],\n",
       " ['89', '40503'],\n",
       " ['90', '41408'],\n",
       " ['91', '42323'],\n",
       " ['92', '43248'],\n",
       " ['93', '44183'],\n",
       " ['94', '45128'],\n",
       " ['95', '46083'],\n",
       " ['96', '47048'],\n",
       " ['97', '48023'],\n",
       " ['98', '49008'],\n",
       " ['99', '50003']]"
      ]
     },
     "execution_count": 61,
     "metadata": {},
     "output_type": "execute_result"
    }
   ],
   "source": [
    "β"
   ]
  },
  {
   "cell_type": "code",
   "execution_count": null,
   "metadata": {},
   "outputs": [],
   "source": []
  },
  {
   "cell_type": "code",
   "execution_count": 62,
   "metadata": {
    "scrolled": true
   },
   "outputs": [],
   "source": [
    "A = []\n",
    "B = []\n",
    "for j in β:\n",
    "    A.append(float(j[0]))\n",
    "    B.append(float(j[1]))"
   ]
  },
  {
   "cell_type": "code",
   "execution_count": 63,
   "metadata": {
    "scrolled": true
   },
   "outputs": [],
   "source": [
    "v1 = np.array(A)\n",
    "v2 = np.array(B)"
   ]
  },
  {
   "cell_type": "code",
   "execution_count": 64,
   "metadata": {},
   "outputs": [
    {
     "data": {
      "text/plain": [
       "array([ 0.,  1.,  2.,  3.,  4.,  5.,  6.,  7.,  8.,  9., 10., 11., 12.,\n",
       "       13., 14., 15., 16., 17., 18., 19., 20., 21., 22., 23., 24., 25.,\n",
       "       26., 27., 28., 29., 30., 31., 32., 33., 34., 35., 36., 37., 38.,\n",
       "       39., 40., 41., 42., 43., 44., 45., 46., 47., 48., 49., 50., 51.,\n",
       "       52., 53., 54., 55., 56., 57., 58., 59., 60., 61., 62., 63., 64.,\n",
       "       65., 66., 67., 68., 69., 70., 71., 72., 73., 74., 75., 76., 77.,\n",
       "       78., 79., 80., 81., 82., 83., 84., 85., 86., 87., 88., 89., 90.,\n",
       "       91., 92., 93., 94., 95., 96., 97., 98., 99.])"
      ]
     },
     "execution_count": 64,
     "metadata": {},
     "output_type": "execute_result"
    }
   ],
   "source": [
    "v1"
   ]
  },
  {
   "cell_type": "markdown",
   "metadata": {},
   "source": [
    "# "
   ]
  },
  {
   "cell_type": "code",
   "execution_count": null,
   "metadata": {},
   "outputs": [],
   "source": []
  },
  {
   "cell_type": "markdown",
   "metadata": {},
   "source": [
    "Resulta que hay una manera más fácil, de más alto nivel y más rápida de hacer esto:"
   ]
  },
  {
   "cell_type": "code",
   "execution_count": 1,
   "metadata": {},
   "outputs": [
    {
     "ename": "NameError",
     "evalue": "name 'palabras' is not defined",
     "output_type": "error",
     "traceback": [
      "\u001b[0;31m---------------------------------------------------------------------------\u001b[0m",
      "\u001b[0;31mNameError\u001b[0m                                 Traceback (most recent call last)",
      "Cell \u001b[0;32mIn[1], line 1\u001b[0m\n\u001b[0;32m----> 1\u001b[0m \u001b[38;5;28mmap\u001b[39m(\u001b[38;5;28mfloat\u001b[39m, \u001b[43mpalabras\u001b[49m)\n",
      "\u001b[0;31mNameError\u001b[0m: name 'palabras' is not defined"
     ]
    }
   ],
   "source": [
    "map(float, palabras)"
   ]
  },
  {
   "cell_type": "markdown",
   "metadata": {},
   "source": [
    "Eso literalmente mapea la función float sobre la lista palabras."
   ]
  },
  {
   "cell_type": "markdown",
   "metadata": {},
   "source": [
    "Combinando todo, podemos escribir:"
   ]
  },
  {
   "cell_type": "code",
   "execution_count": 25,
   "metadata": {},
   "outputs": [],
   "source": [
    "entrada = open(\"datos.dat\", \"r\")\n",
    "\n",
    "for linea in entrada:\n",
    "    datos = map(float, linea.split())"
   ]
  },
  {
   "cell_type": "markdown",
   "metadata": {},
   "source": [
    "Y ya dentro del bucle podemos manipular los datos como queramos."
   ]
  },
  {
   "cell_type": "markdown",
   "metadata": {},
   "source": [
    "### **Ejercicio:** \n",
    "\n",
    "Escribe un programa que lea el archivo `datos.dat` y guarde en una arreglo de `numpy` los datos de la primera columna y en otro diferente los datos de la segunda columna."
   ]
  },
  {
   "cell_type": "code",
   "execution_count": null,
   "metadata": {},
   "outputs": [],
   "source": []
  },
  {
   "cell_type": "code",
   "execution_count": null,
   "metadata": {},
   "outputs": [],
   "source": []
  },
  {
   "cell_type": "code",
   "execution_count": null,
   "metadata": {},
   "outputs": [],
   "source": []
  },
  {
   "cell_type": "markdown",
   "metadata": {},
   "source": [
    "### SALIDA\n",
    "\n",
    "Como ya hemos visto en el *interprete de comandos python*, en *ipython* o *Jupyter*, para mandar un resultado a la salida simplemente hay que definirlo y después escribirlo y presionar enter."
   ]
  },
  {
   "cell_type": "code",
   "execution_count": null,
   "metadata": {},
   "outputs": [],
   "source": [
    "a = 17.3\n",
    "a"
   ]
  },
  {
   "cell_type": "code",
   "execution_count": null,
   "metadata": {},
   "outputs": [],
   "source": [
    "b = \"hola\"\n",
    "b"
   ]
  },
  {
   "cell_type": "markdown",
   "metadata": {},
   "source": [
    "Adicionalmente se puede utilizar el comando `print()`"
   ]
  },
  {
   "cell_type": "code",
   "execution_count": null,
   "metadata": {},
   "outputs": [],
   "source": [
    "print(\"imprimiendo datos\", a, b)"
   ]
  },
  {
   "cell_type": "code",
   "execution_count": null,
   "metadata": {},
   "outputs": [],
   "source": []
  },
  {
   "cell_type": "markdown",
   "metadata": {},
   "source": [
    "### Escribir archivos\n",
    "\n",
    "Para mandar las salida del programa a un archivo (escribir), también se usa el comando `open()`; pero para este caso hay que generar un *`buffer`* de escritura, especificando se sera de escritura:\n",
    "\n",
    "`open(\"archoDeEscritura.dat\",`**`\"w\"`**`)`\n",
    "\n",
    "Para hacer eso, necesitamos poder abrir un archivo para escribirse:"
   ]
  },
  {
   "cell_type": "code",
   "execution_count": null,
   "metadata": {},
   "outputs": [],
   "source": [
    "salida = open(\"resultados.dat\", \"w\")  # Esto es un buffer de salida"
   ]
  },
  {
   "cell_type": "markdown",
   "metadata": {},
   "source": [
    "La parte más complicada viene al momento de escribir en el archivo. Para hacerlo, ocupamos la función:\n",
    "\n",
    "`salida.write()`"
   ]
  },
  {
   "cell_type": "markdown",
   "metadata": {},
   "source": [
    "Sin embargo, esta función puede escribir solamente cadenas. Por lo tanto, si queremos escribir números contenidos en variables, es necesario convertirlos primero a la forma de cadena.\n",
    "\n",
    "Una manera de hacer eso es con la función str(), y concatenar (juntar) distintas cadenas con +:\n",
    "\n"
   ]
  },
  {
   "cell_type": "code",
   "execution_count": null,
   "metadata": {},
   "outputs": [],
   "source": [
    "a = 3\n",
    "s = \"El valor de a es \" + str(a)\n",
    "\n",
    "print(s)"
   ]
  },
  {
   "cell_type": "markdown",
   "metadata": {},
   "source": [
    "Sin embargo, para largas secuencias de datos eso se vuelve latoso."
   ]
  },
  {
   "cell_type": "markdown",
   "metadata": {},
   "source": [
    "La manera más elegante de hacerlo es con la sustitución de variables en cadenas . En una cadena ponemos una secuencia especial de caracteres, empezando por `%`, que indica que se sustituirá el valor de una variable:"
   ]
  },
  {
   "cell_type": "code",
   "execution_count": null,
   "metadata": {},
   "outputs": [],
   "source": [
    "a = 3\n",
    "s = \"El valor de a es %d\" % a\n",
    "\n",
    "b = 3.5; c = 10.1\n",
    "s = \"b = %g; c = %g\" % (b, c)"
   ]
  },
  {
   "cell_type": "markdown",
   "metadata": {},
   "source": [
    "El carácter después del `%` indica el tipo de variable que incluir en la cadena: \n",
    "\n",
    "- **`d`** corresponde a un _**entero**_, \n",
    "\n",
    "\n",
    "- **`g`**  o **`f`**  a un _**flotante**_ y \n",
    "\n",
    "\n",
    "- **`s`**  a _**otra cadena**_.\n",
    "\n",
    "\n",
    "Finalmente ahora podemos imprimir en el archivo, por ejemplo:"
   ]
  },
  {
   "cell_type": "code",
   "execution_count": null,
   "metadata": {},
   "outputs": [],
   "source": [
    "salida.write(\" %g\\t %g\" % (a,b) )"
   ]
  },
  {
   "cell_type": "markdown",
   "metadata": {},
   "source": [
    "Aquí, **`\\t`** representa un tabulador, y **`\\n`** una nueva línea."
   ]
  },
  {
   "cell_type": "markdown",
   "metadata": {},
   "source": [
    "#### Ejemplo"
   ]
  },
  {
   "cell_type": "code",
   "execution_count": 70,
   "metadata": {},
   "outputs": [],
   "source": [
    "def fibonacci(n):\n",
    "    \n",
    "    output = []\n",
    "    \n",
    "    f1,f2 = 1,1\n",
    "\n",
    "    while f2 < n:\n",
    "        output.append(f2)        \n",
    "        f1,f2 = f2,f1+f2\n",
    "    \n",
    "    return output\n"
   ]
  },
  {
   "cell_type": "code",
   "execution_count": 71,
   "metadata": {},
   "outputs": [],
   "source": [
    "F100 = fibonacci(100)"
   ]
  },
  {
   "cell_type": "code",
   "execution_count": 72,
   "metadata": {},
   "outputs": [],
   "source": [
    "tubo = open(\"resutados.dat\",\"w\")"
   ]
  },
  {
   "cell_type": "code",
   "execution_count": 75,
   "metadata": {},
   "outputs": [],
   "source": [
    "for i in F100:\n",
    "    tubo.write(\"%d \\n\" % i)\n",
    "\n",
    "tubo.close()"
   ]
  },
  {
   "cell_type": "code",
   "execution_count": null,
   "metadata": {},
   "outputs": [],
   "source": []
  },
  {
   "cell_type": "code",
   "execution_count": null,
   "metadata": {},
   "outputs": [],
   "source": []
  },
  {
   "cell_type": "code",
   "execution_count": null,
   "metadata": {},
   "outputs": [],
   "source": []
  },
  {
   "cell_type": "code",
   "execution_count": null,
   "metadata": {},
   "outputs": [],
   "source": [
    "fibo = fibonacci(100)\n",
    "\n",
    "outputBuff = open(\"fibonacci.dat\", \"w\")\n",
    "\n",
    "for n in fibo:\n",
    "    outputBuff.write(\"%d \\n\" % n)\n",
    "#     outputBuff.write(\"%f \\n\" % n)\n",
    "\n",
    "outputBuff.close()"
   ]
  },
  {
   "cell_type": "code",
   "execution_count": null,
   "metadata": {},
   "outputs": [],
   "source": [
    "fibo2 = fibonacci(1000)\n",
    "\n",
    "with open(\"fibonacci2.dat\", 'a') as out:\n",
    "    for n in fibo2:\n",
    "        out.write(str(n) + '\\n')"
   ]
  },
  {
   "cell_type": "code",
   "execution_count": null,
   "metadata": {},
   "outputs": [],
   "source": []
  },
  {
   "cell_type": "code",
   "execution_count": null,
   "metadata": {},
   "outputs": [],
   "source": []
  },
  {
   "cell_type": "markdown",
   "metadata": {},
   "source": [
    "### **Ejercicio:** \n",
    "\n",
    "Usando los arreglos de `numpy` del ejercicio anterior, que contienen los datos recolectados del archivo `datos.dat`; escribe un programa que escriba **dos archivos de texto diferentes**, que guarden los datos de cada arreglo."
   ]
  },
  {
   "cell_type": "code",
   "execution_count": null,
   "metadata": {},
   "outputs": [],
   "source": []
  },
  {
   "cell_type": "code",
   "execution_count": null,
   "metadata": {},
   "outputs": [],
   "source": []
  },
  {
   "cell_type": "code",
   "execution_count": null,
   "metadata": {},
   "outputs": [],
   "source": []
  },
  {
   "cell_type": "code",
   "execution_count": null,
   "metadata": {},
   "outputs": [],
   "source": []
  },
  {
   "cell_type": "code",
   "execution_count": null,
   "metadata": {},
   "outputs": [],
   "source": []
  },
  {
   "cell_type": "markdown",
   "metadata": {},
   "source": [
    "## Scripts de Python."
   ]
  },
  {
   "cell_type": "markdown",
   "metadata": {},
   "source": [
    "Una vez que las secuencias de comandos se complican, podría pasar que queramos repetir la misma secuencia varias veces o bien reusar algunas secuencias de comandos, sin embargo esto significaría reescribir todo nuevamente en el interprete de comandos, o estar editando y volviendo a correr las celdas en *Jupyter*.\n",
    "\n",
    "Entonces sería conveniente poder guardar bloques de instrucciones completos y correrlos de una sola vez.\n",
    "Esto es posible realizando un *programa*, o _**script**_. \n",
    "\n",
    "Esto consiste en un **archivo de texto**, cuyo nombre termina en **.py**, en el cual se escribe y guarda la secuencia de comandos.\n",
    "\n",
    "Por ejemplo, consideremos el siguiente código: "
   ]
  },
  {
   "cell_type": "code",
   "execution_count": null,
   "metadata": {},
   "outputs": [],
   "source": [
    "from fractions import Fraction\n",
    "\n",
    "a = Fraction(3, 5)\n",
    "b = Fraction(1)\n",
    "c = a + b\n",
    "d = Fraction(4, 6)\n",
    "d \n",
    "e = a + d\n",
    "print(a,b,c,d,e)"
   ]
  },
  {
   "cell_type": "markdown",
   "metadata": {},
   "source": [
    "podemos escribirlo en un editor de textos y salvarlo como un archivo cuad.py. Y así entonces podemos correr el código desde **ipython** o _**Jupyter Notebook**_, de la siguiente manera:"
   ]
  },
  {
   "cell_type": "code",
   "execution_count": null,
   "metadata": {},
   "outputs": [],
   "source": [
    "run cuad.py"
   ]
  },
  {
   "cell_type": "markdown",
   "metadata": {},
   "source": [
    "**Nota:** si no estamos en el mismo directorio donde se guardo el archivo script.py, habrá que especificar la ruta relativa o absoluta según sea el caso."
   ]
  },
  {
   "cell_type": "markdown",
   "metadata": {},
   "source": [
    "Alternativamente, podemos tratar el script como un *programa* en sí, y **ejecutarlo desde la consola**:\n",
    "\n",
    "**`$>`**`python cuad.py`"
   ]
  },
  {
   "cell_type": "code",
   "execution_count": null,
   "metadata": {},
   "outputs": [],
   "source": []
  },
  {
   "cell_type": "markdown",
   "metadata": {},
   "source": [
    "Aunque no hay una forma rígida de programar, para escribir un buen script (programa) se puede seguir la siguiente estructura:\n",
    "\n",
    "- `Comentarios generales del programa`\n",
    "\n",
    "\n",
    "- `Importar bibliotecas (librerías o módulos)`\n",
    "\n",
    "\n",
    "- `Definir funciones`\n",
    "\n",
    "\n",
    "- `Definir variables globales`\n",
    "\n",
    "\n",
    "- `Comandos de entrada por parte del usuario (si es necesario)`\n",
    "\n",
    "\n",
    "- `Estructuras de control y/o cálculos`\n",
    "\n",
    "\n",
    "- `Comandos de salida (si es necesario)`"
   ]
  },
  {
   "cell_type": "markdown",
   "metadata": {},
   "source": [
    "Finalmente, es posible exportar los _**Cuadernos de Jupyter**_, como **scripts**, desde el menu *File*.\n",
    "Intentalo ..."
   ]
  },
  {
   "cell_type": "code",
   "execution_count": null,
   "metadata": {},
   "outputs": [],
   "source": []
  }
 ],
 "metadata": {
  "@webio": {
   "lastCommId": null,
   "lastKernelId": null
  },
  "kernelspec": {
   "display_name": "Python 3 (ipykernel)",
   "language": "python",
   "name": "python3"
  },
  "language_info": {
   "codemirror_mode": {
    "name": "ipython",
    "version": 3
   },
   "file_extension": ".py",
   "mimetype": "text/x-python",
   "name": "python",
   "nbconvert_exporter": "python",
   "pygments_lexer": "ipython3",
   "version": "3.10.12"
  }
 },
 "nbformat": 4,
 "nbformat_minor": 4
}
