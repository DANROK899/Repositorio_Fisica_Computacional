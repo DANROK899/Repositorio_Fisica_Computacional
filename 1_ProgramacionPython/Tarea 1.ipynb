{
 "cells": [
  {
   "cell_type": "markdown",
   "id": "affd8c9d-5c64-46a7-a9a1-b5eb46bb7bd0",
   "metadata": {},
   "source": [
    "# Programación Básica para la física computacional\n",
    "### Luis Daniel Amador Islas"
   ]
  },
  {
   "cell_type": "markdown",
   "id": "a80a748c-761a-4691-8f78-3cd8748f7e04",
   "metadata": {},
   "source": [
    "## 1. Altitud de un satélite: \n",
    "Se va a lanzar un satélite en una órbita circular alrededor de la tierra de modo que orbite el planeta una vez cada T segundos"
   ]
  },
  {
   "cell_type": "markdown",
   "id": "97419b04-cfb2-4b9e-9cbd-d4c693b09814",
   "metadata": {},
   "source": [
    "_a)_ Demuestre que la altitud $h$ sobre la superficie de la Tierra que debe tener el satélite es: \n",
    "$$\n",
    "h = \\left( \\frac{GM T^2}{4 \\pi^2} \\right)^{1/3} - R,\n",
    "$$\n",
    "donde $G = 6.67 \\times 10^{-11}\\text{m}^3\\text{kg}^{-1}\\text{s}^{-2}$ es la constante gravitatoria de Newton, $M = 5.97 \\times 10^{24}\\text{kg}$ es la mas de la Tierra y $R = 6371 \\text{km}$ es su radio."
   ]
  },
  {
   "cell_type": "markdown",
   "id": "b703bf6b-0db3-4f20-a402-01e2567c1830",
   "metadata": {},
   "source": [
    "RESPUESTA\n",
    "---\n",
    "Un satélite en órbita circular cumple que la fuerza gravitacional actúa como fuerza centrípeta:\n",
    "\n",
    "$$\n",
    "F_g = F_c\n",
    "$$\n",
    "\n",
    "---\n",
    "$$\n",
    "F_g = \\frac{GMm}{(R+h)^2}\n",
    "$$\n",
    "\n",
    "donde:\n",
    "- $G$ = constante gravitatoria universal,\n",
    "- $M$ = masa de la Tierra,\n",
    "- $R$ = radio de la Tierra,\n",
    "- $h$ = altura sobre la superficie.\n",
    "\n",
    "---\n",
    "\n",
    "$$\n",
    "F_c = m \\frac{v^2}{R+h}\n",
    "$$\n",
    "\n",
    "La velocidad en órbita circular de radio \\(R+h\\) es:\n",
    "\n",
    "$$\n",
    "v = \\frac{2\\pi (R+h)}{T}\n",
    "$$\n",
    "\n",
    "Elevando al cuadrado:\n",
    "\n",
    "$$\n",
    "v^2 = \\frac{4\\pi^2 (R+h)^2}{T^2}\n",
    "$$\n",
    "\n",
    "$$\n",
    "F_c = m \\frac{v^2}{R+h}\n",
    "= m \\frac{\\tfrac{4\\pi^2 (R+h)^2}{T^2}}{R+h}\n",
    "$$\n",
    "\n",
    "$$\n",
    "F_c = m \\frac{4\\pi^2 (R+h)}{T^2}\n",
    "$$\n",
    "\n",
    "$$\n",
    "\\frac{GMm}{(R+h)^2} = m \\frac{4\\pi^2 (R+h)}{T^2}\n",
    "$$\n",
    "\n",
    "Cancelamos $m$\n",
    "\n",
    "$$\n",
    "\\frac{GM}{(R+h)^2} = \\frac{4\\pi^2 (R+h)}{T^2}\n",
    "$$\n",
    "\n",
    "$$\n",
    "GM = \\frac{4\\pi^2 (R+h)^3}{T^2}\n",
    "$$\n",
    "\n",
    "$$\n",
    "(R+h)^3 = \\frac{GM T^2}{4\\pi^2}\n",
    "$$\n",
    "\n",
    "$$\n",
    "R+h = \\left(\\frac{GM T^2}{4\\pi^2}\\right)^{1/3}\n",
    "$$\n",
    "\n",
    "$$\n",
    "\\therefore \\boxed{\\quad h = \\left(\\frac{GM T^2}{4\\pi^2}\\right)^{1/3} - R}\n",
    "$$\n"
   ]
  },
  {
   "cell_type": "markdown",
   "id": "70ff2eb6-223c-4172-924d-ac96fb6314b3",
   "metadata": {},
   "source": [
    "_b)_ Escribe un programa que le pida al usuario que ingrese el valor deseado de T y luego calcula e imprima la altitud correcta en metros."
   ]
  },
  {
   "cell_type": "code",
   "execution_count": 14,
   "id": "8beac50f-408d-424c-b151-296350b3ff73",
   "metadata": {},
   "outputs": [
    {
     "name": "stdin",
     "output_type": "stream",
     "text": [
      "Ingresa el período orbital T en segundos:  2700\n"
     ]
    },
    {
     "name": "stdout",
     "output_type": "stream",
     "text": [
      "Período orbital: 2700.0 segundos\n",
      "Radio orbital: 4,189,434 metros\n",
      "Altitud sobre la Tierra: -2,181,566 metros\n",
      "Altitud en kilómetros: -2,182 km\n"
     ]
    }
   ],
   "source": [
    "#Constantes\n",
    "G = 6.67e-11  # Constante gravitacional\n",
    "M = 5.97e24   # Masa de la Tierra\n",
    "R = 6371000   # Radio de la Tierra en metros\n",
    "\n",
    "# Pedir el período orbital al usuario\n",
    "T = float(input(\"Ingresa el período orbital T en segundos: \"))\n",
    "\n",
    "# Calcular el radio orbital\n",
    "r = ((G * M * T**2) / (4 * 3.1416**2))**(1/3)\n",
    "\n",
    "# Calcular la altitud\n",
    "h = r - R\n",
    "\n",
    "# Resultados\n",
    "print(f\"Período orbital: {T} segundos\")\n",
    "print(f\"Radio orbital: {r:,.0f} metros\")\n",
    "print(f\"Altitud sobre la Tierra: {h:,.0f} metros\")\n",
    "print(f\"Altitud en kilómetros: {h/1000:,.0f} km\")"
   ]
  },
  {
   "cell_type": "markdown",
   "id": "e8dda3bf-1b2a-4ad5-ac16-08a9c6900a53",
   "metadata": {},
   "source": [
    "c) Utiliza tu programa para calcular las altitudes de los satélites que orbitan la Tiera una vez al día (la llamada órbita _geoestacionaria_), una vez cada **90 minutos** y una vez cada **45 minutos**. ¿Qué concluyes de este último cálculo?"
   ]
  },
  {
   "cell_type": "markdown",
   "id": "d2ee4a74-328b-49ec-94db-2078f56c58df",
   "metadata": {},
   "source": [
    "### 90 minutos\n",
    "- Período orbital: 5400.0 segundos \n",
    "- Radio orbital: 6,650,311 metros \n",
    "- Altitud sobre la Tierra: 279,311 metros\n",
    "- Altitud en kilómetros: 279 km "
   ]
  },
  {
   "cell_type": "markdown",
   "id": "dc8e3ad9-809a-4a5a-a7a0-aa5a60195d20",
   "metadata": {},
   "source": [
    "### 45 minutos\n",
    "- Período orbital: 2700.0 segundos\n",
    "- Radio orbital: 4,189,434 metros\n",
    "- Altitud sobre la Tierra: -2,181,566 metros\n",
    "- Altitud en kilómetros: -2,182 km"
   ]
  },
  {
   "cell_type": "markdown",
   "id": "553af80e-a44e-4036-b0de-03d928626c49",
   "metadata": {},
   "source": [
    "El satélite con período orbital de 45 minutos tiene una altitud negativa, lo cual es físicamente imposible, ya que un satélite no puede orbitar debajo de la superficie terrestre, violando de leyes físicas pues la orbita requeriría un radio menor que el de la Tierra misma. Por lo que el período es demasiado corto, para una órbita circular estable alrededor de la Tierra.\n",
    "Esto demuestra que no todos los períodos orbitales son físicamente posibles, deben cumplir con la condición de que el radio orbital sea mayor o igual al radio terrestre.\n"
   ]
  },
  {
   "cell_type": "markdown",
   "id": "a3f40962-9f22-4fd5-bbfe-213660fdf6ff",
   "metadata": {},
   "source": [
    "## 2. Paso de potencial cuántico:\n",
    "Un conocido problema de mecánica cuántica involucra una partícula de masa _m_ que encuentra un paso de potencial unidimensional, como este:"
   ]
  },
  {
   "cell_type": "code",
   "execution_count": 2,
   "id": "481f4d60-5a0c-423a-82aa-9ac70be7b828",
   "metadata": {},
   "outputs": [
    {
     "data": {
      "image/jpeg": "[encoded data removed]",
      "text/plain": [
       "<IPython.core.display.Image object>"
      ]
     },
     "execution_count": 2,
     "metadata": {},
     "output_type": "execute_result"
    }
   ],
   "source": [
    "from IPython.display import Image\n",
    "Image(filename= 'C:/Users/DANROK/Fisica_Computacional/Repositorio_Fisica_Computacional/1_ProgramacionPython/Diagrama_T1_E2.jpg')"
   ]
  },
  {
   "cell_type": "markdown",
   "id": "49a88708-d01d-486a-9031-c0cc5789ac58",
   "metadata": {},
   "source": [
    "La partícula con energía cinética inicial _E_ y vector de onda $k_1 = \\sqrt{2mE}/\\hbar$ entra por la izquierda y encuentra un salto repentino en la energía potencial de altura _V_ en la posicion $x = 0$. Resolviendo la ecuación de Scrödinger, se puede demostrar que cuando $E > V$ la partícula puede"
   ]
  },
  {
   "cell_type": "markdown",
   "id": "489728e8-1ccc-48b6-8009-70fb41aeec00",
   "metadata": {},
   "source": [
    "_a_) Pasar el escalón, en cuyo caso tiene una energía cinética menor a $E - V$ en el otro lado y un vector de onda correspondiente menor a $k_2 = \\sqrt{2m(E - V)}/\\hbar$, o bien"
   ]
  },
  {
   "cell_type": "markdown",
   "id": "552588f5-e53a-4448-bb01-45797e5a0aa9",
   "metadata": {},
   "source": [
    "RESPUESTA\n",
    "---\n",
    "Para E > V, la función de onda tiene la forma:\n",
    "$$ ψ₁(x) =  Ae^{(ik₁x)} + Be^{(-ik₁x)}$$ \n",
    "en la region (x < 0)\n",
    "\n",
    "Y $$ψ₂(x) = Ce^{(ik₂x)}$$ en la region (x ≥ 0)\n",
    "\n",
    "Aplicando condiciones de continuidad en x = 0:\n",
    "$$ ψ₁(0) = ψ₂(0) ⇒ A + B = C $$\n",
    "$$ \\frac{dψ₁}{dx(0)} = \\frac{dψ₂}{dx(0)} ⇒ ik₁(A - B) = ik₂C$$\n",
    "\n",
    "$$\n",
    "\\therefore \\boxed{T = \\frac{4k_1k_2}{(k_1 + k_2)^2}}\n",
    "$$"
   ]
  },
  {
   "cell_type": "markdown",
   "id": "9fd6bbd8-32b6-4aea-845c-e0744081a9a9",
   "metadata": {},
   "source": [
    "_b_) Reflejarse, manteniendo toda su energía cinética y un vector de onda sin cambios, pero moviéndose en la dirección opuesta. Las probabilidades _T_ y _R_ de transmisión y reflexión están dadas por:\n",
    "$$\n",
    "T = \\frac{4k_1k_2}{(k_1 + k_2)^2} \\, , R= \\left(\\frac{k_1 - k_2}{k_1 + k_2} \\right)^2.\n",
    "$$"
   ]
  },
  {
   "cell_type": "markdown",
   "id": "ad049cdb-ed2f-4bbc-bfdd-b97e5b7c5111",
   "metadata": {},
   "source": [
    "RESPUESTA\n",
    "---\n",
    "Para que se cumpla que T + R = 1 lo que garantiza la conservación de la probabilidad. Demostramos que $ T + R = 1 $ cuando $ E > V $ usando que:\n",
    "\n",
    "$$\n",
    "T + R = \\frac{4k_1k_2}{(k_1 + k_2)^2} + \\left( \\frac{k_1 - k_2}{k_1 + k_2} \\right)^2\n",
    "$$\n",
    "\n",
    "Escribimos ambos términos con denominador común $(k_1 + k_2)^2$\n",
    "$$\n",
    "⇒T + R = \\frac{4k_1k_2}{(k_1 + k_2)^2} + \\frac{(k_1 - k_2)^2}{(k_1 + k_2)^2}\n",
    "$$\n",
    "\n",
    "$$\n",
    "⇒T + R = \\frac{4k_1k_2 + (k_1 - k_2)^2}{(k_1 + k_2)^2}\n",
    "$$\n",
    "\n",
    "$$\n",
    "⇒(k_1 - k_2)^2 = k_1^2 - 2k_1k_2 + k_2^2\n",
    "$$\n",
    "$$\n",
    "⇒4k_1k_2 + (k_1 - k_2)^2 = 4k_1k_2 + k_1^2 - 2k_1k_2 + k_2^2 = k_1^2 + 2k_1k_2 + k_2^2\n",
    "$$\n",
    "\n",
    "$$\n",
    "⇒k_1^2 + 2k_1k_2 + k_2^2 = (k_1 + k_2)^2\n",
    "$$\n",
    "\n",
    "$$\n",
    "\\therefore \\boxed{T + R = \\frac{(k_1 + k_2)^2}{(k_1 + k_2)^2} = 1}\n",
    "$$\n",
    "\n",
    "Esto significa que toda partícula incidente debe ser transmitida o reflejada, sin pérdida de probabilidad."
   ]
  },
  {
   "cell_type": "markdown",
   "id": "04ee7d7d-83f4-420a-a496-fdd80c3547b4",
   "metadata": {},
   "source": [
    "Supongamos que tenemos una partícula con una masa igual a la masa del electrón. $m = 9.11 \\times 10^{-31} \\text{kg}$ y energía de $10 \\text{eV}$, al encontrar un escalón de potencial de altura $9\\text{eV}$. Escribe un programa en <tt>Python</tt> para calcular e imprimir las probabilidades de transmisíon y reflexión utilizando las fórmulas anteriores."
   ]
  },
  {
   "cell_type": "code",
   "execution_count": 2,
   "id": "18811125-763d-4d97-ac00-69aa576056c9",
   "metadata": {},
   "outputs": [
    {
     "name": "stdout",
     "output_type": "stream",
     "text": [
      "Vector de onda k₁: 6.485e+00 m⁻¹\n",
      "Vector de onda k₂: 2.051e+00 m⁻¹\n",
      "\n",
      "Probabilidad de transmisión T: 0.730126\n",
      "Probabilidad de reflexión R: 0.269874\n",
      "Suma T + R: 1.000000\n"
     ]
    }
   ],
   "source": [
    "# Constantes físicas\n",
    "m = 9.11e-31  # kg (masa del electrón)\n",
    "E = 10.0      # eV (energía)\n",
    "V = 9.0       # eV (altura del potencial)\n",
    "hbar = 6.582e-16  # ħ en eV·s\n",
    "\n",
    "# Calcular vectores de onda\n",
    "import math\n",
    "k1 = math.sqrt(2 * m * E) / hbar\n",
    "k2 = math.sqrt(2 * m * (E - V)) / hbar\n",
    "\n",
    "# Calcular probabilidades\n",
    "T = (4 * k1 * k2) / ((k1 + k2)**2)\n",
    "R = ((k1 - k2) / (k1 + k2))**2\n",
    "\n",
    "# Mostrar resultados\n",
    "print(f\"Vector de onda k₁: {k1:.3e} m⁻¹\")\n",
    "print(f\"Vector de onda k₂: {k2:.3e} m⁻¹\")\n",
    "print()\n",
    "print(f\"Probabilidad de transmisión T: {T:.6f}\")\n",
    "print(f\"Probabilidad de reflexión R: {R:.6f}\")\n",
    "print(f\"Suma T + R: {T + R:.6f}\")"
   ]
  },
  {
   "cell_type": "markdown",
   "id": "f71fd2d8-9b13-474b-9ff2-6c5abc483149",
   "metadata": {},
   "source": [
    "## 3. Órbitas Planetarias:\n",
    "En el espacio, la órbita de un cuerpo alrededor de otro (como un planeta alrededor del Sol), no necesariamente es circular. En general, toma la forma de una elipse, con el cuerpo a veces más cerca y otras más lejos. Si tenemos la distancia $\\ell$ de máxima aproximación de un planeta al Sol (su <i>perihelio</i>), y su velocidad lineal $v_1$ en el perihelio, entonces cualquier otra propiedad de la órbita se puede calcular a partir de estas dos cantidades de la siguiente manera:"
   ]
  },
  {
   "cell_type": "markdown",
   "id": "b78d8ea6-c4f9-4993-896e-d7a9a8cda62a",
   "metadata": {},
   "source": [
    "_a_) La segunda le de Kepler nos dice que la distancia $\\ell_2$ y la velocidad $v_2$ del planeta en su punto más distante, o <i>afelio</i>, satisfacen que $\\ell_2v_2 = \\ell_1v_1$. Al mismo tiempo. la energía total, cinética más la gravitatoria, de un planeta con velocidad $v$ y distancia $r$ del Sol está dada por:\n",
    "$$\n",
    "E = \\frac{1}{2}mv^2 - G\\frac{mM}{r},\n",
    "$$\n",
    "donde $m$ es la masa del planeta, $M = 1.9891 \\times 10^30 \\text{kg}$ es la masa del Sol y $G = 6.6738 \\times 10^{-11}\\text{m}^3\\text{kg}^{-1}\\text{s}^{-2}$ es la constante gravitatoria de Newton. Dado que la energía debe conservarse, demuestra que $v_2$ es la raíz más pequeña de la ecuación cuadrática:\n",
    "$$\n",
    "v^2_2 - \\frac{2GM}{v_1\\ell_1}v_2 - \\left[ v_1 - \\frac{2GM}{\\ell_1} \\right] = 0\n",
    "$$\n",
    "Una vez que tenemos $v_2$ podemos calcular $\\ell_2$ usando la relación $\\ell_2 = \\ell_1v_1/v_2$."
   ]
  },
  {
   "cell_type": "markdown",
   "id": "5991a550-b430-4709-82ce-23a976016d88",
   "metadata": {},
   "source": [
    "RESPUESTA\n",
    "---\n",
    "Utilizando la conservación de la energía y la segunda ley de Kepler.\n",
    "- En el perihelio: distancia $ \\ell_1 $, velocidad $ v_1 $\n",
    "- En el afelio: distancia $ \\ell_2 $, velocidad $ v_2 $\n",
    "- Segunda ley de Kepler: $ \\ell_1 v_1 = \\ell_2 v_2 $  (conservación del momento angular)\n",
    "- Conservación de la energía:\n",
    "  $$\n",
    "  E = \\frac{1}{2} m v_1^2 - G \\frac{m M}{\\ell_1} = \\frac{1}{2} m v_2^2 - G \\frac{m M}{\\ell_2}\n",
    "  $$\n",
    "\n",
    "\n",
    "De la segunda ley de Kepler expresamos $ \\ell_2 $ en términos de $ v_2 $\n",
    "$$\n",
    "\\ell_2 = \\frac{\\ell_1 v_1}{v_2}\n",
    "$$\n",
    "\n",
    "E igualamos las energías en perihelio y afelio\n",
    "$$\n",
    "\\frac{1}{2} v_1^2 - G \\frac{M}{\\ell_1} = \\frac{1}{2} v_2^2 - G \\frac{M}{\\ell_2}\n",
    "$$\n",
    "$$\n",
    "⇒\\frac{1}{2} v_1^2 - G \\frac{M}{\\ell_1} = \\frac{1}{2} v_2^2 - G \\frac{M}{\\frac{\\ell_1 v_1}{v_2}}\n",
    "$$\n",
    "$$\n",
    "⇒G \\frac{M}{\\ell_2} = G \\frac{M v_2}{\\ell_1 v_1}\n",
    "$$\n",
    "$$\n",
    "⇒\\frac{1}{2} v_1^2 - G \\frac{M}{\\ell_1} = \\frac{1}{2} v_2^2 - G \\frac{M v_2}{\\ell_1 v_1}\n",
    "$$\n",
    "\n",
    "Reorganizando  la ecuación\n",
    "$$\n",
    "⇒ v_1^2 - \\frac{2 G M}{\\ell_1} = v_2^2 - \\frac{2 G M v_2}{\\ell_1 v_1}\n",
    "$$\n",
    "$$\n",
    "⇒ v_2^2 - \\frac{2 G M v_2}{\\ell_1 v_1} - v_1^2 + \\frac{2 G M}{\\ell_1} = 0\n",
    "$$\n",
    "$$\n",
    "⇒ v_2^2 - \\frac{2 G M}{\\ell_1 v_1} v_2 - \\left( v_1^2 - \\frac{2 G M}{\\ell_1} \\right) = 0\n",
    "$$\n",
    "\n",
    "Esta es una ecuación cuadrática en $ v_2 $:\n",
    "$$\n",
    "⇒v_2^2 - \\left( \\frac{2 G M}{\\ell_1 v_1} \\right) v_2 - \\left( v_1^2 - \\frac{2 G M}{\\ell_1} \\right) = 0\n",
    "$$\n",
    "Que coincide con la forma dada:\n",
    "$$\n",
    "v_2^2 - \\frac{2 G M}{v_1 \\ell_1} v_2 - \\left[ v_1^2 - \\frac{2 G M}{\\ell_1} \\right] = 0\n",
    "$$\n",
    "\n",
    "$$\n",
    "⇒v_2^2 - A v_2 - B = 0\n",
    "$$\n",
    "donde\n",
    " $$ A = \\frac{2 G M}{v_1 \\ell_1} $$ y\n",
    " $$ B = v_1^2 - \\frac{2 G M}{\\ell_1} $$\n",
    "\n",
    "Las raíces son:\n",
    "$$\n",
    "v_2 = \\frac{A \\pm \\sqrt{A^2 + 4B}}{2}\n",
    "$$\n",
    "\n",
    "Dado que $ v_2 $ debe ser menor que $ v_1 $ (en el afelio la velocidad es mínima), tomamos la raíz más pequeña.\n",
    "$$\n",
    "⇒\\ell_2 = \\frac{\\ell_1 v_1}{v_2}\n",
    "$$\n"
   ]
  },
  {
   "cell_type": "markdown",
   "id": "7090b555-0dc5-4376-bd1c-0b4af9e50f89",
   "metadata": {},
   "source": [
    "_b_) Dados los valores de $v_1$, $\\ell_1$, y $\\ell_2$; otros parámetros de la órbita se obtienen mendiante fórmulas simples que pueden derivarse de las leyes de Kepler y del hecho de que la órbita es una elipse:\n",
    "$$\n",
    "\\text{Semieje mayor:} \\, a = \\frac{1}{2}(\\ell_1 + \\ell_2),\n",
    "$$\n",
    "$$\n",
    "\\text{Semieje menor:} \\, b = \\sqrt{\\ell_1\\ell_2},\n",
    "$$\n",
    "$$\n",
    "\\text{Período orbital:} \\, T = \\frac{2\\pi ab}{\\ell_1v_1},\n",
    "$$\n",
    "$$\n",
    "\\text{Excentricidad orbital:} \\, e = \\frac{\\ell_2 - \\ell_1}{\\ell_2 + \\ell_1}.\n",
    "$$\n",
    "Escribe un programa que le pida al usuario que ingrese la distancia al Sol y la velocidad en el perihelio; para que calcule e imprima las cantidades $\\ell_2$, $v_2$, $T$ y $e$."
   ]
  },
  {
   "cell_type": "code",
   "execution_count": 25,
   "id": "d49cb536-4207-4c55-b05e-e573299eb9d1",
   "metadata": {},
   "outputs": [
    {
     "name": "stdin",
     "output_type": "stream",
     "text": [
      "Distancia al Sol en el perihelio (m):  8.7830e10\n",
      "Velocidad en el perihelio (m/s):  5.4529e4\n"
     ]
    },
    {
     "name": "stdout",
     "output_type": "stream",
     "text": [
      "Distancia en afelio (l2): 5.282e+12 m\n",
      "Velocidad en afelio (v2): 9.067e+02 m/s\n",
      "Semieje mayor (a): 2.685e+12 m\n",
      "Semieje menor (b): 6.811e+11 m\n",
      "Período orbital: 27769.82 días\n",
      "Excentricidad (e): 0.967289\n"
     ]
    }
   ],
   "source": [
    "# Constantes\n",
    "G = 6.6738e-11       # Constante gravitacional\n",
    "M_sol = 1.9891e30    # Masa del Sol\n",
    "\n",
    "# Pedir datos al usuario\n",
    "l1 = float(input(\"Distancia al Sol en el perihelio (m): \"))\n",
    "v1 = float(input(\"Velocidad en el perihelio (m/s): \"))\n",
    "\n",
    "# Calcular velocidad y distancia en el afelio\n",
    "A = (2 * G * M_sol) / (v1 * l1)\n",
    "B = v1**2 - (2 * G * M_sol) / l1\n",
    "\n",
    "import math\n",
    "discriminante = A**2 + 4 * B\n",
    "v2 = (A - math.sqrt(discriminante)) / 2\n",
    "l2 = (l1 * v1) / v2\n",
    "\n",
    "# Calcular parámetros orbitales\n",
    "a = 0.5 * (l1 + l2)                   # Semieje mayor\n",
    "b = math.sqrt(l1 * l2)                 # Semieje menor\n",
    "T = (2 * math.pi * a * b) / (l1 * v1)  # Período orbital (segundos)\n",
    "e = (l2 - l1) / (l2 + l1)             # Excentricidad\n",
    "\n",
    "# Convertir período a días\n",
    "T_dias = T / 86400\n",
    "\n",
    "# Resultados\n",
    "print(f\"Distancia en afelio (l2): {l2:.3e} m\")\n",
    "print(f\"Velocidad en afelio (v2): {v2:.3e} m/s\")\n",
    "print(f\"Semieje mayor (a): {a:.3e} m\")\n",
    "print(f\"Semieje menor (b): {b:.3e} m\")\n",
    "print(f\"Período orbital: {T_dias:.2f} días\")\n",
    "print(f\"Excentricidad (e): {e:.6f}\")"
   ]
  },
  {
   "cell_type": "markdown",
   "id": "2557e5cf-b326-4cbd-bee9-3e84d755898f",
   "metadata": {},
   "source": [
    "_c_) Prueba tu programa haciendo que calcule las propiedades de las órbitas de la Tierra (para las cuales $\\ell_1 = 1.4710 \\times 10^{11} \\text{m}$ y $v_1 = 3.0287 \\times 10^4 \\text{ms}^{-1}$) y del cometa Halley ($\\ell_1 = 8.7830 \\times 10^{10} \\text{m}$ y $v_1 = 5.4529 \\times 10^4 \\text{ms}^{-1}$). Entre otras cosas, deberías enontrar que el período orbital de la Tierra es de un año y el del cometa Halley es de unos 76 años."
   ]
  },
  {
   "cell_type": "markdown",
   "id": "0b044efa-85d1-4ba2-84d4-2811d30c8cb8",
   "metadata": {},
   "source": [
    "### Tierra\n",
    "- Distancia al Sol en el perihelio (m):  1.4710e11\n",
    "- Velocidad en el perihelio (m/s):  3.0287e4\n",
    "- Distancia en afelio (l2): 1.520e+11 m\n",
    "- Velocidad en afelio (v2): 2.931e+04 m/s\n",
    "- Semieje mayor (a): 1.496e+11 m\n",
    "- Semieje menor (b): 1.495e+11 m\n",
    "- Período orbital: 365.08 días\n",
    "- Excentricidad (e): 0.016472"
   ]
  },
  {
   "cell_type": "markdown",
   "id": "ff18df75-932c-4824-8c83-75b21372e631",
   "metadata": {},
   "source": [
    "### Halley \n",
    "- Distancia al Sol en el perihelio (m):  8.7830e10\n",
    "- Velocidad en el perihelio (m/s):  5.4529e4\n",
    "- Distancia en afelio (l2): 5.282e+12 m\n",
    "- Velocidad en afelio (v2): 9.067e+02 m/s\n",
    "- Semieje mayor (a): 2.685e+12 m\n",
    "- Semieje menor (b): 6.811e+11 m\n",
    "- Período orbital: 27769.82 días\n",
    "- Excentricidad (e): 0.967289"
   ]
  }
 ],
 "metadata": {
  "kernelspec": {
   "display_name": "Python 3 (ipykernel)",
   "language": "python",
   "name": "python3"
  },
  "language_info": {
   "codemirror_mode": {
    "name": "ipython",
    "version": 3
   },
   "file_extension": ".py",
   "mimetype": "text/x-python",
   "name": "python",
   "nbconvert_exporter": "python",
   "pygments_lexer": "ipython3",
   "version": "3.13.7"
  }
 },
 "nbformat": 4,
 "nbformat_minor": 5
}
